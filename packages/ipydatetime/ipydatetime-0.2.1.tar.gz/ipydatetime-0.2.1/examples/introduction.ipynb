{
 "cells": [
  {
   "cell_type": "markdown",
   "metadata": {},
   "source": [
    "# Introduction"
   ]
  },
  {
   "cell_type": "markdown",
   "metadata": {},
   "source": [
    "This package is meant to supply widgets for picking a time and a datetime, using the default HTML5 input controls. For a date-onpy input, use the one in ipywidgets core (`ipywidgets.DatePicker`)."
   ]
  },
  {
   "cell_type": "markdown",
   "metadata": {},
   "source": [
    "## The time picker\n",
    "\n",
    "To create a time picker, use the `TimerPicker` widget from `ipydatetime`:"
   ]
  },
  {
   "cell_type": "code",
   "execution_count": 1,
   "metadata": {},
   "outputs": [],
   "source": [
    "import ipydatetime\n",
    "import ipywidgets\n",
    "import datetime"
   ]
  },
  {
   "cell_type": "code",
   "execution_count": 2,
   "metadata": {},
   "outputs": [],
   "source": [
    "time_picker = ipydatetime.TimePicker()"
   ]
  },
  {
   "cell_type": "code",
   "execution_count": 3,
   "metadata": {},
   "outputs": [
    {
     "data": {
      "application/vnd.jupyter.widget-view+json": {
       "model_id": "b24f54aa641d4fe49e4beac94343cf45",
       "version_major": 2,
       "version_minor": 0
      },
      "text/plain": [
       "TimePicker(value=None, step=60.0)"
      ]
     },
     "metadata": {},
     "output_type": "display_data"
    }
   ],
   "source": [
    "time_picker"
   ]
  },
  {
   "cell_type": "markdown",
   "metadata": {},
   "source": [
    "Here is a label showing how the kernel will format this value. Note that if the locale setting of the browser and kernel are different, the formatting of the time might also differ:"
   ]
  },
  {
   "cell_type": "code",
   "execution_count": 4,
   "metadata": {},
   "outputs": [
    {
     "data": {
      "application/vnd.jupyter.widget-view+json": {
       "model_id": "6d407128234c45e0a989d9e178c2a982",
       "version_major": 2,
       "version_minor": 0
      },
      "text/plain": [
       "Label(value='None')"
      ]
     },
     "metadata": {},
     "output_type": "display_data"
    }
   ],
   "source": [
    "time_lbl = ipywidgets.Label()\n",
    "\n",
    "def update_time(change=None):\n",
    "    time_lbl.value = str(time_picker.value)\n",
    "\n",
    "update_time()\n",
    "time_picker.observe(update_time, names='value')\n",
    "\n",
    "time_lbl"
   ]
  },
  {
   "cell_type": "markdown",
   "metadata": {},
   "source": [
    "By default, the browser only shows hours/minutes. To input seconds and optionally milliseconds, either give an initial value with non-zero seconds (milliseconds), or specify a smaller `step` attribute. "
   ]
  },
  {
   "cell_type": "code",
   "execution_count": 5,
   "metadata": {},
   "outputs": [
    {
     "data": {
      "application/vnd.jupyter.widget-view+json": {
       "model_id": "311e85758dc84fb0b8f0457d398b4c48",
       "version_major": 2,
       "version_minor": 0
      },
      "text/plain": [
       "TimePicker(value=datetime.time(23, 15, 32), step=1.0)"
      ]
     },
     "metadata": {},
     "output_type": "display_data"
    }
   ],
   "source": [
    "ipydatetime.TimePicker(value=datetime.time(23, 15, 32), step=1)"
   ]
  },
  {
   "cell_type": "code",
   "execution_count": 6,
   "metadata": {},
   "outputs": [
    {
     "data": {
      "application/vnd.jupyter.widget-view+json": {
       "model_id": "24124bab205a4e9fac54b06fb0b636da",
       "version_major": 2,
       "version_minor": 0
      },
      "text/plain": [
       "TimePicker(value=datetime.time(23, 15, 32, 7000), step=0.001)"
      ]
     },
     "metadata": {},
     "output_type": "display_data"
    }
   ],
   "source": [
    "ipydatetime.TimePicker(value=datetime.time(23, 15, 32, 7000), step=0.001)"
   ]
  },
  {
   "cell_type": "code",
   "execution_count": 7,
   "metadata": {},
   "outputs": [
    {
     "data": {
      "application/vnd.jupyter.widget-view+json": {
       "model_id": "76bd0d1bd8644a19889898c8b1823574",
       "version_major": 2,
       "version_minor": 0
      },
      "text/plain": [
       "TimePicker(value=datetime.time(23, 15), step=5.0)"
      ]
     },
     "metadata": {},
     "output_type": "display_data"
    }
   ],
   "source": [
    "ipydatetime.TimePicker(value=datetime.time(23, 15), step=5)"
   ]
  },
  {
   "cell_type": "code",
   "execution_count": 8,
   "metadata": {},
   "outputs": [
    {
     "data": {
      "application/vnd.jupyter.widget-view+json": {
       "model_id": "47e8f5179c014b7687871f134ff7a888",
       "version_major": 2,
       "version_minor": 0
      },
      "text/plain": [
       "TimePicker(value=datetime.time(23, 15), step=0.1)"
      ]
     },
     "metadata": {},
     "output_type": "display_data"
    }
   ],
   "source": [
    "ipydatetime.TimePicker(value=datetime.time(23, 15), step=0.1)"
   ]
  },
  {
   "cell_type": "markdown",
   "metadata": {},
   "source": [
    "## The datetime picker\n",
    "\n",
    "To create a datetime picker, use the `DatetimePicker` widget from `ipydatetime`:"
   ]
  },
  {
   "cell_type": "code",
   "execution_count": 9,
   "metadata": {},
   "outputs": [],
   "source": [
    "datetime_picker = ipydatetime.DatetimePicker()"
   ]
  },
  {
   "cell_type": "code",
   "execution_count": 10,
   "metadata": {},
   "outputs": [
    {
     "data": {
      "application/vnd.jupyter.widget-view+json": {
       "model_id": "466d55461a544360a5be7cb138a40332",
       "version_major": 2,
       "version_minor": 0
      },
      "text/plain": [
       "DatetimePicker(value=None)"
      ]
     },
     "metadata": {},
     "output_type": "display_data"
    }
   ],
   "source": [
    "datetime_picker"
   ]
  },
  {
   "cell_type": "markdown",
   "metadata": {},
   "source": [
    "Here is a label showing how the kernel will format this value. As for the `TimePicker`, if the locale setting of the browser and kernel are different, the formatting of the datetime might also differ."
   ]
  },
  {
   "cell_type": "code",
   "execution_count": 11,
   "metadata": {},
   "outputs": [
    {
     "data": {
      "application/vnd.jupyter.widget-view+json": {
       "model_id": "c8cf8dfac09749ec8f6c28e8ef4b484a",
       "version_major": 2,
       "version_minor": 0
      },
      "text/plain": [
       "Label(value='None')"
      ]
     },
     "metadata": {},
     "output_type": "display_data"
    }
   ],
   "source": [
    "datetime_lbl = ipywidgets.Label()\n",
    "\n",
    "def update_datetime(change=None):\n",
    "    if datetime_picker.value is None:\n",
    "        datetime_lbl.value = 'None'\n",
    "    else:\n",
    "        # Present it using kernel system timezone:\n",
    "        datetime_lbl.value = str(datetime_picker.value)\n",
    "\n",
    "update_datetime()\n",
    "datetime_picker.observe(update_datetime, names='value')\n",
    "\n",
    "datetime_lbl"
   ]
  },
  {
   "cell_type": "markdown",
   "metadata": {},
   "source": [
    "### Time zones\n",
    "\n",
    "There are two points worth to note with regards to timezones:\n",
    "- The browser always picks datetimes using *its* timezone.\n",
    "- The kernel always gets the datetimes in the default system timezone of the kernel (see https://docs.python.org/3/library/datetime.html#datetime.datetime.astimezone with `None` as the argument).\n",
    "\n",
    "This means that if the kernel and browser have different timezones, the default formatting of the timezones might differ (though they will represent the same point in time)."
   ]
  },
  {
   "cell_type": "code",
   "execution_count": 12,
   "metadata": {},
   "outputs": [
    {
     "data": {
      "application/vnd.jupyter.widget-view+json": {
       "model_id": "e755e6f7579d4544b97809cba9695497",
       "version_major": 2,
       "version_minor": 0
      },
      "text/plain": [
       "DatetimePicker(value=datetime.datetime(2000, 1, 1, 0, 0, tzinfo=<DstTzInfo 'Australia/Sydney' LMT+10:05:00 STD…"
      ]
     },
     "metadata": {},
     "output_type": "display_data"
    }
   ],
   "source": [
    "import pytz\n",
    "ipydatetime.DatetimePicker(value=datetime.datetime(\n",
    "    2000, 1, 1, 0, 0, tzinfo=pytz.timezone('Australia/Sydney')))"
   ]
  }
 ],
 "metadata": {
  "kernelspec": {
   "display_name": "Python 3",
   "language": "python",
   "name": "python3"
  },
  "language_info": {
   "codemirror_mode": {
    "name": "ipython",
    "version": 3
   },
   "file_extension": ".py",
   "mimetype": "text/x-python",
   "name": "python",
   "nbconvert_exporter": "python",
   "pygments_lexer": "ipython3",
   "version": "3.7.1"
  },
  "widgets": {
   "application/vnd.jupyter.widget-state+json": {
    "state": {
     "01e0163566b2478c830b93d10aad4dcb": {
      "model_module": "@jupyter-widgets/base",
      "model_module_version": "1.2.0",
      "model_name": "LayoutModel",
      "state": {}
     },
     "12eee58f36be4112aaf2567d15bc889c": {
      "model_module": "@jupyter-widgets/base",
      "model_module_version": "1.2.0",
      "model_name": "LayoutModel",
      "state": {}
     },
     "17dc5e667b1d4bebbcb43bdbb9cb1c5f": {
      "model_module": "@jupyter-widgets/controls",
      "model_module_version": "1.5.0",
      "model_name": "DescriptionStyleModel",
      "state": {
       "description_width": ""
      }
     },
     "24124bab205a4e9fac54b06fb0b636da": {
      "model_module": "jupyter-widget-datetime",
      "model_module_version": "^0.1.0",
      "model_name": "TimeModel",
      "state": {
       "_model_module_version": "^0.1.0",
       "_view_module_version": "^0.1.0",
       "layout": "IPY_MODEL_64295dc398cb4a5baa97c2c29f0b3dd7",
       "step": 0.001,
       "style": "IPY_MODEL_5951d3271fef4f8392accf7356034049",
       "value": {
        "hours": 23,
        "milliseconds": 7,
        "minutes": 15,
        "seconds": 32
       }
      }
     },
     "2ded0056821047b788454b9ff3b95477": {
      "model_module": "@jupyter-widgets/controls",
      "model_module_version": "1.5.0",
      "model_name": "DescriptionStyleModel",
      "state": {
       "description_width": ""
      }
     },
     "309b09852a8d4889b0a254f5eaafd0b7": {
      "model_module": "@jupyter-widgets/base",
      "model_module_version": "1.2.0",
      "model_name": "LayoutModel",
      "state": {}
     },
     "311e85758dc84fb0b8f0457d398b4c48": {
      "model_module": "jupyter-widget-datetime",
      "model_module_version": "^0.1.0",
      "model_name": "TimeModel",
      "state": {
       "_model_module_version": "^0.1.0",
       "_view_module_version": "^0.1.0",
       "layout": "IPY_MODEL_e1255d7b535a4a6e91e321cbfb98b6c0",
       "step": 1,
       "style": "IPY_MODEL_b7c74ea9aaaf476eb0fe1f782efa71ad",
       "value": {
        "hours": 23,
        "milliseconds": 0,
        "minutes": 15,
        "seconds": 32
       }
      }
     },
     "466d55461a544360a5be7cb138a40332": {
      "model_module": "jupyter-widget-datetime",
      "model_module_version": "^0.1.0",
      "model_name": "DatetimeModel",
      "state": {
       "_model_module_version": "^0.1.0",
       "_model_name": "DatetimeModel",
       "_view_module_version": "^0.1.0",
       "_view_name": "DatetimeView",
       "layout": "IPY_MODEL_309b09852a8d4889b0a254f5eaafd0b7",
       "style": "IPY_MODEL_8f67eee1319f4a848eb672418e823460"
      }
     },
     "47e8f5179c014b7687871f134ff7a888": {
      "model_module": "jupyter-widget-datetime",
      "model_module_version": "^0.1.0",
      "model_name": "TimeModel",
      "state": {
       "_model_module_version": "^0.1.0",
       "_view_module_version": "^0.1.0",
       "layout": "IPY_MODEL_01e0163566b2478c830b93d10aad4dcb",
       "step": 0.1,
       "style": "IPY_MODEL_f013be5bff594e9e89cd5cb21e916cf3",
       "value": {
        "hours": 23,
        "milliseconds": 0,
        "minutes": 15,
        "seconds": 0
       }
      }
     },
     "543edf88081c485888e7b1a2a0fc92b8": {
      "model_module": "@jupyter-widgets/base",
      "model_module_version": "1.2.0",
      "model_name": "LayoutModel",
      "state": {}
     },
     "5951d3271fef4f8392accf7356034049": {
      "model_module": "@jupyter-widgets/controls",
      "model_module_version": "1.5.0",
      "model_name": "DescriptionStyleModel",
      "state": {
       "description_width": ""
      }
     },
     "637b69fa4dc64a28ba4f8fe8b0fcc21e": {
      "model_module": "@jupyter-widgets/base",
      "model_module_version": "1.2.0",
      "model_name": "LayoutModel",
      "state": {}
     },
     "64295dc398cb4a5baa97c2c29f0b3dd7": {
      "model_module": "@jupyter-widgets/base",
      "model_module_version": "1.2.0",
      "model_name": "LayoutModel",
      "state": {}
     },
     "6d407128234c45e0a989d9e178c2a982": {
      "model_module": "@jupyter-widgets/controls",
      "model_module_version": "1.5.0",
      "model_name": "LabelModel",
      "state": {
       "layout": "IPY_MODEL_f87b04ab632943b3b1ca8b0d103f6f25",
       "style": "IPY_MODEL_17dc5e667b1d4bebbcb43bdbb9cb1c5f",
       "value": "None"
      }
     },
     "76bd0d1bd8644a19889898c8b1823574": {
      "model_module": "jupyter-widget-datetime",
      "model_module_version": "^0.1.0",
      "model_name": "TimeModel",
      "state": {
       "_model_module_version": "^0.1.0",
       "_view_module_version": "^0.1.0",
       "layout": "IPY_MODEL_12eee58f36be4112aaf2567d15bc889c",
       "step": 5,
       "style": "IPY_MODEL_ffe45087597f46b49de3325b26314a40",
       "value": {
        "hours": 23,
        "milliseconds": 0,
        "minutes": 15,
        "seconds": 0
       }
      }
     },
     "8f67eee1319f4a848eb672418e823460": {
      "model_module": "@jupyter-widgets/controls",
      "model_module_version": "1.5.0",
      "model_name": "DescriptionStyleModel",
      "state": {
       "description_width": ""
      }
     },
     "b24f54aa641d4fe49e4beac94343cf45": {
      "model_module": "jupyter-widget-datetime",
      "model_module_version": "^0.1.0",
      "model_name": "TimeModel",
      "state": {
       "_model_module_version": "^0.1.0",
       "_view_module_version": "^0.1.0",
       "layout": "IPY_MODEL_637b69fa4dc64a28ba4f8fe8b0fcc21e",
       "style": "IPY_MODEL_2ded0056821047b788454b9ff3b95477"
      }
     },
     "b7c74ea9aaaf476eb0fe1f782efa71ad": {
      "model_module": "@jupyter-widgets/controls",
      "model_module_version": "1.5.0",
      "model_name": "DescriptionStyleModel",
      "state": {
       "description_width": ""
      }
     },
     "bcfaf370b66d47098ff6287efe6ac0b2": {
      "model_module": "@jupyter-widgets/base",
      "model_module_version": "1.2.0",
      "model_name": "LayoutModel",
      "state": {}
     },
     "c8cf8dfac09749ec8f6c28e8ef4b484a": {
      "model_module": "@jupyter-widgets/controls",
      "model_module_version": "1.5.0",
      "model_name": "LabelModel",
      "state": {
       "layout": "IPY_MODEL_543edf88081c485888e7b1a2a0fc92b8",
       "style": "IPY_MODEL_e832922e937c4ec5b28633ae1b2fdbda",
       "value": "None"
      }
     },
     "d9f91debe5b849a488f4b98d9723e0d3": {
      "model_module": "@jupyter-widgets/controls",
      "model_module_version": "1.5.0",
      "model_name": "DescriptionStyleModel",
      "state": {
       "description_width": ""
      }
     },
     "e1255d7b535a4a6e91e321cbfb98b6c0": {
      "model_module": "@jupyter-widgets/base",
      "model_module_version": "1.2.0",
      "model_name": "LayoutModel",
      "state": {}
     },
     "e755e6f7579d4544b97809cba9695497": {
      "model_module": "jupyter-widget-datetime",
      "model_module_version": "^0.1.0",
      "model_name": "DatetimeModel",
      "state": {
       "_model_module_version": "^0.1.0",
       "_model_name": "DatetimeModel",
       "_view_module_version": "^0.1.0",
       "_view_name": "DatetimeView",
       "layout": "IPY_MODEL_bcfaf370b66d47098ff6287efe6ac0b2",
       "style": "IPY_MODEL_d9f91debe5b849a488f4b98d9723e0d3",
       "value": {
        "date": 31,
        "hours": 13,
        "milliseconds": 0,
        "minutes": 55,
        "month": 11,
        "seconds": 0,
        "year": 1999
       }
      }
     },
     "e832922e937c4ec5b28633ae1b2fdbda": {
      "model_module": "@jupyter-widgets/controls",
      "model_module_version": "1.5.0",
      "model_name": "DescriptionStyleModel",
      "state": {
       "description_width": ""
      }
     },
     "f013be5bff594e9e89cd5cb21e916cf3": {
      "model_module": "@jupyter-widgets/controls",
      "model_module_version": "1.5.0",
      "model_name": "DescriptionStyleModel",
      "state": {
       "description_width": ""
      }
     },
     "f87b04ab632943b3b1ca8b0d103f6f25": {
      "model_module": "@jupyter-widgets/base",
      "model_module_version": "1.2.0",
      "model_name": "LayoutModel",
      "state": {}
     },
     "ffe45087597f46b49de3325b26314a40": {
      "model_module": "@jupyter-widgets/controls",
      "model_module_version": "1.5.0",
      "model_name": "DescriptionStyleModel",
      "state": {
       "description_width": ""
      }
     }
    },
    "version_major": 2,
    "version_minor": 0
   }
  }
 },
 "nbformat": 4,
 "nbformat_minor": 2
}
