{
  "nbformat": 4,
  "nbformat_minor": 0,
  "metadata": {
    "colab": {
      "name": "GymIgnition.ipynb",
      "provenance": [],
      "collapsed_sections": []
    },
    "kernelspec": {
      "name": "python3",
      "display_name": "Python 3"
    }
  },
  "cells": [
    {
      "cell_type": "markdown",
      "metadata": {
        "id": "eM1VjwzYj6ty",
        "colab_type": "text"
      },
      "source": [
        "# Gym Ignition Example"
      ]
    },
    {
      "cell_type": "markdown",
      "metadata": {
        "id": "OmfdKqSnkBiw",
        "colab_type": "text"
      },
      "source": [
        "## Installation"
      ]
    },
    {
      "cell_type": "code",
      "metadata": {
        "id": "Qzte7pe6jzGF",
        "colab_type": "code",
        "colab": {}
      },
      "source": [
        "# Disable stdout (use output.show() to print it)\n",
        "%%capture --no-stderr output\n",
        "\n",
        "# INSTALL CMAKE, SWIG, NINJA\n",
        "!\\\n",
        "    wget -O - https://apt.kitware.com/keys/kitware-archive-latest.asc 2>/dev/null | sudo apt-key add - &&\\\n",
        "    apt-add-repository 'deb https://apt.kitware.com/ubuntu/ bionic main' &&\\\n",
        "    apt-get -qq update &&\\\n",
        "    apt-get -qq install cmake swig ninja-build\n",
        "\n",
        "# INSTALL IGNITION LIBRARIES\n",
        "!\\\n",
        "    apt-get -qq update &&\\\n",
        "    echo \"deb http://packages.osrfoundation.org/gazebo/ubuntu-stable `lsb_release -cs` main\" > /etc/apt/sources.list.d/gazebo-stable.list &&\\\n",
        "    echo \"deb http://packages.osrfoundation.org/gazebo/ubuntu-prerelease `lsb_release -cs` main\" > /etc/apt/sources.list.d/gazebo-prerelease.list &&\\\n",
        "    echo \"deb http://packages.osrfoundation.org/gazebo/ubuntu-nightly `lsb_release -cs` main\" > /etc/apt/sources.list.d/gazebo-prerelease.list &&\\\n",
        "    wget http://packages.osrfoundation.org/gazebo.key -O - | apt-key add - &&\\\n",
        "    apt-get -qq update &&\\\n",
        "    apt-get -qq install -y --no-install-recommends \\\n",
        "        libgflags-dev \\\n",
        "        libignition-cmake2-dev \\\n",
        "        libignition-plugin-dev \\\n",
        "        libignition-math6-dev \\\n",
        "        libignition-common3-dev \\\n",
        "        libignition-transport7-dev \\\n",
        "        libignition-msgs4-dev \\\n",
        "        libignition-tools-dev \\\n",
        "        libignition-fuel-tools3-dev \\\n",
        "        libsdformat8-dev \\\n",
        "        libignition-physics-dev \\\n",
        "        libignition-rendering-dev \\\n",
        "        libignition-sensors2-dev \\\n",
        "        libignition-gui2-dev"
      ],
      "execution_count": 0,
      "outputs": []
    },
    {
      "cell_type": "code",
      "metadata": {
        "id": "SSaAtuop-0Yx",
        "colab_type": "code",
        "colab": {}
      },
      "source": [
        "# Disable stdout (use output.show() to print it)\n",
        "%%capture --no-stderr output\n",
        "\n",
        "# INSTALL IGNITION GAZEBO\n",
        "!\\\n",
        "    cd /tmp &&\\\n",
        "    rm -rf ign-gazebo &&\\\n",
        "    git clone --depth 1 https://github.com/diegoferigo/ign-gazebo &&\\\n",
        "    cd ign-gazebo && mkdir -p build && cd build &&\\\n",
        "    cmake -DCMAKE_INSTALL_PREFIX=/usr -DCMAKE_BUILD_TYPE=\"Release\" -DBUILD_TESTING:BOOL=OFF .. &&\\\n",
        "    cmake --build . --target install -- -j8 &&\\\n",
        "    rm -r /tmp/ign-gazebo"
      ],
      "execution_count": 0,
      "outputs": []
    },
    {
      "cell_type": "code",
      "metadata": {
        "id": "xVwacjF22a8x",
        "colab_type": "code",
        "colab": {
          "base_uri": "https://localhost:8080/",
          "height": 173
        },
        "outputId": "0f12ef24-ae99-495d-fdcd-9fbdfa7f957a"
      },
      "source": [
        "# INSTALL GYM IGNITION\n",
        "# Note that we have to prepend the PATH variable in order to get the updated CMake\n",
        "!PATH=/usr/bin:$PATH pip3 install gym-ignition"
      ],
      "execution_count": 7,
      "outputs": [
        {
          "output_type": "stream",
          "text": [
            "Requirement already satisfied: gym-ignition in /usr/local/lib/python3.6/dist-packages (1.0.dev2)\n",
            "Requirement already satisfied: numpy in /usr/local/lib/python3.6/dist-packages (from gym-ignition) (1.16.5)\n",
            "Requirement already satisfied: gym>=0.13.1 in /usr/local/lib/python3.6/dist-packages (from gym-ignition) (0.14.0)\n",
            "Requirement already satisfied: pybullet in /usr/local/lib/python3.6/dist-packages (from gym-ignition) (2.5.6)\n",
            "Requirement already satisfied: scipy in /usr/local/lib/python3.6/dist-packages (from gym>=0.13.1->gym-ignition) (1.3.1)\n",
            "Requirement already satisfied: pyglet<=1.3.2,>=1.2.0 in /usr/local/lib/python3.6/dist-packages (from gym>=0.13.1->gym-ignition) (1.3.2)\n",
            "Requirement already satisfied: six in /usr/local/lib/python3.6/dist-packages (from gym>=0.13.1->gym-ignition) (1.12.0)\n",
            "Requirement already satisfied: cloudpickle~=1.2.0 in /usr/local/lib/python3.6/dist-packages (from gym>=0.13.1->gym-ignition) (1.2.2)\n",
            "Requirement already satisfied: future in /usr/local/lib/python3.6/dist-packages (from pyglet<=1.3.2,>=1.2.0->gym>=0.13.1->gym-ignition) (0.16.0)\n"
          ],
          "name": "stdout"
        }
      ]
    },
    {
      "cell_type": "code",
      "metadata": {
        "id": "YXEwhh0h26Cj",
        "colab_type": "code",
        "colab": {}
      },
      "source": [
        "# CONFIGURE THE ENVIRONMENT\n",
        "import os\n",
        "import gym_ignition\n",
        "import gym_ignition_data\n",
        "\n",
        "data_path = gym_ignition_data.get_data_path()\n",
        "module_path = gym_ignition.__path__[0]\n",
        "\n",
        "os.environ['IGN_GAZEBO_SYSTEM_PLUGIN_PATH'] = f\"{module_path}/plugins\"\n",
        "os.environ['IGN_GAZEBO_RESOURCE_PATH'] = f\"{data_path}:{data_path}/worlds\""
      ],
      "execution_count": 0,
      "outputs": []
    },
    {
      "cell_type": "code",
      "metadata": {
        "id": "38A4Q2Rmd29V",
        "colab_type": "code",
        "outputId": "96983434-0227-4717-ff66-58b0c885ebba",
        "colab": {
          "base_uri": "https://localhost:8080/",
          "height": 243
        }
      },
      "source": [
        "%%capture --no-stderr --no-stdout output\n",
        "\n",
        "import os\n",
        "import gym\n",
        "import gym_ignition\n",
        "import gym_ignition_data\n",
        "from gym_ignition.utils import logger, resource_finder\n",
        "\n",
        "# Add the search path to find the models and worlds\n",
        "resource_finder.add_path_from_env_var(\"IGN_GAZEBO_RESOURCE_PATH\")\n",
        "\n",
        "# Set gym verbosity\n",
        "logger.set_level(gym.logger.INFO)\n",
        "# logger.set_level(gym.logger.DEBUG)\n",
        "\n",
        "logger.info(\"Initializing the environment\")\n",
        "\n",
        "# Create the environment\n",
        "# env = gym.make(\"CartPole-v1\")\n",
        "env = gym.make(\"CartPoleDiscrete-Gazebo-v0\")\n",
        "# env = gym.make(\"CartPoleDiscrete-PyBullet-v0\")\n",
        "\n",
        "\n",
        "# Initialize the seed\n",
        "env.seed(42)\n",
        "\n",
        "for epoch in range(10):\n",
        "    # Reset the environment\n",
        "    observation = env.reset()\n",
        "\n",
        "    # Initialize returned values\n",
        "    done = False\n",
        "    total_reward = 0\n",
        "\n",
        "    while not done:\n",
        "        # Execute a random action\n",
        "        action = env.action_space.sample()\n",
        "        observation, reward, done, _ = env.step(action)\n",
        "\n",
        "        # Render the environment\n",
        "        # NOTE: You cannot render the environments in Colab\n",
        "        # env.render('human')\n",
        "\n",
        "        # Accumulate the reward\n",
        "        total_reward += reward\n",
        "\n",
        "        # Print the observation\n",
        "        msg = \"\"\n",
        "        for value in observation:\n",
        "            msg += \"\\t%.6f\" % value\n",
        "        logger.debug(msg)\n",
        "\n",
        "    logger.info(\"Total reward for episode #{}: {}\".format(epoch, total_reward))\n",
        "\n",
        "env.close()\n"
      ],
      "execution_count": 12,
      "outputs": [
        {
          "output_type": "stream",
          "text": [
            "INFO: Initializing the environment\n",
            "INFO: Making new env: CartPoleDiscrete-Gazebo-v0\n"
          ],
          "name": "stdout"
        },
        {
          "output_type": "stream",
          "text": [
            "\u001b[33mWARN: This runtime does not support setting the control mode\u001b[0m\n"
          ],
          "name": "stderr"
        },
        {
          "output_type": "stream",
          "text": [
            "INFO: Total reward for episode #0: 384.0\n",
            "INFO: Total reward for episode #1: 630.0\n",
            "INFO: Total reward for episode #2: 413.0\n",
            "INFO: Total reward for episode #3: 132.0\n",
            "INFO: Total reward for episode #4: 189.0\n",
            "INFO: Total reward for episode #5: 199.0\n",
            "INFO: Total reward for episode #6: 226.0\n",
            "INFO: Total reward for episode #7: 585.0\n",
            "INFO: Total reward for episode #8: 534.0\n",
            "INFO: Total reward for episode #9: 105.0\n"
          ],
          "name": "stdout"
        }
      ]
    }
  ]
}