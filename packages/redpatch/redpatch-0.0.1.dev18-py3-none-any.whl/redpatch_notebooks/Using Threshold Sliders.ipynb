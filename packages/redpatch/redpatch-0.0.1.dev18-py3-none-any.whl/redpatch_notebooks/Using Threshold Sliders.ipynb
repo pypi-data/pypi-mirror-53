{
 "cells": [
  {
   "cell_type": "markdown",
   "metadata": {},
   "source": [
    "## How to use the threshold sliders\n",
    "\n",
    "The first step is to get an HSV image, we can do this with the `rp.FileBrowser()` function to call up a browser and get the path to it."
   ]
  },
  {
   "cell_type": "code",
   "execution_count": null,
   "metadata": {},
   "outputs": [],
   "source": [
    "import redpatch as rp\n",
    "\n",
    "f = rp.FileBrowser()\n",
    "f.widget()"
   ]
  },
  {
   "cell_type": "markdown",
   "metadata": {},
   "source": [
    "Then we can load the image"
   ]
  },
  {
   "cell_type": "code",
   "execution_count": null,
   "metadata": {},
   "outputs": [],
   "source": [
    "new_image = rp.load_as_hsv( f.path )"
   ]
  },
  {
   "cell_type": "markdown",
   "metadata": {},
   "source": [
    "With the image loaded we can run the `rp.run_threshold_preview()` function. This creates some H,S and V sliders that you can set (note the 0..1 scale). When you hit the `Run Interact` button you see a preview of all the pixels that would be retained in a red colour."
   ]
  },
  {
   "cell_type": "code",
   "execution_count": null,
   "metadata": {},
   "outputs": [],
   "source": [
    "rp.run_threshold_preview(new_image)"
   ]
  },
  {
   "cell_type": "markdown",
   "metadata": {},
   "source": [
    "Note that the function doesn't do anything other than generate a preview. The point is to get the threshold values for use further downstream. \n",
    "\n",
    "You can use the values in other functions that require the threshold values to be set. The slider function can be invoked wherever you need it."
   ]
  },
  {
   "cell_type": "markdown",
   "metadata": {},
   "source": [
    "If you wish to change the dimensions of the image preview, you can use the `width` and `height` parameters. The scale is in `inches` due to the way the backend works. The aspect ratio is maintained for the image, so you usually only get use out of setting one of `width` or `height`."
   ]
  },
  {
   "cell_type": "code",
   "execution_count": null,
   "metadata": {},
   "outputs": [],
   "source": [
    "rp.run_threshold_preview(new_image, width = 10)"
   ]
  },
  {
   "cell_type": "markdown",
   "metadata": {},
   "source": [
    "The sliders themselves can be made longer. Set the `slider_width` parameter to the pixel width you would like"
   ]
  },
  {
   "cell_type": "code",
   "execution_count": null,
   "metadata": {},
   "outputs": [],
   "source": [
    "rp.run_threshold_preview(new_image, silder_width = 450)"
   ]
  }
 ],
 "metadata": {
  "kernelspec": {
   "display_name": "Python 3",
   "language": "python",
   "name": "python3"
  },
  "language_info": {
   "codemirror_mode": {
    "name": "ipython",
    "version": 3
   },
   "file_extension": ".py",
   "mimetype": "text/x-python",
   "name": "python",
   "nbconvert_exporter": "python",
   "pygments_lexer": "ipython3",
   "version": "3.7.3"
  }
 },
 "nbformat": 4,
 "nbformat_minor": 2
}
