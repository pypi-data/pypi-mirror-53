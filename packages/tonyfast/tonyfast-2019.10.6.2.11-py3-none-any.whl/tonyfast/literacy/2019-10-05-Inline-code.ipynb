{
 "cells": [
  {
   "cell_type": "markdown",
   "metadata": {},
   "source": [
    "All code should compute, <code>code</code> for typographic decoration should require extra effort to suppress.  As a rule, code in a document should work.\n",
    "\n",
    "\n",
    "In this document, we'll execute code from within ticks as one would with inline code."
   ]
  },
  {
   "cell_type": "code",
   "execution_count": 9,
   "metadata": {},
   "outputs": [],
   "source": [
    "import ast, mistune, re"
   ]
  },
  {
   "cell_type": "markdown",
   "metadata": {},
   "source": [
    "Use `mistune`'s pattern to discover inine code."
   ]
  },
  {
   "cell_type": "code",
   "execution_count": 10,
   "metadata": {},
   "outputs": [],
   "source": [
    "inline = re.compile(mistune.InlineGrammar.code.pattern[1:])"
   ]
  },
  {
   "cell_type": "markdown",
   "metadata": {},
   "source": [
    "Create an `ast.NodeTransformer` that runs code in ticks.  In this case, `ast.parse` is applied to any inline code."
   ]
  },
  {
   "cell_type": "code",
   "execution_count": 4,
   "metadata": {},
   "outputs": [],
   "source": [
    "class Inline(ast.NodeTransformer):\n",
    "    def visit_Expr(self, node):\n",
    "        if isinstance(node.value, ast.Str):\n",
    "            nodes = [node]\n",
    "            for m in inline.finditer(node.value.s): nodes += ast.copy_location(\n",
    "                ast.parse(m.group().strip('`')), node).body\n",
    "            return nodes\n",
    "        return node"
   ]
  },
  {
   "cell_type": "markdown",
   "metadata": {},
   "source": [
    "Append to the `ast_transformers` with an `IPython` magic."
   ]
  },
  {
   "cell_type": "code",
   "execution_count": 19,
   "metadata": {},
   "outputs": [],
   "source": [
    "    def unload_ipython_extension(shell): shell.ast_transformers += [x for x in shell.ast_transformers if not isinstance(x, Inline)]\n",
    "    def load_ipython_extension(shell): unload_ipython_extension(shell); shell.ast_transformers += [Inline()]\n",
    "    __name__ == '__main__' and load_ipython_extension(get_ipython())"
   ]
  },
  {
   "cell_type": "code",
   "execution_count": null,
   "metadata": {},
   "outputs": [],
   "source": []
  },
  {
   "cell_type": "code",
   "execution_count": null,
   "metadata": {},
   "outputs": [],
   "source": []
  }
 ],
 "metadata": {
  "kernelspec": {
   "display_name": "Python 3",
   "language": "python",
   "name": "python3"
  },
  "language_info": {
   "codemirror_mode": {
    "name": "ipython",
    "version": 3
   },
   "file_extension": ".py",
   "mimetype": "text/x-python",
   "name": "python",
   "nbconvert_exporter": "python",
   "pygments_lexer": "ipython3",
   "version": "3.7.3"
  }
 },
 "nbformat": 4,
 "nbformat_minor": 4
}
