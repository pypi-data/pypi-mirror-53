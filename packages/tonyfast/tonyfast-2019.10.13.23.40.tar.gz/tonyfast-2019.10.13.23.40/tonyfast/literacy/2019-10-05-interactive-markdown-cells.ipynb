{
 "cells": [
  {
   "cell_type": "markdown",
   "metadata": {},
   "source": [
    "My white 🐳 is literate markdown programming in the notebook.\n",
    "\n",
    "I have made so many attempts at a literate interface to the notebook.  Each of these experiments revealed important features of modern [literate ~~programming~~ computing](http://blog.fperez.org/2013/04/literate-computing-and-computational.html).\n",
    "\n",
    "I've drawn the concept in packages & single notebooks.  In retrospect, they contain too many opinions to be extensible.  \n",
    "\n",
    "Here is another go at it."
   ]
  },
  {
   "cell_type": "code",
   "execution_count": 16,
   "metadata": {},
   "outputs": [],
   "source": [
    "    import re, textwrap, tokenize, io, itertools, IPython; from toolz.curried import *\n",
    "    __all__ = 'parse',"
   ]
  },
  {
   "cell_type": "markdown",
   "metadata": {},
   "source": [
    "Use the `mistune` to `parse` block level markdown objects."
   ]
  },
  {
   "cell_type": "code",
   "execution_count": 17,
   "metadata": {},
   "outputs": [],
   "source": [
    "    class Lexer(__import__('mistune').BlockLexer):\n",
    "        def parse(self, text, rules=None):\n",
    "            text = ''.join(x if x.strip() else \"\\n\" for x in text.splitlines(True))\n",
    "            rules = rules or self.default_rules\n",
    "            def manipulate(text):\n",
    "                for key in rules:\n",
    "                    m = getattr(self.rules, key).match(text)\n",
    "                    if m: getattr(self, 'parse_%s' % key)(m); return m\n",
    "                return False  \n",
    "            while text:\n",
    "                m = manipulate(text)\n",
    "                if m: text = text[len(m.group(0)):]\n",
    "                if not m and text: raise RuntimeError('Infinite loop at: %s' % text)\n",
    "                if self.tokens: self.tokens[-1]['match'] = m\n",
    "            return self.tokens"
   ]
  },
  {
   "cell_type": "code",
   "execution_count": 18,
   "metadata": {},
   "outputs": [],
   "source": [
    "    def quote(str, prior=\"\", tick='\"\"\"'):\n",
    "        \"\"\"wrap a block of text in quotes. \"\"\"\n",
    "        if not str.strip(): return str\n",
    "        indent, outdent = len(str)-len(str.lstrip()), len(str.rstrip())\n",
    "        if tick in str or str.endswith(tick[0]): tick = '\"\"\"'\n",
    "        return str[:indent] + prior + tick + str[indent:outdent] + tick + \";\" + str[outdent:]"
   ]
  },
  {
   "cell_type": "markdown",
   "metadata": {},
   "source": [
    "`parse`  markdown code into valid python code."
   ]
  },
  {
   "cell_type": "code",
   "execution_count": 19,
   "metadata": {},
   "outputs": [],
   "source": [
    "    def parse(object, *, formatted=\"\" , indent=4, _indent=-1):\n",
    "        object += '\\n'\n",
    "        \"\"\"`parse` code formatted in markdown\"\"\"\n",
    "        tokens = Lexer()(object)\n",
    "        while tokens:\n",
    "            token = tokens.pop(0)\n",
    "            if token['type'] == 'code':\n",
    "                if token['lang']: continue\n",
    "                code = token['match'].group().rstrip()\n",
    "                text, object = re.split(r'\\s*'.join(re.escape(code).splitlines(True)), object)\n",
    "                stripped = code.strip()\n",
    "                if stripped.startswith(('>>>',)) or not stripped: continue # don't do anything for blank code.\n",
    "                if _indent < 0: _indent = len(code) - len(code.lstrip())\n",
    "                if code.startswith(('```',)): code = textwrap.indent(code.strip('`'), ' '*_indent)\n",
    "                try: last_token = pipe(list(tokenize.tokenize(io.BytesIO(textwrap.dedent(formatted).encode('utf-8')).readline)),reversed, curry(itertools.dropwhile)(compose(complement(str.strip), operator.attrgetter('string'))), first)\n",
    "                except tokenize.TokenError as exception:\n",
    "                    if exception.args[0] == 'EOF in multi-line string': text = textwrap.indent(text, ' '*_indent)\n",
    "                    else: text = (text.strip() and quote or identity)(text, ' '*_indent)\n",
    "                else: \n",
    "                    text = quote(textwrap.indent(text, ' '*_indent), ' '*indent if last_token.string in {':'} else '' + ' '*(len(last_token.line) - len(last_token.line.lstrip())))\n",
    "                formatted += text + code\n",
    "        if object.strip(): formatted += textwrap.indent(quote(object), ' '*_indent)\n",
    "        IPython.get_ipython().log.debug(textwrap.dedent(formatted))\n",
    "        return formatted"
   ]
  },
  {
   "cell_type": "markdown",
   "metadata": {},
   "source": [
    "Another notebook defines how the output should be displayed."
   ]
  },
  {
   "cell_type": "markdown",
   "metadata": {},
   "source": [
    "Create `IPython` extensions that can be reused."
   ]
  },
  {
   "cell_type": "code",
   "execution_count": 5,
   "metadata": {},
   "outputs": [],
   "source": [
    "    def cleanup_transform(x): return textwrap.dedent(parse(''.join(x))).splitlines(True)\n",
    "\n",
    "    def unload_ipython_extension(shell):\n",
    "        globals()['_transforms'] = globals().get('_transforms', shell.input_transformer_manager.cleanup_transforms)\n",
    "        global _transforms\n",
    "        shell.input_transformer_manager.cleanup_transforms = _transforms\n",
    "    def load_ipython_extension(shell):\n",
    "        unload_ipython_extension(shell)\n",
    "        shell.input_transformer_manager.cleanup_transforms = [cleanup_transform]\n",
    "\n",
    "    __name__ == '__main__' and load_ipython_extension(get_ipython())"
   ]
  },
  {
   "cell_type": "markdown",
   "metadata": {},
   "source": [
    "> This currently doesn't work inside list items."
   ]
  }
 ],
 "metadata": {
  "kernelspec": {
   "display_name": "Python 3",
   "language": "python",
   "name": "python3"
  },
  "language_info": {
   "codemirror_mode": {
    "name": "ipython",
    "version": 3
   },
   "file_extension": ".py",
   "mimetype": "text/x-python",
   "name": "python",
   "nbconvert_exporter": "python",
   "pygments_lexer": "ipython3",
   "version": "3.7.3"
  }
 },
 "nbformat": 4,
 "nbformat_minor": 4
}
