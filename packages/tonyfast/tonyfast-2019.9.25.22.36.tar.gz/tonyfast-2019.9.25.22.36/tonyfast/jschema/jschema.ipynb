{
 "cells": [
  {
   "cell_type": "code",
   "execution_count": 35,
   "metadata": {},
   "outputs": [],
   "source": [
    "    import abc, jsonschema, rdflib, collections, itertools, operator, copy, functools, pyld.jsonld as jsonld, ast, pathlib, typing\n",
    "    import strict_rfc3339, rfc3986, rfc3987, IPython, toolz"
   ]
  },
  {
   "cell_type": "code",
   "execution_count": 36,
   "metadata": {},
   "outputs": [],
   "source": [
    "    class Schema:\n",
    "        @classmethod\n",
    "        def schema(cls): return {**collections.ChainMap(*(getattr(object, '__annotations__', {}) or {} for object in cls.__mro__)), 'title': cls.__name__, }\n",
    "        @classmethod\n",
    "        def validate(cls, object, schema=None): jsonschema.validate(object, schema or cls.schema(), format_checker=jsonschema.FormatChecker())"
   ]
  },
  {
   "cell_type": "code",
   "execution_count": 37,
   "metadata": {},
   "outputs": [],
   "source": [
    "    class JsonSchemaMeta(Schema, abc.ABCMeta):\n",
    "        def __init_subclass__(cls, **kwargs):  cls.__annotations__ = cls.validate(kwargs) or kwargs\n",
    "\n",
    "    class JsonSchema(JsonSchemaMeta, **jsonschema.Draft7Validator.META_SCHEMA): ..."
   ]
  },
  {
   "cell_type": "code",
   "execution_count": 38,
   "metadata": {},
   "outputs": [],
   "source": [
    "    def map_container(callable):\n",
    "        @functools.wraps(callable)\n",
    "        def logic(object, *args, **kwargs):\n",
    "            if isinstance(object, (list, dict)): return object.map(callable, *args, **kwargs)\n",
    "            return object.pipe(callable, *args, **kwargs)\n",
    "        return logic"
   ]
  },
  {
   "cell_type": "code",
   "execution_count": 39,
   "metadata": {},
   "outputs": [],
   "source": [
    "class Parser:\n",
    "    @map_container\n",
    "    def text(self): return self\n",
    "    @map_container\n",
    "    def yaml(self):\n",
    "        try: from ruamel import yaml\n",
    "        except: import yaml\n",
    "        return self.pipe(operator.methodcaller('text'), yaml.safe_load, Type.object)\n",
    "    @map_container\n",
    "    def json(self):\n",
    "        try: import ujson as json\n",
    "        except: import json\n",
    "        return self.pipe(operator.methodcaller('text'), json.loads, Type.object)\n",
    "    @map_container\n",
    "    def imp(self): return __import__('importlib').import_module(self)\n",
    "    @map_container\n",
    "    def git(self): return __import__('git').Repo(self)\n",
    "    @map_container\n",
    "    def download_json(self, *args, **object): return Type.object(__import__('requests').get(self, *args, **object).json())\n",
    "\n",
    "    @map_container\n",
    "    def download(self, *args, **object): return String.object(__import__('requests').get(self, *args, **object).text)"
   ]
  },
  {
   "cell_type": "code",
   "execution_count": 40,
   "metadata": {},
   "outputs": [],
   "source": [
    "    class Type(Schema, metaclass=JsonSchema): \n",
    "        __annotations__ = {}\n",
    "        def __new__(cls, object=None, *args, **kwargs):\n",
    "            if object is None: object = copy.copy(cls.schema().get('default'))\n",
    "            object = super().__new__(cls, object, *args, **kwargs)\n",
    "            return cls.validate(object) or object\n",
    "\n",
    "        def __init_subclass__(cls, **kwargs):  cls.__annotations__ = type(cls).validate(kwargs) or kwargs\n",
    "\n",
    "        @classmethod\n",
    "        def object(type, object=None):\n",
    "            for cls in (type.__subclasses__()):\n",
    "                try: return cls.object(object)\n",
    "                except BaseException as e: ...\n",
    "            else: return type(object)\n",
    "            \n",
    "        def pipe(self, *funcs, **kwargs): return toolz.compose(*reversed(funcs))(self, **kwargs)\n",
    "        def do(self, *funcs, **kwargs): self.pipe(*funcs, **kwargs); return self\n",
    "        def list(self): return List(self)\n",
    "        def tuple(self): return tuple(self)\n",
    "        def set(self): return set(self)\n",
    "        def str(self): return String.object(self)\n",
    "        def zip(self, *args): return list(zip(self, *args))\n",
    "        def starmap(self, callable): return List(itertools.starmap(callable, self))\n",
    "        \n",
    "    class Container(Parser):\n",
    "        def series(self, *args, **kwargs) -> 'pandas.Series': return __import__('pandas').Series(self, *args, **kwargs)\n",
    "        def frame(self, *args, **kwargs) -> 'pandas.DataFrame': return __import__('pandas').DataFrame(self, *args, **kwargs)\n",
    "        def __getitem__(self, object): return Type.object(super().__getitem__(object))\n",
    "        \n",
    "    class Sequence(Container):\n",
    "        def map(self, callable, **kwargs): return self.pipe(toolz.partial(toolz.map, toolz.partial(callable, **kwargs)), type(self))\n",
    "        def filter(self, callable, **kwargs): return self.pipe(toolz.partial(toolz.filter, toolz.partial(callable, **kwargs)), type(self))\n",
    "        def reduce(self, callable, **kwargs): return self.pipe(toolz.partial(toolz.reduce, toolz.partial(callable, **kwargs)), type(self))\n",
    "        def groupby(self, callable, **kwargs): return self.pipe(toolz.partial(toolz.groupby, toolz.partial(callable, **kwargs)), Dict)\n",
    "        def reduceby(self, callable, **kwargs): return self.pipe(toolz.partial(toolz.reduceby, toolz.partial(callable, **kwargs)), Dict)"
   ]
  },
  {
   "cell_type": "code",
   "execution_count": 41,
   "metadata": {},
   "outputs": [],
   "source": [
    "    class Dict(Type, Container, dict, type='object', default={}): \n",
    "        def map(self, value=None, key=None): return Dict({(key or toolz.identity)(k): (value or toolz.identity)(v) for k, v in self.items()})\n",
    "        def filter(self, value=None, key=None): return Dict({k: v for k, v in self.items() if (\n",
    "            (key(k) if key else True) and (value(v) if value else True)\n",
    "        )})\n",
    "        "
   ]
  },
  {
   "cell_type": "code",
   "execution_count": 42,
   "metadata": {},
   "outputs": [],
   "source": [
    "    class List(Type, Sequence, list, type='array', default=[]): \n",
    "        def __new__(cls, object=None, *args, **kwargs): \n",
    "            if isinstance(object, tuple): object = list(object)\n",
    "            return super().__new__(cls, object, *args, **kwargs)\n",
    "    class Tuple(Type, Sequence, tuple, type='array', default=tuple()): ...\n",
    "    class Set(Type, Sequence, set, type='array', uniqueItems=True, default=set()): ...\n",
    "        "
   ]
  },
  {
   "cell_type": "code",
   "execution_count": null,
   "metadata": {},
   "outputs": [],
   "source": [
    "    class Null(Type, type='null'): \n",
    "        def __new__(cls, object=None, *args, **kwargs): return cls.validate(cls, object)\n",
    "    class Integer(Type, int, type='integer', default=''): ...\n",
    "    class Number(Type, float, type='number', default=''): ...\n",
    "    \n",
    "    class String(Type, Parser, str, type='string', default=''):\n",
    "        def path(self) -> pathlib.Path: return pathlib.Path(self)\n",
    "    \n",
    "    class Date(String, format='date'): ...\n",
    "    class Datetime(String, format='date-time'): ...\n",
    "    class Time(String, format='time'): ...\n",
    "    class Color(String, format='color'): ...\n",
    "    \n",
    "    class Email(String, format='email'): ...\n",
    "    class Uri(String, format='uri'):         \n",
    "        def text(self, *args, **object): return __import__('requests').get(self,*args, **object).text\n",
    "        \n",
    "    class File(String): \n",
    "        def text(self): return self.path().read_text()\n",
    "        @classmethod\n",
    "        def validate(cls, object, schema=None):\n",
    "            if object.path().exists(): return \n",
    "            raise ValueError(F\"{object} is not a file.\")\n",
    "    class Dir(File): \n",
    "        @classmethod\n",
    "        def validate(cls, object, schema=None):\n",
    "            if object.path().is_dir(): return \n",
    "            raise ValueError(F\"{object} is not a file.\")"
   ]
  },
  {
   "cell_type": "code",
   "execution_count": null,
   "metadata": {},
   "outputs": [],
   "source": [
    "    class StringTypes(ast.NodeTransformer):\n",
    "        def visit_type(self, node, type=None):\n",
    "            next = ast.parse(F\"\"\"__import__('importlib').import_module('{__name__}').{type}.object('')\"\"\").body[0].value\n",
    "            next.args = [node]\n",
    "            return ast.copy_location(next, node)\n",
    "        \n",
    "        visit_JoinedStr = visit_Str = functools.partialmethod(visit_type, type='String')\n",
    "        #visit_Dict = functools.partialmethod(visit_type, type='Dict')\n",
    "        #visit_List = functools.partialmethod(visit_type, type='List')\n",
    "        #visit_Tuple = functools.partialmethod(visit_type, type='Tuple')"
   ]
  },
  {
   "cell_type": "code",
   "execution_count": null,
   "metadata": {},
   "outputs": [],
   "source": [
    "    def unload_ipython_extension(shell): shell.ast_transformers = [x for x in shell.ast_transformers if not isinstance(x, StringTypes)]\n",
    "    def load_ipython_extension(shell): unload_ipython_extension(shell) or shell.ast_transformers.append(StringTypes())\n",
    "    __name__ == '__main__' and load_ipython_extension(get_ipython())"
   ]
  },
  {
   "cell_type": "markdown",
   "metadata": {},
   "source": [
    "    __name__ == '__main__' and \"jschema.ipynb\".yaml()['cells'].series().apply(\"pandas\".imp().Series).T"
   ]
  },
  {
   "cell_type": "code",
   "execution_count": null,
   "metadata": {},
   "outputs": [],
   "source": [
    "if __name__ == '__main__':\n",
    "    __import__('requests_cache').install_cache('jschema')\n",
    "    \"https://api.github.com/users/tonyfast/gists\".download_json().frame().T.pipe(display)\n",
    "    (\n",
    "        List(range(1, 3))\n",
    "        .map(str)\n",
    "        .starmap(\"https://api.github.com/users/tonyfast/gists?page={}\".format)\n",
    "        .download_json()\n",
    "        .map(\"pandas\".imp().DataFrame)\n",
    "        .pipe(\"pandas\".imp().concat)\n",
    "    ).T.pipe(display)"
   ]
  }
 ],
 "metadata": {
  "kernelspec": {
   "display_name": "Python [conda env:root] *",
   "language": "python",
   "name": "conda-root-py"
  },
  "language_info": {
   "codemirror_mode": {
    "name": "ipython",
    "version": 3
   },
   "file_extension": ".py",
   "mimetype": "text/x-python",
   "name": "python",
   "nbconvert_exporter": "python",
   "pygments_lexer": "ipython3",
   "version": "3.7.3"
  }
 },
 "nbformat": 4,
 "nbformat_minor": 4
}
