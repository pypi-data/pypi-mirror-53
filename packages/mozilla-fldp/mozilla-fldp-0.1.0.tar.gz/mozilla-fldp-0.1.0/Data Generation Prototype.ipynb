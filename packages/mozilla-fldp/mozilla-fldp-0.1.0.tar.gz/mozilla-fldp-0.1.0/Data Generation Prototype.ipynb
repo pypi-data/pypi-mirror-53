{
 "cells": [
  {
   "cell_type": "markdown",
   "metadata": {},
   "source": [
    "## Test Data Generation\n",
    "This notebook contains some simple funtions to generate two different distributions of test data for CANOSP 2019\n",
    "\n",
    "Currently there are two types of data generation:\n",
    "    - `Blob` generation (data clustered around a point)\n",
    "    - `Random` (no correlation)\n",
    "\n",
    "A few functions have been created to generate samples that:\n",
    "    - Contains N features\n",
    "    - Contain M labels (species)\n",
    "    \n",
    "Finally, note that the format of the DataFrame returned by the generation functions is like this:\n",
    "\n",
    "```\n",
    "data_point_1_feat_1 data_point_1_feat_2, ...\n",
    "data_point_2_feat_1 data_point_2_feat_2, ...\n",
    "...\n",
    "```"
   ]
  },
  {
   "cell_type": "code",
   "execution_count": null,
   "metadata": {},
   "outputs": [],
   "source": [
    "# Likely not needed...\n",
    "%matplotlib inline\n",
    "\n",
    "import random_data_gen as rdata_gen\n",
    "import pandas as pd"
   ]
  },
  {
   "cell_type": "markdown",
   "metadata": {},
   "source": [
    "### Graph params\n",
    "Adjust these to control the paraeters used to generate the example graphs. Does not affect the function defs!"
   ]
  },
  {
   "cell_type": "code",
   "execution_count": null,
   "metadata": {},
   "outputs": [],
   "source": [
    "NUM_SAMPLES = 20000\n",
    "NUM_LABELS = 3\n",
    "NUM_FEATURES = 4\n",
    "NUM_USERS = 100\n",
    "\n",
    "# Used to control the range of values for the random gen func (1.0 --> [-1.0, 1.0])\n",
    "RAND_FEAT_RANGE = 1.0\n",
    "USERS_MIN_UNIQUE_LABELS = 2\n",
    "\n",
    "CSV_FILE_NAME_TEMPLATE = \"{}_S{}_L{}_F{}_U{}.csv\" # Type(Rand/Blob)_S#samples_L#labels_F#features_U#users.csv\n",
    "CSV_DATASET_DIR = \"datasets\"\n",
    "\n",
    "# Put into a nice package to pass around\n",
    "g_prms = rdata_gen.InputGenParams(NUM_SAMPLES, NUM_LABELS, NUM_FEATURES, NUM_USERS)"
   ]
  },
  {
   "cell_type": "markdown",
   "metadata": {},
   "source": [
    "### Graphs\n",
    "Just to visualize that the generation is doing it's job, we just threw together some scatterplot matrices.\n",
    "\n",
    "Note that for whatever reason, assigning unique colours to species is not enabled by default, and it appears to be some work to have the matrix scatter plots use any different colours for different species. So for now, we're just settling for mono-colour plots. :)"
   ]
  },
  {
   "cell_type": "code",
   "execution_count": null,
   "metadata": {},
   "outputs": [],
   "source": [
    "def plot_scatter_matrix(data):\n",
    "    '''\n",
    "    Just wrap the call to improve readability niceness :)\n",
    "    '''\n",
    "    pd.plotting.scatter_matrix(data, alpha=0.2, figsize=(10, 10))"
   ]
  },
  {
   "cell_type": "markdown",
   "metadata": {},
   "source": [
    "#### Blob Plot\n",
    "Visualizaton of blob generation"
   ]
  },
  {
   "cell_type": "code",
   "execution_count": null,
   "metadata": {},
   "outputs": [],
   "source": [
    "data = rdata_gen.generate_blob_data(g_prms)"
   ]
  },
  {
   "cell_type": "code",
   "execution_count": null,
   "metadata": {
    "scrolled": false
   },
   "outputs": [],
   "source": [
    "plot_scatter_matrix(data)"
   ]
  },
  {
   "cell_type": "markdown",
   "metadata": {},
   "source": [
    "#### Random Plot"
   ]
  },
  {
   "cell_type": "code",
   "execution_count": null,
   "metadata": {},
   "outputs": [],
   "source": [
    "data = rdata_gen.generate_random_data(g_prms)"
   ]
  },
  {
   "cell_type": "code",
   "execution_count": null,
   "metadata": {
    "scrolled": true
   },
   "outputs": [],
   "source": [
    "plot_scatter_matrix(data)"
   ]
  },
  {
   "cell_type": "markdown",
   "metadata": {},
   "source": [
    "### Data Format Returned from Generation Functions\n",
    "The generation functions return Pandas DataFrames, and the data looks like this:"
   ]
  },
  {
   "cell_type": "code",
   "execution_count": null,
   "metadata": {},
   "outputs": [],
   "source": [
    "data"
   ]
  },
  {
   "cell_type": "markdown",
   "metadata": {},
   "source": [
    "### Formating Data for Simulator Consumption\n",
    "While the current format of data is very nice for working with graphs, it may be a bit over complicated for working with directly. Here we transform the format into something more digestable for the simulator."
   ]
  },
  {
   "cell_type": "code",
   "execution_count": null,
   "metadata": {},
   "outputs": [],
   "source": [
    "def transform_data_for_simulator_format(data):\n",
    "    labels = []\n",
    "    feats = []\n",
    "    for i in range(NUM_USERS):\n",
    "        client_df = df[df.user_id == i]\n",
    "        labels.append(list(client_df.labels))\n",
    "        client_feats = client_df.drop(columns=[\"user_id\", \"labels\"]).to_records(index=False)\n",
    "        feats.append(list(client_feats))\n",
    "        \n",
    "    return (labels, feats)"
   ]
  },
  {
   "cell_type": "markdown",
   "metadata": {},
   "source": [
    "#### Example of How to Call the Transform Function"
   ]
  },
  {
   "cell_type": "code",
   "execution_count": null,
   "metadata": {},
   "outputs": [],
   "source": [
    "df = rdata_gen.generate_blob_data(g_prms)\n",
    "labels, feats = transform_data_for_simulator_format(df)"
   ]
  },
  {
   "cell_type": "code",
   "execution_count": null,
   "metadata": {},
   "outputs": [],
   "source": [
    "labels"
   ]
  },
  {
   "cell_type": "code",
   "execution_count": null,
   "metadata": {},
   "outputs": [],
   "source": [
    "feats"
   ]
  },
  {
   "cell_type": "markdown",
   "metadata": {},
   "source": [
    "### Generating csv Data from the Generated Data\n",
    "Since it's easier to move to csv from a Pandas DataFrame, the workflow should look like this:"
   ]
  },
  {
   "cell_type": "code",
   "execution_count": null,
   "metadata": {},
   "outputs": [],
   "source": [
    "GEN_TYPE_RAND = 0\n",
    "GEN_TYPE_BLOB = 1\n",
    "\n",
    "gen_type_name_ltable = [\"rand\", \"blob\"]\n",
    "\n",
    "def gen_csv_filename(g_prms, gen_type):\n",
    "    gen_type_name = gen_type_name_ltable[gen_type]\n",
    "    return CSV_FILE_NAME_TEMPLATE.format(gen_type_name,\n",
    "                                              g_prms.num_samples,\n",
    "                                              g_prms.num_labels,\n",
    "                                              g_prms.num_features,\n",
    "                                              g_prms.num_users)\n",
    "\n",
    "def write_csv_to_file(file_name):\n",
    "    csv_data.to_csv(file_name, index=False)"
   ]
  },
  {
   "cell_type": "code",
   "execution_count": null,
   "metadata": {},
   "outputs": [],
   "source": [
    "# Generate your data:\n",
    "data = rdata_gen.generate_blob_data(g_prms)"
   ]
  },
  {
   "cell_type": "code",
   "execution_count": null,
   "metadata": {},
   "outputs": [],
   "source": [
    "# Write to file:\n",
    "file_name = gen_csv_filename(g_prms, GEN_TYPE_BLOB)\n",
    "file_path = \"{}/{}\".format(CSV_DATASET_DIR, file_name)\n",
    "csv_data = data.to_csv(file_path)"
   ]
  },
  {
   "cell_type": "code",
   "execution_count": null,
   "metadata": {},
   "outputs": [],
   "source": [
    "# Read the file back in from disk:\n",
    "df = pd.read_csv(file_path)"
   ]
  },
  {
   "cell_type": "code",
   "execution_count": null,
   "metadata": {},
   "outputs": [],
   "source": [
    "# And if plugging back into the simulator then transform the data to a usable format:\n",
    "sim_labels, sim_feats = rdata_gen.transform_data_for_simulator_format(df, g_prms)"
   ]
  },
  {
   "cell_type": "markdown",
   "metadata": {},
   "source": [
    "### Unused Funcs\n",
    "\n",
    "#### gen_clustered_data\n",
    "Initially we tried using the make_classification function to generate clustered data. However, it became difficult to scale with different inputs since, internally, it has restraints on what `n_informative` can be set to depending on what other paremeters are set. In the end, we opted for blob generation mostly because it was simplier to use and did what we wanted to. However, later on we may want to revist this function if we find we need to test with different distributions of data as `make_classification` allows for more control."
   ]
  },
  {
   "cell_type": "code",
   "execution_count": null,
   "metadata": {},
   "outputs": [],
   "source": [
    "def gen_clustered_data(tot_samples, num_labels, num_features):\n",
    "    (feat_val_arrs, feat_idxs) = datasets.make_classification(n_samples=TOT_SAMPLES,\n",
    "                                                         n_features=NUM_FEATURES,\n",
    "                                                         n_classes=NUM_LABELS,\n",
    "                                                         n_redundant=0,\n",
    "                                                         n_repeated=0,\n",
    "                                                         class_sep=0.5)\n",
    "    df = pd.DataFrame(feat_val_arrs)\n",
    "    df['labels'] = feat_idxs\n",
    "        \n",
    "    return df"
   ]
  },
  {
   "cell_type": "markdown",
   "metadata": {},
   "source": [
    "#### gen_hist_of_features\n",
    "Just an attempt to manually generate overlaping histograms for each species. (Defaults to using separate colours for each overlapping histogram, how about that!). The scatter matrix automatically generates a histogram on the diagonal, so this is kind of no longer needed."
   ]
  },
  {
   "cell_type": "code",
   "execution_count": null,
   "metadata": {},
   "outputs": [],
   "source": [
    "def gen_hist_of_features(df):\n",
    "    thing = df.pivot(columns='labels', values=0)\n",
    "    pyplot.hist(thing, alpha=0.5)\n",
    "\n",
    "    pyplot.legend(loc='upper right')\n",
    "    pyplot.show()"
   ]
  },
  {
   "cell_type": "code",
   "execution_count": null,
   "metadata": {},
   "outputs": [],
   "source": []
  }
 ],
 "metadata": {
  "kernelspec": {
   "display_name": "Python 3",
   "language": "python",
   "name": "python3"
  },
  "language_info": {
   "codemirror_mode": {
    "name": "ipython",
    "version": 3
   },
   "file_extension": ".py",
   "mimetype": "text/x-python",
   "name": "python",
   "nbconvert_exporter": "python",
   "pygments_lexer": "ipython3",
   "version": "3.7.3"
  }
 },
 "nbformat": 4,
 "nbformat_minor": 2
}
