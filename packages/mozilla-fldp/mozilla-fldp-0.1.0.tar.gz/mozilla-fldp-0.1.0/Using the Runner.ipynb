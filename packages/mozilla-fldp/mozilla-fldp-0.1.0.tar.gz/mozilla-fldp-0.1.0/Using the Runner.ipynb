{
 "cells": [
  {
   "cell_type": "markdown",
   "metadata": {},
   "source": [
    "## Using the Simulation Runner\n",
    "\n",
    "In order to be able to run different simulations with different types of data (fairly) painlessly, it made sense to put together a simple API to run them together.\n",
    "\n",
    "The goal was to try to do this as simply as possible while also being nice to use and easy to expand on. The general idea is this:\n",
    "\n",
    "- Parameters that are used by different simulations/data generation are defined by defining them in json data to set them Runner object\n",
    "    - For example: `{\"num_samples\": 20000, \"num_labels\": 3}`\n",
    "- Simulations/data generation declare what parameters they need in order to be able to run. If any required parameters are missing in the json then the runner stops and prints out what parameters were missing.\n",
    "- If all required parameters are set, then the data generation function runs and the data that is generated is passed to the simulation run function.\n",
    "\n",
    "Creating the runner object immediately runs the simulation.\n",
    "\n",
    "### Expanding the Runner\n",
    "\n",
    "The runner should (hopefully) be easily expandable. When we end up needing different types of parameters, it should be very easy to define some more. For example, if we want to add a parameter called `delay`:\n",
    "- Create a new parameter key in the `runner_keys.py` (`P_KEY_DELAY = \"delay\"`)\n",
    "- Set this value in the parameter json for the simulators that need it\n",
    "- Make sure any simulation/data generation that depends on it marks it as so (in `run_func_ltable` in `runner.py`)\n",
    "\n",
    "Hopefully this isn't over-engineered. I tried very hard to keep this minimalistic"
   ]
  },
  {
   "cell_type": "code",
   "execution_count": null,
   "metadata": {},
   "outputs": [],
   "source": [
    "from runner import Runner\n",
    "import warnings\n",
    "\n",
    "# hide the warning message temporarily\n",
    "warnings.simplefilter(\"ignore\")\n",
    "\n",
    "# auto-reload the modules everytime a cell is run\n",
    "%load_ext autoreload\n",
    "%autoreload 2"
   ]
  },
  {
   "cell_type": "markdown",
   "metadata": {},
   "source": [
    "### Overly simple json generator\n",
    "Since the runner needs to be initialised with json parameter data, here's a simple function that converts a dictionary to a json string:"
   ]
  },
  {
   "cell_type": "code",
   "execution_count": null,
   "metadata": {},
   "outputs": [],
   "source": [
    "import json\n",
    "\n",
    "def gen_param_json_from_param_dict(param_dict):\n",
    "    return json.dumps(param_dict)        "
   ]
  },
  {
   "cell_type": "markdown",
   "metadata": {},
   "source": [
    "### Example: Running Federated Learning with Different Types of Data\n",
    "\n",
    "Before we can run a simulation, we need to initialise the runner with the parameters that the simulation requires: "
   ]
  },
  {
   "cell_type": "code",
   "execution_count": null,
   "metadata": {},
   "outputs": [],
   "source": [
    "blob_data_file_path = \"datasets/blob_S20000_L3_F4_U100.csv\"\n",
    "\n",
    "params_dict = {\n",
    "    Runner.P_KEY_NUM_SAMPLES: 20000,\n",
    "    Runner.P_KEY_NUM_LABELS: 3,\n",
    "    Runner.P_KEY_NUM_FEATURES: 4,\n",
    "    Runner.P_KEY_NUM_USERS: 100,\n",
    "    Runner.P_KEY_NUM_ROUNDS: 10,\n",
    "    Runner.P_KEY_BATCH_SIZE: 40,\n",
    "    Runner.P_KEY_NUM_EPOCHS: 5,\n",
    "    Runner.P_KEY_DATA_FILE_PATH: blob_data_file_path\n",
    "}\n",
    "\n",
    "json_params = gen_param_json_from_param_dict(params_dict)"
   ]
  },
  {
   "cell_type": "markdown",
   "metadata": {},
   "source": [
    "With the JSON data, we're ready to run the simulation. Now we just need to construct the runner object and specify the data generation tpe\n",
    "\n",
    "It's fine to run multiple simulations with a single runner object."
   ]
  },
  {
   "cell_type": "code",
   "execution_count": null,
   "metadata": {},
   "outputs": [],
   "source": [
    "_ = Runner(json_params, Runner.SIM_TYPE_FED_LEARNING, Runner.DATA_GEN_TYPE_DATA_FROM_FILE)"
   ]
  },
  {
   "cell_type": "markdown",
   "metadata": {},
   "source": [
    "### Missing Parameters for a Run\n",
    "If the simulation/data generation is missing any required parameters, you will get an exception like this:"
   ]
  },
  {
   "cell_type": "code",
   "execution_count": null,
   "metadata": {},
   "outputs": [],
   "source": [
    "params_dict = {\n",
    "    Runner.P_KEY_NUM_SAMPLES: 20000,\n",
    "    Runner.P_KEY_NUM_LABELS: 3,\n",
    "    Runner.P_KEY_NUM_FEATURES: 4,\n",
    "    Runner.P_KEY_NUM_USERS: 100\n",
    "}\n",
    "\n",
    "json_params = gen_param_json_from_param_dict(params_dict)\n",
    "_ = Runner(json_params, Runner.SIM_TYPE_FED_LEARNING, Runner.DATA_GEN_TYPE_DATA_FROM_FILE)"
   ]
  }
 ],
 "metadata": {
  "kernelspec": {
   "display_name": "Python 3",
   "language": "python",
   "name": "python3"
  },
  "language_info": {
   "codemirror_mode": {
    "name": "ipython",
    "version": 3
   },
   "file_extension": ".py",
   "mimetype": "text/x-python",
   "name": "python",
   "nbconvert_exporter": "python",
   "pygments_lexer": "ipython3",
   "version": "3.7.4"
  }
 },
 "nbformat": 4,
 "nbformat_minor": 2
}
