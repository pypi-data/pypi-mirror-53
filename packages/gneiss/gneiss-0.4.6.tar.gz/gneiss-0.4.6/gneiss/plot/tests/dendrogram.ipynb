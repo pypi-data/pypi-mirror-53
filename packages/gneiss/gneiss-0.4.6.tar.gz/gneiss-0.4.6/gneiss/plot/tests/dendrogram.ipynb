{
 "cells": [
  {
   "cell_type": "code",
   "execution_count": 1,
   "metadata": {},
   "outputs": [],
   "source": [
    "import unittest\n",
    "import pandas as pd\n",
    "import numpy as np\n",
    "from scipy.cluster.hierarchy import ward\n",
    "\n",
    "from skbio import TreeNode, DistanceMatrix\n",
    "from gneiss.plot._radial import radialplot\n",
    "from gneiss.plot._dendrogram import UnrootedDendrogram\n",
    "\n",
    "exp_edges = {'dest_node': ['0', '1', '2', 'y3'],\n",
    "             'edge_color': ['#00FF00', '#00FF00',\n",
    "                            '#00FF00', '#FF0000'],\n",
    "             'edge_width': [2, 2, 2, 2],\n",
    "             'src_node': ['y3', 'y4', 'y3', 'y4'],\n",
    "             'x0': [338.2612593838583,\n",
    "                    193.1688862557773,\n",
    "                    338.2612593838583,\n",
    "                    193.1688862557773],\n",
    "             'x1': [487.5, 12.499999999999972,\n",
    "                    324.89684138234867, 338.2612593838583],\n",
    "             'y0': [271.7282256126416,\n",
    "                    365.95231443706376,\n",
    "                    271.7282256126416,\n",
    "                    365.95231443706376],\n",
    "             'y1': [347.7691620070637,\n",
    "                    483.2800610261029,\n",
    "                    16.719938973897143,\n",
    "                    271.7282256126416]}\n",
    "\n",
    "exp_nodes = {'child0': [np.nan, np.nan, np.nan, '0', '1'],\n",
    "             'child1': [np.nan, np.nan, np.nan, '2', 'y3'],\n",
    "             'color': ['#1C9099', '#1C9099', '#1C9099',\n",
    "                       '#FF999F', '#FF999F'],\n",
    "             'hover_var': [None, None, None, None, None],\n",
    "             'is_tip': [True, True, True, False, False],\n",
    "             'node_size': [10, 10, 10, 10, 10],\n",
    "             'x': [487.5,\n",
    "                   12.499999999999972,\n",
    "                   324.89684138234867,\n",
    "                   338.26125938385832,\n",
    "                   193.16888625577729],\n",
    "             'y': [347.7691620070637,\n",
    "                   483.28006102610289,\n",
    "                   16.719938973897143,\n",
    "                   271.72822561264161,\n",
    "                   365.95231443706376]}\n",
    "np.random.seed(0)\n",
    "num_otus = 3  # otus\n",
    "x = np.random.rand(num_otus)\n",
    "dm = DistanceMatrix.from_iterable(x, lambda x, y: np.abs(x-y))\n",
    "lm = ward(dm.condensed_form())\n",
    "t = TreeNode.from_linkage_matrix(lm, np.arange(len(x)).astype(np.str))\n",
    "t = UnrootedDendrogram.from_tree(t)\n",
    "# incorporate colors in tree\n",
    "for i, n in enumerate(t.postorder(include_self=True)):\n",
    "    if not n.is_tip():\n",
    "        n.name = \"y%d\" % i\n",
    "        n.color = '#FF999F'\n",
    "        n.edge_color = '#FF0000'\n",
    "        n.node_size = 10\n",
    "    else:\n",
    "        n.color = '#1C9099'\n",
    "        n.edge_color = '#00FF00'\n",
    "        n.node_size = 10\n",
    "    n.length = np.random.rand()*3\n",
    "    n.edge_width = 2\n",
    "p = radialplot(t, node_color='color', edge_color='edge_color',\n",
    "               node_size='node_size', edge_width='edge_width')\n"
   ]
  },
  {
   "cell_type": "code",
   "execution_count": 2,
   "metadata": {},
   "outputs": [],
   "source": [
    "from bokeh.io import show\n",
    "show(p)"
   ]
  },
  {
   "cell_type": "code",
   "execution_count": 4,
   "metadata": {},
   "outputs": [],
   "source": [
    "from gneiss.plot import heatmap\n",
    "from gneiss.plot._heatmap import _sort_table\n",
    "\n",
    "import pandas as pd\n",
    "import pandas.util.testing as pdt\n",
    "from skbio import TreeNode, DistanceMatrix\n",
    "from scipy.cluster.hierarchy import ward\n",
    "from gneiss.plot._dendrogram import SquareDendrogram\n",
    "from gneiss.util import block_diagonal\n",
    "from gneiss.cluster import rank_linkage\n",
    "import numpy as np"
   ]
  },
  {
   "cell_type": "code",
   "execution_count": 5,
   "metadata": {},
   "outputs": [],
   "source": [
    "table = pd.DataFrame(np.random.random((5, 5)),\n",
    "                          index=['0', '1', '2', '3', '4'],\n",
    "                          columns=['0', '1', '2', '3', '4'])\n",
    "\n",
    "num_otus = 5  # otus\n",
    "x = np.random.rand(num_otus)\n",
    "dm = DistanceMatrix.from_iterable(x, lambda x, y: np.abs(x-y))\n",
    "lm = ward(dm.condensed_form())\n",
    "t = TreeNode.from_linkage_matrix(lm, np.arange(len(x)).astype(np.str))\n",
    "t = SquareDendrogram.from_tree(t)\n",
    "md = pd.Series(['a', 'a', 'a', 'b', 'b'],\n",
    "                index=['0', '1', '2', '3', '4'])\n",
    "for i, n in enumerate(t.postorder()):\n",
    "    if not n.is_tip():\n",
    "        n.name = \"y%d\" % i\n",
    "    n.length = np.random.rand()*3\n",
    "\n",
    "highlights = pd.DataFrame({'y8': ['#FF0000', '#00FF00'],\n",
    "                           'y6': ['#0000FF', '#F0000F']}).T\n"
   ]
  },
  {
   "cell_type": "code",
   "execution_count": 10,
   "metadata": {},
   "outputs": [
    {
     "data": {
      "image/png": "[encoded data removed]",
      "text/plain": [
       "<Figure size 360x360 with 4 Axes>"
      ]
     },
     "metadata": {},
     "output_type": "display_data"
    }
   ],
   "source": [
    "table = pd.DataFrame(block_diagonal(ncols=5, nrows=5, nblocks=2),\n",
    "                     index=['0', '1', '2', '3', '4'],\n",
    "                     columns=['0', '1', '2', '3', '4'])\n",
    "t = rank_linkage(pd.Series([1, 2, 3, 4, 5],\n",
    "                           index=['0', '1', '2', '3', '4']))\n",
    "t = SquareDendrogram.from_tree(t)\n",
    "md = pd.Series(['a', 'a', 'a', 'b', 'b'],\n",
    "               index=['0', '1', '2', '3', '4'])\n",
    "for i, n in enumerate(t.postorder()):\n",
    "    if not n.is_tip():\n",
    "        n.name = \"y%d\" % i\n",
    "    n.length = np.random.rand()*3\n",
    "    \n",
    "highlights = pd.DataFrame({'y8': ['#FF0000', '#00FF00'],\n",
    "                           'y7': ['#0000FF', '#F0000F']}).T\n",
    "\n",
    "fig = heatmap(table, t, md, highlights)"
   ]
  },
  {
   "cell_type": "code",
   "execution_count": 11,
   "metadata": {},
   "outputs": [
    {
     "name": "stdout",
     "output_type": "stream",
     "text": [
      "                    /-0\n",
      "          /y2------|\n",
      "         |          \\-1\n",
      "-y8------|\n",
      "         |          /-4\n",
      "          \\y7------|\n",
      "                   |          /-2\n",
      "                    \\y6------|\n",
      "                              \\-3\n"
     ]
    }
   ],
   "source": [
    "print(t.ascii_art())"
   ]
  },
  {
   "cell_type": "code",
   "execution_count": 9,
   "metadata": {},
   "outputs": [
    {
     "data": {
      "text/html": [
       "<div>\n",
       "<style scoped>\n",
       "    .dataframe tbody tr th:only-of-type {\n",
       "        vertical-align: middle;\n",
       "    }\n",
       "\n",
       "    .dataframe tbody tr th {\n",
       "        vertical-align: top;\n",
       "    }\n",
       "\n",
       "    .dataframe thead th {\n",
       "        text-align: right;\n",
       "    }\n",
       "</style>\n",
       "<table border=\"1\" class=\"dataframe\">\n",
       "  <thead>\n",
       "    <tr style=\"text-align: right;\">\n",
       "      <th></th>\n",
       "      <th>0</th>\n",
       "      <th>1</th>\n",
       "      <th>2</th>\n",
       "      <th>3</th>\n",
       "      <th>4</th>\n",
       "    </tr>\n",
       "  </thead>\n",
       "  <tbody>\n",
       "    <tr>\n",
       "      <th>0</th>\n",
       "      <td>0.120197</td>\n",
       "      <td>0.296140</td>\n",
       "      <td>0.000000</td>\n",
       "      <td>0.000000</td>\n",
       "      <td>0.000000</td>\n",
       "    </tr>\n",
       "    <tr>\n",
       "      <th>1</th>\n",
       "      <td>0.118728</td>\n",
       "      <td>0.317983</td>\n",
       "      <td>0.000000</td>\n",
       "      <td>0.000000</td>\n",
       "      <td>0.000000</td>\n",
       "    </tr>\n",
       "    <tr>\n",
       "      <th>2</th>\n",
       "      <td>0.000000</td>\n",
       "      <td>0.000000</td>\n",
       "      <td>0.414263</td>\n",
       "      <td>0.064147</td>\n",
       "      <td>0.692472</td>\n",
       "    </tr>\n",
       "    <tr>\n",
       "      <th>3</th>\n",
       "      <td>0.000000</td>\n",
       "      <td>0.000000</td>\n",
       "      <td>0.566601</td>\n",
       "      <td>0.265389</td>\n",
       "      <td>0.523248</td>\n",
       "    </tr>\n",
       "    <tr>\n",
       "      <th>4</th>\n",
       "      <td>0.000000</td>\n",
       "      <td>0.000000</td>\n",
       "      <td>0.093941</td>\n",
       "      <td>0.575946</td>\n",
       "      <td>0.929296</td>\n",
       "    </tr>\n",
       "  </tbody>\n",
       "</table>\n",
       "</div>"
      ],
      "text/plain": [
       "          0         1         2         3         4\n",
       "0  0.120197  0.296140  0.000000  0.000000  0.000000\n",
       "1  0.118728  0.317983  0.000000  0.000000  0.000000\n",
       "2  0.000000  0.000000  0.414263  0.064147  0.692472\n",
       "3  0.000000  0.000000  0.566601  0.265389  0.523248\n",
       "4  0.000000  0.000000  0.093941  0.575946  0.929296"
      ]
     },
     "execution_count": 9,
     "metadata": {},
     "output_type": "execute_result"
    }
   ],
   "source": [
    "table"
   ]
  },
  {
   "cell_type": "code",
   "execution_count": null,
   "metadata": {},
   "outputs": [],
   "source": []
  }
 ],
 "metadata": {
  "kernelspec": {
   "display_name": "Python 3",
   "language": "python",
   "name": "python3"
  },
  "language_info": {
   "codemirror_mode": {
    "name": "ipython",
    "version": 3
   },
   "file_extension": ".py",
   "mimetype": "text/x-python",
   "name": "python",
   "nbconvert_exporter": "python",
   "pygments_lexer": "ipython3",
   "version": "3.7.3"
  }
 },
 "nbformat": 4,
 "nbformat_minor": 2
}
