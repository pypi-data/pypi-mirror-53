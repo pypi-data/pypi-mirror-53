{
 "cells": [
  {
   "cell_type": "markdown",
   "metadata": {
    "deletable": true,
    "editable": true
   },
   "source": [
    "## Coverage of randomized LASSO intervals\n",
    "\n",
    "In this example, we demonstrate how to compute confidence intervals for\n",
    "a randomized LASSO example, as well as demonstrating that the selective\n",
    "pivots are uniformly distributed."
   ]
  },
  {
   "cell_type": "code",
   "execution_count": 3,
   "metadata": {
    "collapsed": true,
    "deletable": true,
    "editable": true
   },
   "outputs": [],
   "source": [
    "import numpy as np\n",
    "import matplotlib.pyplot as plt\n",
    "from statsmodels.distributions import ECDF"
   ]
  },
  {
   "cell_type": "markdown",
   "metadata": {
    "deletable": true,
    "editable": true
   },
   "source": [
    "First, we define a function that will fit a randomized LASSO and return\n",
    "both the pivotal quantites and confidence intervals. The design matrix\n",
    "is equicorrelated with parameter $\\rho=0.2$."
   ]
  },
  {
   "cell_type": "code",
   "execution_count": 4,
   "metadata": {
    "collapsed": true,
    "deletable": true,
    "editable": true
   },
   "outputs": [],
   "source": [
    "from selection.tests.instance import gaussian_instance\n",
    "from selection.randomized.convenience import lasso\n",
    "\n",
    "def fit_randomized_LASSO(ndraw=10000, burnin=2000, marginalize=False):\n",
    "\n",
    "    X, Y, beta, true_active, _ = gaussian_instance(n=100, \n",
    "                                                   p=20, \n",
    "                                                   s=3, \n",
    "                                                   sigma=5., \n",
    "                                                   signal=5,\n",
    "                                                   equicorrelated=False)\n",
    "    n, p = X.shape\n",
    "    W = np.ones(X.shape[1]) * 30\n",
    "    L = lasso.gaussian(X, Y, W, randomizer='gaussian', parametric_cov_estimator=True)\n",
    "\n",
    "    # the active set and signs of the LASSO fit\n",
    "    signs = L.fit()\n",
    "\n",
    "    # for computational efficiency, we can\n",
    "    # marginalize over inactive coordinates\n",
    "\n",
    "    if marginalize:\n",
    "        marginalizing_groups = np.ones(p, np.bool)\n",
    "        L.decompose_subgradient(marginalizing_groups=marginalizing_groups)\n",
    "\n",
    "    selected_features = signs != 0\n",
    "    nactive = selected_features.sum()\n",
    "\n",
    "    if set(np.nonzero(selected_features)[0]).issuperset(true_active):\n",
    "        sel_pivots, sel_pval, sel_ci = L.summary(selected_features,\n",
    "                                                 parameter=beta[selected_features],\n",
    "                                                 ndraw=ndraw,\n",
    "                                                 burnin=burnin,\n",
    "                                                 compute_intervals=True)\n",
    "\n",
    "        return sel_pivots, sel_pval, sel_ci, beta[selected_features]"
   ]
  },
  {
   "cell_type": "markdown",
   "metadata": {
    "deletable": true,
    "editable": true
   },
   "source": [
    "Let’s do a test run"
   ]
  },
  {
   "cell_type": "code",
   "execution_count": 5,
   "metadata": {
    "collapsed": true,
    "deletable": true,
    "editable": true
   },
   "outputs": [],
   "source": [
    "fit_randomized_LASSO()"
   ]
  },
  {
   "cell_type": "code",
   "execution_count": 6,
   "metadata": {
    "collapsed": true,
    "deletable": true,
    "editable": true
   },
   "outputs": [],
   "source": [
    "def compute_coverage(sel_ci, truth):\n",
    "    coverage = (sel_ci[:,0] <= truth) * (sel_ci[:,1] >= truth)\n",
    "    return coverage"
   ]
  },
  {
   "cell_type": "code",
   "execution_count": 7,
   "metadata": {
    "collapsed": true,
    "deletable": true,
    "editable": true
   },
   "outputs": [],
   "source": [
    "def main(ndraw=10000, burnin=2000, nsim=50):\n",
    "    np.random.seed(1)\n",
    "\n",
    "    sel_pivots_all = []\n",
    "    P0 = []\n",
    "    PA = []\n",
    "    sel_coverage = []\n",
    "\n",
    "    for i in range(nsim):\n",
    "        results = fit_randomized_LASSO(ndraw=ndraw, burnin=burnin)\n",
    "        if results is not None:\n",
    "            sel_pivots, sel_pval, sel_ci, truth = results\n",
    "            P0.extend(sel_pval[truth == 0])\n",
    "            PA.extend(sel_pval[truth != 0])\n",
    "            sel_pivots_all.extend(sel_pivots)\n",
    "            sel_coverage.extend(compute_coverage(sel_ci, truth))\n",
    "\n",
    "    return sel_pivots_all, sel_coverage, P0, PA"
   ]
  },
  {
   "cell_type": "markdown",
   "metadata": {
    "deletable": true,
    "editable": true
   },
   "source": [
    "## Make a plot"
   ]
  },
  {
   "cell_type": "code",
   "execution_count": 8,
   "metadata": {
    "collapsed": false,
    "deletable": true,
    "editable": true
   },
   "outputs": [
    {
     "ename": "TypeError",
     "evalue": "summary() got an unexpected keyword argument 'parameter'",
     "output_type": "error",
     "traceback": [
      "\u001b[0;31m---------------------------------------------------------------------------\u001b[0m",
      "\u001b[0;31mTypeError\u001b[0m                                 Traceback (most recent call last)",
      "\u001b[0;32m<ipython-input-8-78bac7f37492>\u001b[0m in \u001b[0;36m<module>\u001b[0;34m()\u001b[0m\n\u001b[0;32m----> 1\u001b[0;31m \u001b[0msel_pivots_all\u001b[0m\u001b[0;34m,\u001b[0m \u001b[0msel_coverage\u001b[0m\u001b[0;34m,\u001b[0m \u001b[0mP0\u001b[0m\u001b[0;34m,\u001b[0m \u001b[0mPA\u001b[0m \u001b[0;34m=\u001b[0m \u001b[0mmain\u001b[0m\u001b[0;34m(\u001b[0m\u001b[0mnsim\u001b[0m\u001b[0;34m=\u001b[0m\u001b[0;36m30\u001b[0m\u001b[0;34m)\u001b[0m\u001b[0;34m\u001b[0m\u001b[0m\n\u001b[0m\u001b[1;32m      2\u001b[0m \u001b[0mxval\u001b[0m \u001b[0;34m=\u001b[0m \u001b[0mnp\u001b[0m\u001b[0;34m.\u001b[0m\u001b[0mlinspace\u001b[0m\u001b[0;34m(\u001b[0m\u001b[0;36m0\u001b[0m\u001b[0;34m,\u001b[0m \u001b[0;36m1\u001b[0m\u001b[0;34m,\u001b[0m \u001b[0;36m200\u001b[0m\u001b[0;34m)\u001b[0m\u001b[0;34m\u001b[0m\u001b[0m\n",
      "\u001b[0;32m<ipython-input-7-397522a61be2>\u001b[0m in \u001b[0;36mmain\u001b[0;34m(ndraw, burnin, nsim)\u001b[0m\n\u001b[1;32m      8\u001b[0m \u001b[0;34m\u001b[0m\u001b[0m\n\u001b[1;32m      9\u001b[0m     \u001b[0;32mfor\u001b[0m \u001b[0mi\u001b[0m \u001b[0;32min\u001b[0m \u001b[0mrange\u001b[0m\u001b[0;34m(\u001b[0m\u001b[0mnsim\u001b[0m\u001b[0;34m)\u001b[0m\u001b[0;34m:\u001b[0m\u001b[0;34m\u001b[0m\u001b[0m\n\u001b[0;32m---> 10\u001b[0;31m         \u001b[0mresults\u001b[0m \u001b[0;34m=\u001b[0m \u001b[0mfit_randomized_LASSO\u001b[0m\u001b[0;34m(\u001b[0m\u001b[0mndraw\u001b[0m\u001b[0;34m=\u001b[0m\u001b[0mndraw\u001b[0m\u001b[0;34m,\u001b[0m \u001b[0mburnin\u001b[0m\u001b[0;34m=\u001b[0m\u001b[0mburnin\u001b[0m\u001b[0;34m)\u001b[0m\u001b[0;34m\u001b[0m\u001b[0m\n\u001b[0m\u001b[1;32m     11\u001b[0m         \u001b[0;32mif\u001b[0m \u001b[0mresults\u001b[0m \u001b[0;32mis\u001b[0m \u001b[0;32mnot\u001b[0m \u001b[0mNone\u001b[0m\u001b[0;34m:\u001b[0m\u001b[0;34m\u001b[0m\u001b[0m\n\u001b[1;32m     12\u001b[0m             \u001b[0msel_pivots\u001b[0m\u001b[0;34m,\u001b[0m \u001b[0msel_pval\u001b[0m\u001b[0;34m,\u001b[0m \u001b[0msel_ci\u001b[0m\u001b[0;34m,\u001b[0m \u001b[0mtruth\u001b[0m \u001b[0;34m=\u001b[0m \u001b[0mresults\u001b[0m\u001b[0;34m\u001b[0m\u001b[0m\n",
      "\u001b[0;32m<ipython-input-4-5a1d1a4202a9>\u001b[0m in \u001b[0;36mfit_randomized_LASSO\u001b[0;34m(ndraw, burnin, marginalize)\u001b[0m\n\u001b[1;32m     32\u001b[0m                                                  \u001b[0mndraw\u001b[0m\u001b[0;34m=\u001b[0m\u001b[0mndraw\u001b[0m\u001b[0;34m,\u001b[0m\u001b[0;34m\u001b[0m\u001b[0m\n\u001b[1;32m     33\u001b[0m                                                  \u001b[0mburnin\u001b[0m\u001b[0;34m=\u001b[0m\u001b[0mburnin\u001b[0m\u001b[0;34m,\u001b[0m\u001b[0;34m\u001b[0m\u001b[0m\n\u001b[0;32m---> 34\u001b[0;31m                                                  compute_intervals=True)\n\u001b[0m\u001b[1;32m     35\u001b[0m \u001b[0;34m\u001b[0m\u001b[0m\n\u001b[1;32m     36\u001b[0m         \u001b[0;32mreturn\u001b[0m \u001b[0msel_pivots\u001b[0m\u001b[0;34m,\u001b[0m \u001b[0msel_pval\u001b[0m\u001b[0;34m,\u001b[0m \u001b[0msel_ci\u001b[0m\u001b[0;34m,\u001b[0m \u001b[0mbeta\u001b[0m\u001b[0;34m[\u001b[0m\u001b[0mselected_features\u001b[0m\u001b[0;34m]\u001b[0m\u001b[0;34m\u001b[0m\u001b[0m\n",
      "\u001b[0;31mTypeError\u001b[0m: summary() got an unexpected keyword argument 'parameter'"
     ]
    }
   ],
   "source": [
    "sel_pivots_all, sel_coverage, P0, PA = main(nsim=30)\n",
    "xval = np.linspace(0, 1, 200)"
   ]
  },
  {
   "cell_type": "code",
   "execution_count": null,
   "metadata": {
    "collapsed": true,
    "deletable": true,
    "editable": true
   },
   "outputs": [],
   "source": [
    "%matplotlib inline"
   ]
  },
  {
   "cell_type": "code",
   "execution_count": null,
   "metadata": {
    "collapsed": true,
    "deletable": true,
    "editable": true
   },
   "outputs": [],
   "source": [
    "fig = plt.figure(figsize=(8,8))\n",
    "plt.plot(xval, ECDF(sel_pivots_all)(xval), label='Pivot')\n",
    "plt.plot(xval, ECDF(P0)(xval), label='H0')\n",
    "plt.plot(xval, ECDF(PA)(xval), label='HA')\n",
    "\n",
    "plt.plot(xval, xval, 'k-', lw=1)\n",
    "plt.legend(loc='lower right')"
   ]
  },
  {
   "cell_type": "markdown",
   "metadata": {
    "deletable": true,
    "editable": true
   },
   "source": [
    "What does our coverage look like?"
   ]
  },
  {
   "cell_type": "code",
   "execution_count": null,
   "metadata": {
    "collapsed": true,
    "deletable": true,
    "editable": true
   },
   "outputs": [],
   "source": [
    "print(np.mean(sel_coverage))"
   ]
  },
  {
   "cell_type": "markdown",
   "metadata": {
    "deletable": true,
    "editable": true
   },
   "source": [
    "0.876033057851"
   ]
  }
 ],
 "metadata": {
  "anaconda-cloud": {},
  "kernelspec": {
   "display_name": "Python [default]",
   "language": "python",
   "name": "python2"
  },
  "language_info": {
   "codemirror_mode": {
    "name": "ipython",
    "version": 2
   },
   "file_extension": ".py",
   "mimetype": "text/x-python",
   "name": "python",
   "nbconvert_exporter": "python",
   "pygments_lexer": "ipython2",
   "version": "2.7.12"
  }
 },
 "nbformat": 4,
 "nbformat_minor": 2
}
