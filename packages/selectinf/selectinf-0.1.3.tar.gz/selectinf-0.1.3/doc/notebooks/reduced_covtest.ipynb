{
 "metadata": {
  "name": "",
  "signature": "sha256:f245846358404f357c60d53f566b3b1ffafeeefc1cf0cd0104f9612c198491bd"
 },
 "nbformat": 3,
 "nbformat_minor": 0,
 "worksheets": [
  {
   "cells": [
    {
     "cell_type": "markdown",
     "metadata": {},
     "source": [
      "# The covariance test\n",
      "\n",
      "One of the first works in this framework of post-selection\n",
      "inference is the [covariance test](http://arxiv.org/abs/1301.7161).\n",
      "The test was motivated by a drop in covariance of the residual \n",
      "through one step of the [LARS path](http://projecteuclid.org/DPubS?verb=Display&version=1.0&service=UI&handle=euclid.aos/1083178935&page=record). \n",
      "\n",
      "The basic theory behind the `covtest` can be seen by sampling $n$ IID\n",
      "Gaussians and looking at the spacings between the top two.\n",
      "A simple calculation Mills' ratio calculation leads to\n",
      "$$\n",
      "Z^n_{(1)} (Z^n_{(1)} - Z^n_{(2)}) \\overset{D}{\\to} \\text{Exp}(1)\n",
      "$$\n",
      "Here is a little simulation."
     ]
    },
    {
     "cell_type": "code",
     "collapsed": true,
     "input": [
      "import numpy as np\n",
      "%pylab inline\n",
      "\n",
      "from statsmodels.distributions import ECDF\n",
      "from selection.covtest import covtest, reduced_covtest\n"
     ],
     "language": "python",
     "metadata": {},
     "outputs": [
      {
       "output_type": "stream",
       "stream": "stdout",
       "text": [
        "Populating the interactive namespace from numpy and matplotlib\n"
       ]
      }
     ],
     "prompt_number": 1
    },
    {
     "cell_type": "code",
     "collapsed": false,
     "input": [
      "Z = np.random.standard_normal((2000,50))\n",
      "T = np.zeros(2000)\n",
      "for i in range(2000):\n",
      "    W = np.sort(Z[i])\n",
      "    T[i] = W[-1] * (W[-1] - W[-2])\n",
      "\n",
      "Ugrid = np.linspace(0,1,101)\n",
      "covtest_fig = plt.figure(figsize=(6,6))\n",
      "ax = covtest_fig.gca()\n",
      "ax.plot(Ugrid, ECDF(np.exp(-T))(Ugrid), linestyle='steps', c='k',\n",
      "        label='covtest')\n",
      "ax.set_title('Null distribution')\n",
      "ax.legend(loc='upper left')"
     ],
     "language": "python",
     "metadata": {},
     "outputs": [
      {
       "metadata": {},
       "output_type": "pyout",
       "prompt_number": 2,
       "text": [
        "<matplotlib.legend.Legend at 0x10a114790>"
       ]
      },
      {
       "metadata": {},
       "output_type": "display_data",
       "png": "[encoded data removed]",
       "text": [
        "<matplotlib.figure.Figure at 0x10a0b63d0>"
       ]
      }
     ],
     "prompt_number": 2
    },
    {
     "cell_type": "markdown",
     "metadata": {},
     "source": [
      "The covariance test is an asymptotic result, and can be used\n",
      "in a sequential procedure called [forward stop](http://arxiv.org/abs/1309.5352) to determine when to\n",
      "stop the LASSO path.\n",
      "\n",
      "An exact version of the covariance test was developed\n",
      "in a general framework for problems beyond the LASSO  using\n",
      "the [Kac-Rice formula](http://arxiv.org/abs/1308.3020).\n",
      "A sequential version along the LARS path was developed,\n",
      "which we refer to as the [spacings test](http://arxiv.org/abs/1401.3889).\n",
      "\n",
      "Here is the exact test, which is the first step of the spacings test."
     ]
    },
    {
     "cell_type": "code",
     "collapsed": false,
     "input": [
      "from scipy.stats import norm as ndist\n",
      "Texact = np.zeros(2000)\n",
      "for i in range(2000):\n",
      "    W = np.sort(Z[i])\n",
      "    Texact[i] = ndist.sf(W[-1]) / ndist.sf(W[-2])\n",
      "ax.plot(Ugrid, ECDF(Texact)(Ugrid), c='blue', linestyle='steps', label='exact covTest')\n",
      "covtest_fig"
     ],
     "language": "python",
     "metadata": {},
     "outputs": [
      {
       "metadata": {},
       "output_type": "pyout",
       "png": "[encoded data removed]",
       "prompt_number": 3,
       "text": [
        "<matplotlib.figure.Figure at 0x10a0b63d0>"
       ]
      }
     ],
     "prompt_number": 3
    },
    {
     "cell_type": "markdown",
     "metadata": {},
     "source": [
      "# Covariance test for regression\n",
      "\n",
      "The above tests were based on an IID sample, though\n",
      "both the `covtest` and its exact version can be used\n",
      "in a regression setting. Both tests need access to the covariance\n",
      "of the noise.\n",
      "\n",
      "Formally, suppose \n",
      "$$\n",
      "y|X \\sim N(\\mu, \\Sigma)\n",
      "$$\n",
      "the exact test is a test of \n",
      "$$H_0:\\mu=0$$\n",
      "based on \n",
      "$$\n",
      "\\lambda_{\\max} = \\|X^Ty\\|_{\\infty},\n",
      "$$\n",
      "the point the first variable enters the LASSO. That is, $\\lambda_{\\max}$ is the smallest \n",
      "$\\lambda$ for which 0 solves\n",
      "$$\n",
      "\\text{minimize}_{\\beta} \\frac{1}{2} \\|y-X\\beta\\|^2_2 + \\lambda \\|\\beta\\|_1.\n",
      "$$\n",
      "\n",
      "Formally, the exact test conditions on the variable $i^*(y)$ that achieves $\\lambda_{\\max}$ and tests a weaker null hypothesis \n",
      "$$H_0:X[:,i^*(y)]^T\\mu=0.$$ The covtest is \n",
      "an approximation of this test, based on the same Mills ratio\n",
      "calculation. (This calculation roughly says that the overshoot of a Gaussian above a level $u$ is roughly an exponential random variable with mean $u^{-1}$).\n",
      "\n",
      "Here is a simulation under $\\Sigma = \\sigma^2 I$ with $\\sigma$ known."
     ]
    },
    {
     "cell_type": "code",
     "collapsed": true,
     "input": [
      "n, p, nsim, sigma = 50, 1000, 500, 1.5\n",
      "\n",
      "def instance(n, p, beta=None, sigma=sigma):\n",
      "    X = np.random.standard_normal((n,p)) + np.random.standard_normal(n)[:,None] # equicorrelated 1/2\n",
      "    X /= X.std(0)[None,:]\n",
      "    X /= np.sqrt(n)\n",
      "    Y = np.random.standard_normal(n) * sigma\n",
      "    if beta is not None:\n",
      "        Y += np.dot(X, beta)\n",
      "    return X, Y "
     ],
     "language": "python",
     "metadata": {},
     "outputs": [],
     "prompt_number": 4
    },
    {
     "cell_type": "code",
     "collapsed": true,
     "input": [
      "X, Y = instance(n, p, sigma=sigma) \n",
      "cone, pval, idx, sign = covtest(X, Y)\n",
      "pval"
     ],
     "language": "python",
     "metadata": {},
     "outputs": [
      {
       "metadata": {},
       "output_type": "pyout",
       "prompt_number": 5,
       "text": [
        "0.21828522556482188"
       ]
      }
     ],
     "prompt_number": 5
    },
    {
     "cell_type": "code",
     "collapsed": true,
     "input": [
      "def simulation(beta):\n",
      "    Pcov = []\n",
      "    Pexact = []\n",
      "\n",
      "    for i in range(nsim):\n",
      "        X, Y = instance(n, p, sigma=sigma, beta=beta)\n",
      "        Pcov.append(covtest(X, Y, sigma=sigma, exact=False)[1])\n",
      "        Pexact.append(covtest(X, Y, sigma=sigma, exact=True)[1])\n",
      "\n",
      "    Ugrid = np.linspace(0,1,101)\n",
      "    plt.figure(figsize=(6,6))\n",
      "    plt.plot(Ugrid, ECDF(Pcov)(Ugrid), label='covtest', ls='steps', c='k')\n",
      "    plt.plot(Ugrid, ECDF(Pexact)(Ugrid), label='exact covtest', ls='steps', c='blue')\n",
      "    plt.legend(loc='lower right')\n"
     ],
     "language": "python",
     "metadata": {},
     "outputs": [],
     "prompt_number": 6
    },
    {
     "cell_type": "markdown",
     "metadata": {},
     "source": [
      "## Null"
     ]
    },
    {
     "cell_type": "code",
     "collapsed": false,
     "input": [
      "beta = np.zeros(p)\n",
      "simulation(beta)"
     ],
     "language": "python",
     "metadata": {},
     "outputs": [
      {
       "metadata": {},
       "output_type": "display_data",
       "png": "[encoded data removed]",
       "text": [
        "<matplotlib.figure.Figure at 0x109213d90>"
       ]
      }
     ],
     "prompt_number": 7
    },
    {
     "cell_type": "markdown",
     "metadata": {},
     "source": [
      "## 1-sparse"
     ]
    },
    {
     "cell_type": "code",
     "collapsed": true,
     "input": [
      "beta = np.zeros(p)\n",
      "beta[0] = 4\n",
      "simulation(beta)\n",
      " "
     ],
     "language": "python",
     "metadata": {},
     "outputs": [
      {
       "metadata": {},
       "output_type": "display_data",
       "png": "[encoded data removed]",
       "text": [
        "<matplotlib.figure.Figure at 0x10ab2d810>"
       ]
      }
     ],
     "prompt_number": 8
    },
    {
     "cell_type": "markdown",
     "metadata": {},
     "source": [
      "## 2-sparse"
     ]
    },
    {
     "cell_type": "code",
     "collapsed": true,
     "input": [
      "beta = np.zeros(p)\n",
      "beta[:2] = 4\n",
      "simulation(beta)\n",
      " "
     ],
     "language": "python",
     "metadata": {},
     "outputs": [
      {
       "metadata": {},
       "output_type": "display_data",
       "png": "[encoded data removed]",
       "text": [
        "<matplotlib.figure.Figure at 0x10ab37750>"
       ]
      }
     ],
     "prompt_number": 9
    },
    {
     "cell_type": "markdown",
     "metadata": {},
     "source": [
      "## 5-sparse"
     ]
    },
    {
     "cell_type": "code",
     "collapsed": true,
     "input": [
      "beta = np.zeros(p)\n",
      "beta[:5] = 4\n",
      "simulation(beta)\n",
      " "
     ],
     "language": "python",
     "metadata": {},
     "outputs": [
      {
       "metadata": {},
       "output_type": "display_data",
       "png": "[encoded data removed]",
       "text": [
        "<matplotlib.figure.Figure at 0x10ab20750>"
       ]
      }
     ],
     "prompt_number": 10
    },
    {
     "cell_type": "markdown",
     "metadata": {},
     "source": [
      "## Several steps -- covtest version"
     ]
    },
    {
     "cell_type": "code",
     "collapsed": false,
     "input": [
      "from selection.covtest import forward_step\n",
      "\n",
      "Pu = []\n",
      "Pk = []\n",
      "Pc = []\n",
      "\n",
      "beta = np.zeros(p)\n",
      "nsim = 100\n",
      "for _ in range(nsim):\n",
      "    X, Y = instance(n, p, sigma=sigma, beta=beta)\n",
      "    Pvals = forward_step(X, Y, sigma=sigma,\n",
      "                         tests=['covtest', \n",
      "                                'reduced_known',\n",
      "                                'reduced_unknown'],\n",
      "                         nstep=10)\n",
      "    Pu.append(Pvals['reduced_unknown'])\n",
      "    Pk.append(Pvals['reduced_known'])\n",
      "    Pc.append(Pvals['covtest'])"
     ],
     "language": "python",
     "metadata": {},
     "outputs": [
      {
       "ename": "TypeError",
       "evalue": "forward_step() got an unexpected keyword argument 'tests'",
       "output_type": "pyerr",
       "traceback": [
        "\u001b[0;31m---------------------------------------------------------------------------\u001b[0m\n\u001b[0;31mTypeError\u001b[0m                                 Traceback (most recent call last)",
        "\u001b[0;32m<ipython-input-11-92e633de78d5>\u001b[0m in \u001b[0;36m<module>\u001b[0;34m()\u001b[0m\n\u001b[1;32m     13\u001b[0m                                 \u001b[0;34m'reduced_known'\u001b[0m\u001b[0;34m,\u001b[0m\u001b[0;34m\u001b[0m\u001b[0m\n\u001b[1;32m     14\u001b[0m                                 'reduced_unknown'],\n\u001b[0;32m---> 15\u001b[0;31m                          nstep=10)\n\u001b[0m\u001b[1;32m     16\u001b[0m     \u001b[0mPu\u001b[0m\u001b[0;34m.\u001b[0m\u001b[0mappend\u001b[0m\u001b[0;34m(\u001b[0m\u001b[0mPvals\u001b[0m\u001b[0;34m[\u001b[0m\u001b[0;34m'reduced_unknown'\u001b[0m\u001b[0;34m]\u001b[0m\u001b[0;34m)\u001b[0m\u001b[0;34m\u001b[0m\u001b[0m\n\u001b[1;32m     17\u001b[0m     \u001b[0mPk\u001b[0m\u001b[0;34m.\u001b[0m\u001b[0mappend\u001b[0m\u001b[0;34m(\u001b[0m\u001b[0mPvals\u001b[0m\u001b[0;34m[\u001b[0m\u001b[0;34m'reduced_known'\u001b[0m\u001b[0;34m]\u001b[0m\u001b[0;34m)\u001b[0m\u001b[0;34m\u001b[0m\u001b[0m\n",
        "\u001b[0;31mTypeError\u001b[0m: forward_step() got an unexpected keyword argument 'tests'"
       ]
      }
     ],
     "prompt_number": 11
    },
    {
     "cell_type": "code",
     "collapsed": false,
     "input": [
      "np.array(Pu).shape"
     ],
     "language": "python",
     "metadata": {},
     "outputs": []
    },
    {
     "cell_type": "code",
     "collapsed": false,
     "input": [
      "def simulation(beta):\n",
      "    Pu = []\n",
      "    Pr = []\n",
      "    Pk = []\n",
      "\n",
      "    for i in range(nsim):\n",
      "        X, Y = instance(n, p, sigma=sigma, beta=beta)\n",
      "        Pu.append(reduced_covtest(X, Y, burnin=500, ndraw=5000)[1])\n",
      "        Pr.append(reduced_covtest(X, Y, burnin=500, ndraw=5000, sigma=sigma)[1])\n",
      "        Pk.append(covtest(X, Y, sigma=sigma)[1])\n",
      "        \n",
      "    g = np.linspace(0,1,101)\n",
      "    plt.figure(figsize=(8,8))\n",
      "    plt.plot(g, ECDF(Pu)(g), label='unknown, reduced')\n",
      "    plt.plot(g, ECDF(Pk)(g), label='known, full')\n",
      "    plt.plot(g, ECDF(Pr)(g), label='known, reduced')\n",
      "    plt.legend(loc='lower right')"
     ],
     "language": "python",
     "metadata": {},
     "outputs": []
    },
    {
     "cell_type": "code",
     "collapsed": false,
     "input": [
      "g = np.linspace(0,1,101)\n",
      "[plt.plot(g, ECDF(np.array(Pc)[:,i])(g)) for  i in range(10)]"
     ],
     "language": "python",
     "metadata": {},
     "outputs": []
    },
    {
     "cell_type": "code",
     "collapsed": false,
     "input": [],
     "language": "python",
     "metadata": {},
     "outputs": []
    }
   ],
   "metadata": {}
  }
 ]
}