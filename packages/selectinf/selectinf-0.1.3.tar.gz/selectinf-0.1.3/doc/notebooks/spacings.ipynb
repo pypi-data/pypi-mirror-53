{
 "metadata": {
  "name": "",
  "signature": "sha256:8255aa8ec0bf868a712af6ee0829c0f9fc84beaa44d62cc8514d70187f70f808"
 },
 "nbformat": 3,
 "nbformat_minor": 0,
 "worksheets": [
  {
   "cells": [
    {
     "cell_type": "heading",
     "level": 2,
     "metadata": {},
     "prompt_number": 1,
     "source": [
      "The spacings test"
     ]
    },
    {
     "cell_type": "markdown",
     "metadata": {},
     "prompt_number": 1,
     "source": [
      "The [covariance test](covtest.html) describes the distribution\n",
      "of spacings at points on the LARS path for the LASSO (see [the paper](http://arxiv.org/abs/1301.7161)).\n",
      "\n",
      "It is an asymptotic distribution for the \"first null step\" that LARS takes. That is, if there are 5 strong variables in the model, \n",
      "the 6th `covtest` $p$-value should be approximately uniform on [0,1].\n",
      "\n",
      "Before the 6th step, we expect (or hope) to see\n",
      "low p-values, but what about after the 6th step? In the\n",
      "paper, it is pointed out that in the orthogonal case, \n",
      "the subsequent steps look like Exp random variables with means\n",
      "depending on how far beyond the \"first null\" we are.\n",
      "\n",
      "Here is an illustration of this phenomenon in the orthogonal case, for which we expect\n",
      "$$\n",
      "\\begin{aligned}\n",
      "T_{(k+5)} &= Z_{(k+5)} (Z_{(k+5)} - Z_{(k+6)}) \\\\\n",
      "& \\approx \\text{Exp}(1/k).\n",
      "\\end{aligned}\n",
      "$$"
     ]
    },
    {
     "cell_type": "code",
     "collapsed": false,
     "input": [
      "import numpy as np\n",
      "np.random.seed(0)\n",
      "%matplotlib inline\n",
      "import matplotlib.pyplot as plt\n",
      "from statsmodels.distributions import ECDF\n",
      "from selection.covtest import covtest\n"
     ],
     "language": "python",
     "metadata": {},
     "outputs": [],
     "prompt_number": 1
    },
    {
     "cell_type": "markdown",
     "metadata": {},
     "prompt_number": 2,
     "source": [
      "We will sample 2000 times from $Z \\sim N(\\mu,I_{100 \\times 100})$ and look at the normalized spacing between the top 2 values.\n",
      "The mean vector $\\mu$ will be sparse, with 5 large values.\n"
     ]
    },
    {
     "cell_type": "code",
     "collapsed": false,
     "input": [
      "Z = np.random.standard_normal((2000,100))\n",
      "Z[:,:5] += np.array([4,4.5,5,5.5,6])[None,:]\n",
      "T = np.zeros((2000,9))\n",
      "                 \n",
      "for i in range(2000):\n",
      "    W = np.sort(Z[i])[::-1]\n",
      "    for j in range(9):\n",
      "        T[i,j] = W[j] * (W[j] - W[j+1])\n",
      "\n",
      "covtest_fig, axes = plt.subplots(3,3, figsize=(12,12))\n",
      "Ugrid = np.linspace(0,1,101)\n",
      "for i in range(3):\n",
      "    for j in range(3):\n",
      "        ax = axes[i,j]\n",
      "        ax.plot(Ugrid, ECDF(np.exp(-T[:,3*i+j]))(Ugrid), linestyle='steps', c='k',\n",
      "                label='covtest', linewidth=3);\n",
      "        ax.set_title('Step %d' % (3*i+j+1))\n",
      "        if (i, j) == (0, 0):\n",
      "            ax.legend(loc='lower right', fontsize=10)"
     ],
     "language": "python",
     "metadata": {},
     "outputs": [],
     "prompt_number": 2
    },
    {
     "cell_type": "markdown",
     "metadata": {},
     "prompt_number": 3,
     "source": [
      "Knowing there are 5 strong signals, we can apply the\n",
      "approximation about the exponentials of different sizes to the later steps. The last 4 p-values now all seem roughly uniform on (0,1)"
     ]
    },
    {
     "cell_type": "code",
     "collapsed": false,
     "input": [
      "factor = np.array([1,1,1,1,1,1,2,3,4])\n",
      "T *= factor\n",
      "\n",
      "for i in range(3):\n",
      "    for j in range(3):\n",
      "        ax = axes[i,j]\n",
      "        ax.plot(Ugrid, ECDF(np.exp(-T[:,3*i+j]))(Ugrid), linestyle='steps', \n",
      "                c='green',\n",
      "                label='covtest corrected', linewidth=3)\n",
      "        if (i, j) == (0, 0):\n",
      "            ax.legend(loc='lower right', fontsize=10)\n",
      "covtest_fig"
     ],
     "language": "python",
     "metadata": {},
     "outputs": [],
     "prompt_number": 3
    },
    {
     "cell_type": "heading",
     "level": 2,
     "metadata": {},
     "prompt_number": 4,
     "source": [
      "Spacings test"
     ]
    },
    {
     "cell_type": "markdown",
     "metadata": {},
     "prompt_number": 4,
     "source": [
      "The [spacings test]() does not show this same behaviour\n",
      "at later stages of the path, as it keeps track of the order\n",
      "of the variables that have \"entered\" the model."
     ]
    },
    {
     "cell_type": "code",
     "collapsed": false,
     "input": [
      "from scipy.stats import norm as ndist\n",
      "spacings = np.zeros((2000,9))\n",
      "                 \n",
      "for i in range(2000):\n",
      "    W = np.sort(Z[i])[::-1]\n",
      "    for j in range(9):\n",
      "        if j > 0:\n",
      "            spacings[i,j] = ((ndist.sf(W[j-1]) - ndist.sf(W[j])) / \n",
      "                             (ndist.sf(W[j-1]) - ndist.sf(W[j+1])))\n",
      "        else:\n",
      "            spacings[i,j] = ndist.sf(W[j]) / ndist.sf(W[j+1])\n",
      "\n",
      "for i in range(3):\n",
      "    for j in range(3):\n",
      "        ax = axes[i,j]\n",
      "        ax.plot(Ugrid, ECDF(spacings[:,3*i+j])(Ugrid), linestyle='steps', c='blue',\n",
      "                label='spacings', linewidth=3)\n",
      "        if (i, j) == (0, 0):\n",
      "            ax.legend(loc='lower right', fontsize=10)\n",
      "covtest_fig"
     ],
     "language": "python",
     "metadata": {},
     "outputs": [],
     "prompt_number": 4
    },
    {
     "cell_type": "heading",
     "level": 2,
     "metadata": {},
     "prompt_number": 5,
     "source": [
      "Spacings in a regression setting"
     ]
    },
    {
     "cell_type": "markdown",
     "metadata": {},
     "prompt_number": 5,
     "source": [
      "The spacings test can be used in a regression setting as well.\n",
      "The [spacings paper](http://arxiv.org/abs/1401.3889)\n",
      "describes this approach for the LARS path, though it can\n",
      "also be used in other contexts.\n",
      "\n",
      "Below, we use it in \n",
      "forward stepwise model selection."
     ]
    },
    {
     "cell_type": "code",
     "collapsed": false,
     "input": [
      "n, p, nsim, sigma = 50, 200, 1000, 1.5\n",
      "\n",
      "def instance(n, p, beta=None, sigma=sigma):\n",
      "    X = (np.random.standard_normal((n,p)) + np.random.standard_normal(n)[:,None])\n",
      "    X -= X.mean(0)[None,:]\n",
      "    X /= X.std(0)[None,:]\n",
      "    X /= np.sqrt(n)\n",
      "    Y = np.random.standard_normal(n) * sigma\n",
      "    if beta is not None:\n",
      "        Y += np.dot(X, beta)\n",
      "    return X, Y "
     ],
     "language": "python",
     "metadata": {},
     "outputs": [],
     "prompt_number": 5
    },
    {
     "cell_type": "code",
     "collapsed": false,
     "input": [
      "from selection.forward_step import forward_stepwise\n",
      "X, Y = instance(n, p, sigma=sigma)\n",
      "FS = forward_stepwise(X, Y)\n",
      "for _ in range(5):\n",
      "    FS.next()\n",
      "FS.variables"
     ],
     "language": "python",
     "metadata": {},
     "outputs": [],
     "prompt_number": 6
    },
    {
     "cell_type": "markdown",
     "metadata": {},
     "prompt_number": 7,
     "source": [
      "The steps taken above should match `R`'s output. We first load the `%R` magic."
     ]
    },
    {
     "cell_type": "code",
     "collapsed": false,
     "input": [
      "%load_ext rmagic"
     ],
     "language": "python",
     "metadata": {},
     "outputs": [],
     "prompt_number": 7
    },
    {
     "cell_type": "markdown",
     "metadata": {},
     "prompt_number": 8,
     "source": [
      "Recall that `R` uses 1-based indexing so there will be a difference of 1 in the indexes of selected variables."
     ]
    },
    {
     "cell_type": "code",
     "collapsed": false,
     "input": [
      "%%R -i X,Y\n",
      "D = data.frame(X,Y)\n",
      "model5 = step(lm(Y ~ 1, data=D), list(upper=lm(Y ~ ., data=D)), direction='forward',\n",
      "     k=0, steps=5, trace=FALSE)\n",
      "model5"
     ],
     "language": "python",
     "metadata": {},
     "outputs": [],
     "prompt_number": 8
    },
    {
     "cell_type": "heading",
     "level": 3,
     "metadata": {},
     "prompt_number": 9,
     "source": [
      "Covariance test for forward stepwise"
     ]
    },
    {
     "cell_type": "markdown",
     "metadata": {},
     "prompt_number": 9,
     "source": [
      "While the `covtest` was derived for the LASSO, it can\n",
      "be used sequentially in forward stepwise as well. Consider the model $$y|X \\sim N(\\mu, \\sigma^2 I).$$\n",
      "The basic\n",
      "approach is to note that  `covtest` provides,\n",
      "a test of the null \n",
      "$$\n",
      "H_0 : \\mu = 0\n",
      "$$\n",
      "\n",
      "Subsequent steps essentially reapply this same test forgetting what\n",
      "has happened previously. In the case of the LARS path, each addition\n",
      "step can be expressed as a choice among several competing variables to add (see [uniqueness](http://arxiv.org/abs/1206.0313) and [spacings](http://arxiv.org/abs/1401.3889) for more details).\n",
      "\n",
      "To use the `covtest` for forward stepwise, we orthogonalize\n",
      "with respect to the variables already chosen and apply the covtest\n",
      "to the residual and orthogonalized $X$ matrix.\n",
      "\n",
      "Specifically, denote $R_{M[j]}$ the residual forming matrix\n",
      "at the $j$-th step, with $R_0=I$ with $M[j]$ the $j$-th model.\n",
      "At the $j+1$-st step, we simply compute the `covtest` with design \n",
      "$R_{M[j]}X$ (with normalized columns) and response $R_{M[j]}Y$.\n",
      "\n"
     ]
    },
    {
     "cell_type": "code",
     "collapsed": false,
     "input": [
      "from selection.affine import constraints\n",
      "\n",
      "def forward_step(X, Y, sigma=1.5,\n",
      "                 nstep=9):\n",
      "\n",
      "    n, p = X.shape\n",
      "    FS = forward_stepwise(X, Y)\n",
      "    spacings_P = []\n",
      "    covtest_P = []\n",
      "    \n",
      "    for i in range(nstep):\n",
      "        FS.next()\n",
      "\n",
      "        if FS.P[i] is not None:\n",
      "            RX = X - FS.P[i](X)\n",
      "            RY = Y - FS.P[i](Y)\n",
      "            covariance = np.identity(n) - np.dot(FS.P[i].U, FS.P[i].U.T)\n",
      "        else:\n",
      "            RX = X\n",
      "            RY = Y\n",
      "            covariance = None\n",
      "        RX -= RX.mean(0)[None,:]\n",
      "        RX /= RX.std(0)[None,:]\n",
      "\n",
      "        con, pval, idx, sign = covtest(RX, RY, sigma=sigma,\n",
      "                                       covariance=covariance,\n",
      "                                       exact=False)\n",
      "        covtest_P.append(pval)\n",
      "\n",
      "        # spacings                                                                                                                                                                  \n",
      "\n",
      "        eta = RX[:,idx] * sign\n",
      "        spacings_constraint = constraints(FS.A, np.zeros(FS.A.shape[0]))\n",
      "        spacings_constraint.covariance *= sigma**2\n",
      "        spacings_P.append(spacings_constraint.pivot(eta, Y))\n",
      "\n",
      "    return covtest_P, spacings_P\n",
      "\n"
     ],
     "language": "python",
     "metadata": {},
     "outputs": [],
     "prompt_number": 9
    },
    {
     "cell_type": "markdown",
     "metadata": {},
     "prompt_number": 10,
     "source": [
      "The above function computes our covtest and spacings $p$-values for\n",
      "several steps of forward stepwise."
     ]
    },
    {
     "cell_type": "code",
     "collapsed": false,
     "input": [
      "forward_step(X, Y, sigma=sigma)"
     ],
     "language": "python",
     "metadata": {},
     "outputs": [],
     "prompt_number": 10
    },
    {
     "cell_type": "code",
     "collapsed": false,
     "input": [
      "def simulation(n, p, sigma, beta):\n",
      "    covtest_P = []\n",
      "    spacings_P = []\n",
      "\n",
      "    for _ in range(1000):\n",
      "        X, Y = instance(n, p, sigma=sigma, beta=beta)\n",
      "        _cov, _spac = forward_step(X, Y, sigma=sigma)\n",
      "        covtest_P.append(_cov)\n",
      "        spacings_P.append(_spac)\n",
      "\n",
      "    covtest_P = np.array(covtest_P)\n",
      "    spacings_P = np.array(spacings_P)\n",
      "    \n",
      "    regression_fig, axes = plt.subplots(3,3, figsize=(12,12))\n",
      "    Ugrid = np.linspace(0,1,101)\n",
      "    for i in range(3):\n",
      "        for j in range(3):\n",
      "            ax = axes[i,j]\n",
      "            ax.plot(Ugrid, ECDF(covtest_P[:,3*i+j])(Ugrid), linestyle='steps', c='k',\n",
      "                    label='covtest', linewidth=3)\n",
      "            ax.plot(Ugrid, ECDF(spacings_P[:,3*i+j])(Ugrid), linestyle='steps', c='blue',\n",
      "                    label='spacings', linewidth=3)\n",
      "            ax.set_title('Step %d' % (3*i+j+1))\n",
      "            if (i,j) == (0,0):\n",
      "                ax.legend(loc='lower right', fontsize=10)\n",
      "\n",
      "    return np.array(covtest_P), np.array(spacings_P)"
     ],
     "language": "python",
     "metadata": {},
     "outputs": [],
     "prompt_number": 11
    },
    {
     "cell_type": "heading",
     "level": 3,
     "metadata": {},
     "prompt_number": 12,
     "source": [
      "Null behavior"
     ]
    },
    {
     "cell_type": "code",
     "collapsed": false,
     "input": [
      "simulation(n, p, sigma, np.zeros(p));"
     ],
     "language": "python",
     "metadata": {},
     "outputs": [],
     "prompt_number": 12
    },
    {
     "cell_type": "heading",
     "level": 3,
     "metadata": {},
     "prompt_number": 13,
     "source": [
      "1-sparse model"
     ]
    },
    {
     "cell_type": "code",
     "collapsed": false,
     "input": [
      "beta = np.zeros(p)\n",
      "beta[0] = 4 * sigma\n",
      "simulation(n, p, sigma, beta);"
     ],
     "language": "python",
     "metadata": {},
     "outputs": [],
     "prompt_number": 13
    },
    {
     "cell_type": "heading",
     "level": 3,
     "metadata": {},
     "prompt_number": 14,
     "source": [
      "2-sparse model"
     ]
    },
    {
     "cell_type": "code",
     "collapsed": false,
     "input": [
      "beta = np.zeros(p)\n",
      "beta[:2] = np.array([4,4.5]) * sigma\n",
      "simulation(n, p, sigma, beta);"
     ],
     "language": "python",
     "metadata": {},
     "outputs": [],
     "prompt_number": 14
    },
    {
     "cell_type": "heading",
     "level": 3,
     "metadata": {},
     "prompt_number": 15,
     "source": [
      "5-sparse model"
     ]
    },
    {
     "cell_type": "code",
     "collapsed": false,
     "input": [
      "beta = np.zeros(p)\n",
      "beta[:5] = np.array([4,4.5,5,5.5,3.5]) * sigma\n",
      "simulation(n, p, sigma, beta);\n",
      "\n"
     ],
     "language": "python",
     "metadata": {},
     "outputs": [],
     "prompt_number": 15
    }
   ],
   "metadata": {}
  }
 ]
}