{
 "metadata": {
  "name": ""
 },
 "nbformat": 3,
 "nbformat_minor": 0,
 "worksheets": [
  {
   "cells": [
    {
     "cell_type": "code",
     "collapsed": false,
     "input": [
      "from test import test_pivots\n",
      "import constraints as C\n",
      "import numpy as np"
     ],
     "language": "python",
     "metadata": {},
     "outputs": [],
     "prompt_number": 18
    },
    {
     "cell_type": "code",
     "collapsed": false,
     "input": [
      "%load_ext rmagic\n",
      "P = [test_pivots()[-1] for _ in range(5000)]\n",
      "%R -i P"
     ],
     "language": "python",
     "metadata": {},
     "outputs": [
      {
       "output_type": "stream",
       "stream": "stderr",
       "text": [
        "constraints.py:155: UserWarning: constraints not satisfied: array([ 1.71090646,  3.19314075,  6.09021381, -0.00490885])\n",
        "  warn('constraints not satisfied: %s' % `U`)\n",
        "constraints.py:155: UserWarning: constraints not satisfied: array([ 0.16368884,  4.92639745, -0.00287809,  6.7552196 ])\n",
        "  warn('constraints not satisfied: %s' % `U`)\n"
       ]
      },
      {
       "output_type": "stream",
       "stream": "stderr",
       "text": [
        "constraints.py:155: UserWarning: constraints not satisfied: array([  0.31635766,  12.32874275,   0.7982411 ,  -0.01141226])\n",
        "  warn('constraints not satisfied: %s' % `U`)\n",
        "constraints.py:155: UserWarning: constraints not satisfied: array([ 3.53466421,  1.47008024,  8.37356051, -0.00577252])\n",
        "  warn('constraints not satisfied: %s' % `U`)\n"
       ]
      },
      {
       "output_type": "stream",
       "stream": "stderr",
       "text": [
        "constraints.py:155: UserWarning: constraints not satisfied: array([ 0.87204499,  4.4566665 ,  0.0806998 , -0.00413267])\n",
        "  warn('constraints not satisfied: %s' % `U`)\n",
        "constraints.py:155: UserWarning: constraints not satisfied: array([ 1.4227518 ,  2.48865267, -0.00109452,  1.69055639])\n",
        "  warn('constraints not satisfied: %s' % `U`)\n"
       ]
      },
      {
       "output_type": "stream",
       "stream": "stderr",
       "text": [
        "constraints.py:155: UserWarning: constraints not satisfied: array([ 5.2438446 ,  1.25795476,  3.07560632, -0.00089158])\n",
        "  warn('constraints not satisfied: %s' % `U`)\n",
        "constraints.py:155: UserWarning: constraints not satisfied: array([ 2.38448543,  3.60504443,  7.9751358 , -0.00197738])\n",
        "  warn('constraints not satisfied: %s' % `U`)\n"
       ]
      },
      {
       "output_type": "stream",
       "stream": "stderr",
       "text": [
        "constraints.py:155: UserWarning: constraints not satisfied: array([ 2.60839568,  2.46304396,  5.88267607, -0.00556586])\n",
        "  warn('constraints not satisfied: %s' % `U`)\n",
        "constraints.py:155: UserWarning: constraints not satisfied: array([ 2.27340477, -0.00327003,  4.17737521,  3.65110569])\n",
        "  warn('constraints not satisfied: %s' % `U`)\n"
       ]
      },
      {
       "output_type": "stream",
       "stream": "stderr",
       "text": [
        "constraints.py:155: UserWarning: constraints not satisfied: array([ 0.05066552,  2.42830614,  9.29294178, -0.00898939])\n",
        "  warn('constraints not satisfied: %s' % `U`)\n",
        "constraints.py:155: UserWarning: constraints not satisfied: array([ 6.42573816,  0.68559473,  4.32405194, -0.00450235])\n",
        "  warn('constraints not satisfied: %s' % `U`)\n"
       ]
      },
      {
       "output_type": "stream",
       "stream": "stderr",
       "text": [
        "constraints.py:155: UserWarning: constraints not satisfied: array([ 0.25522147,  2.8301038 ,  3.79861842, -0.00101724])\n",
        "  warn('constraints not satisfied: %s' % `U`)\n",
        "constraints.py:155: UserWarning: constraints not satisfied: array([ 12.83799862,   2.32861551,   8.45574143,  -0.00244308])\n",
        "  warn('constraints not satisfied: %s' % `U`)\n"
       ]
      },
      {
       "output_type": "stream",
       "stream": "stderr",
       "text": [
        "constraints.py:155: UserWarning: constraints not satisfied: array([ 1.05263305,  2.83419871,  6.92444217, -0.00127581])\n",
        "  warn('constraints not satisfied: %s' % `U`)\n",
        "constraints.py:155: UserWarning: constraints not satisfied: array([ 3.65442503,  0.93429408,  1.2477361 , -0.00063576])\n",
        "  warn('constraints not satisfied: %s' % `U`)\n"
       ]
      },
      {
       "output_type": "stream",
       "stream": "stderr",
       "text": [
        "constraints.py:155: UserWarning: constraints not satisfied: array([ 2.27485248, -0.00257864,  5.34866713,  5.48619045])\n",
        "  warn('constraints not satisfied: %s' % `U`)\n",
        "constraints.py:155: UserWarning: constraints not satisfied: array([ 8.97454545, -0.00814869,  0.46562482,  0.85755932])\n",
        "  warn('constraints not satisfied: %s' % `U`)\n"
       ]
      },
      {
       "output_type": "stream",
       "stream": "stderr",
       "text": [
        "constraints.py:155: UserWarning: constraints not satisfied: array([ 3.13283917, -0.00505617,  4.24635069,  5.81938168])\n",
        "  warn('constraints not satisfied: %s' % `U`)\n",
        "constraints.py:155: UserWarning: constraints not satisfied: array([  7.02836122,   0.15326967,  -0.01414688,  14.1579635 ])\n",
        "  warn('constraints not satisfied: %s' % `U`)\n"
       ]
      },
      {
       "output_type": "stream",
       "stream": "stderr",
       "text": [
        "constraints.py:155: UserWarning: constraints not satisfied: array([ 6.94028589,  1.3232656 , -0.0035688 ,  1.78345989])\n",
        "  warn('constraints not satisfied: %s' % `U`)\n",
        "constraints.py:155: UserWarning: constraints not satisfied: array([ 5.90910993, -0.00089397,  6.64288162,  6.26222152])\n",
        "  warn('constraints not satisfied: %s' % `U`)\n"
       ]
      },
      {
       "output_type": "stream",
       "stream": "stderr",
       "text": [
        "constraints.py:155: UserWarning: constraints not satisfied: array([  0.28488089,  11.73298937,   5.89010126,  -0.01166778])\n",
        "  warn('constraints not satisfied: %s' % `U`)\n",
        "constraints.py:155: UserWarning: constraints not satisfied: array([  1.17115047,   0.64320035,  14.84978943,  -0.00293713])\n",
        "  warn('constraints not satisfied: %s' % `U`)\n"
       ]
      },
      {
       "output_type": "stream",
       "stream": "stderr",
       "text": [
        "constraints.py:155: UserWarning: constraints not satisfied: array([  1.38685368,   7.16464632,  -0.01114959,  12.51132167])\n",
        "  warn('constraints not satisfied: %s' % `U`)\n",
        "constraints.py:155: UserWarning: constraints not satisfied: array([-0.00351811,  5.16234425,  2.2914652 ,  3.55109154])\n",
        "  warn('constraints not satisfied: %s' % `U`)\n"
       ]
      },
      {
       "output_type": "stream",
       "stream": "stdout",
       "text": [
        "The rmagic extension is already loaded. To reload it, use:\n",
        "  %reload_ext rmagic\n"
       ]
      }
     ],
     "prompt_number": 56
    },
    {
     "cell_type": "code",
     "collapsed": false,
     "input": [
      "%%R\n",
      "plot(ecdf(P))\n",
      "abline(0,1)"
     ],
     "language": "python",
     "metadata": {},
     "outputs": [
      {
       "metadata": {},
       "output_type": "display_data",
       "png": "[encoded data removed]"
      }
     ],
     "prompt_number": 57
    },
    {
     "cell_type": "markdown",
     "metadata": {},
     "source": [
      "Now let's try with a constraint from a linear model?"
     ]
    },
    {
     "cell_type": "code",
     "collapsed": false,
     "input": [
      "X = np.random.standard_normal((30,4))\n",
      "A, b = np.random.standard_normal((6,30)), np.random.standard_normal(6)\n",
      "E, f = np.random.standard_normal((2,30)), np.random.standard_normal(2)\n",
      "\n",
      "con = C.constraint((A,b), (E, f)).impose_equality()\n",
      "Y = C.simulate_from_constraints(con)\n",
      "Xinv = np.linalg.pinv(X)\n",
      "beta = np.dot(Xinv, Y)\n",
      "mu = np.dot(X, beta)\n",
      "mu /= np.linalg.norm(mu)"
     ],
     "language": "python",
     "metadata": {},
     "outputs": [],
     "prompt_number": 98
    },
    {
     "cell_type": "code",
     "collapsed": false,
     "input": [
      "tangent = []\n",
      "for i in range(3):\n",
      "    tangent.append(X[:,i] - (X[:,i] * mu).sum() * mu)\n",
      "np.array(tangent).shape"
     ],
     "language": "python",
     "metadata": {},
     "outputs": [
      {
       "metadata": {},
       "output_type": "pyout",
       "prompt_number": 99,
       "text": [
        "(3, 30)"
       ]
      }
     ],
     "prompt_number": 99
    },
    {
     "cell_type": "code",
     "collapsed": false,
     "input": [
      "con_lm = C.constraint((mu.reshape((1,30)), np.zeros(1)), (np.array(tangent), np.zeros(3)))"
     ],
     "language": "python",
     "metadata": {},
     "outputs": [],
     "prompt_number": 100
    },
    {
     "cell_type": "code",
     "collapsed": false,
     "input": [
      "new_con = C.stack(con, con_lm)"
     ],
     "language": "python",
     "metadata": {},
     "outputs": [],
     "prompt_number": 101
    },
    {
     "cell_type": "code",
     "collapsed": false,
     "input": [
      "P = []\n",
      "u = np.random.standard_normal(30)\n",
      "u[3] = 1\n",
      "for i in range(5000):\n",
      "    Z = C.simulate_from_constraints(con)\n",
      "    mu = np.dot(X, np.dot(Xinv, Z))\n",
      "    P.append(con.pivots(u, Z)[-1])"
     ],
     "language": "python",
     "metadata": {},
     "outputs": [
      {
       "output_type": "stream",
       "stream": "stderr",
       "text": [
        "constraints.py:155: UserWarning: constraints not satisfied: array([  0.34561246,   4.34209407,  -0.00939385,   5.08385469,\n",
        "         3.85511702,  13.42009605])\n",
        "  warn('constraints not satisfied: %s' % `U`)\n",
        "constraints.py:155: UserWarning: constraints not satisfied: array([ 4.06363533,  1.99642848,  6.92190195, -0.00299238,  6.76914631,\n",
        "        1.34102024])\n",
        "  warn('constraints not satisfied: %s' % `U`)\n"
       ]
      },
      {
       "output_type": "stream",
       "stream": "stderr",
       "text": [
        "constraints.py:155: UserWarning: constraints not satisfied: array([-0.00075745,  2.57440192,  1.00963718,  3.17885414,  2.97564029,\n",
        "        0.33199159])\n",
        "  warn('constraints not satisfied: %s' % `U`)\n",
        "constraints.py:155: UserWarning: constraints not satisfied: array([ 2.53934087,  0.0692945 , -0.00436632,  2.34309817,  3.41601645,\n",
        "        5.15952293])\n",
        "  warn('constraints not satisfied: %s' % `U`)\n"
       ]
      },
      {
       "output_type": "stream",
       "stream": "stderr",
       "text": [
        "constraints.py:155: UserWarning: constraints not satisfied: array([-0.00456842,  0.16129662,  8.65552546,  1.55020415,  9.99015319,\n",
        "        6.1542846 ])\n",
        "  warn('constraints not satisfied: %s' % `U`)\n",
        "constraints.py:155: UserWarning: constraints not satisfied: array([ 1.09990247,  5.0749894 , -0.00498162,  1.77838864,  1.24161077,\n",
        "        0.32424454])\n",
        "  warn('constraints not satisfied: %s' % `U`)\n",
        "constraints.py:155: UserWarning: constraints not satisfied: array([ 1.35285206,  6.49377271,  7.0897859 , -0.00317562,  8.49670122,\n",
        "        3.3070897 ])\n",
        "  warn('constraints not satisfied: %s' % `U`)\n"
       ]
      },
      {
       "output_type": "stream",
       "stream": "stderr",
       "text": [
        "constraints.py:155: UserWarning: constraints not satisfied: array([  2.91518981,  -0.00395694,   2.13436467,   3.73548534,\n",
        "         6.33356427,  11.24323496])\n",
        "  warn('constraints not satisfied: %s' % `U`)\n",
        "constraints.py:155: UserWarning: constraints not satisfied: array([  6.65837178,  14.69388343,  -0.01050323,   1.65436601,\n",
        "         3.67980264,   1.95324727])\n",
        "  warn('constraints not satisfied: %s' % `U`)\n"
       ]
      },
      {
       "output_type": "stream",
       "stream": "stderr",
       "text": [
        "constraints.py:155: UserWarning: constraints not satisfied: array([-0.004124  ,  5.86451985,  1.03075273,  3.51489093,  7.70863828,\n",
        "        3.21520707])\n",
        "  warn('constraints not satisfied: %s' % `U`)\n",
        "constraints.py:155: UserWarning: constraints not satisfied: array([  3.57561391,  -0.00453177,   1.79000502,   4.7467756 ,\n",
        "         5.34276354,  12.84091403])\n",
        "  warn('constraints not satisfied: %s' % `U`)\n"
       ]
      },
      {
       "output_type": "stream",
       "stream": "stderr",
       "text": [
        "constraints.py:155: UserWarning: constraints not satisfied: array([-0.00146699,  4.67035099,  3.53106208,  4.31041077,  2.04350419,\n",
        "        1.27966161])\n",
        "  warn('constraints not satisfied: %s' % `U`)\n",
        "constraints.py:155: UserWarning: constraints not satisfied: array([-0.00172043,  0.84510551,  7.27096068,  9.73531992,  3.34655101,\n",
        "        5.18038479])\n",
        "  warn('constraints not satisfied: %s' % `U`)\n"
       ]
      },
      {
       "output_type": "stream",
       "stream": "stderr",
       "text": [
        "constraints.py:155: UserWarning: constraints not satisfied: array([ 2.79101901,  8.68465331,  0.25637352, -0.00427623,  3.5079212 ,\n",
        "        2.95462604])\n",
        "  warn('constraints not satisfied: %s' % `U`)\n",
        "constraints.py:155: UserWarning: constraints not satisfied: array([ 0.87673899, -0.00745473,  7.55394117,  6.1547747 ,  4.65262091,\n",
        "        3.14188866])\n",
        "  warn('constraints not satisfied: %s' % `U`)\n"
       ]
      },
      {
       "output_type": "stream",
       "stream": "stderr",
       "text": [
        "constraints.py:155: UserWarning: constraints not satisfied: array([ 1.30881649,  2.03070155, -0.00552695,  7.81541343,  9.31114117,\n",
        "        1.83876923])\n",
        "  warn('constraints not satisfied: %s' % `U`)\n",
        "constraints.py:155: UserWarning: constraints not satisfied: array([  1.36860024,  -0.00625517,   0.20757683,   1.60026019,\n",
        "         4.82821491,  10.21284401])\n",
        "  warn('constraints not satisfied: %s' % `U`)\n"
       ]
      },
      {
       "output_type": "stream",
       "stream": "stderr",
       "text": [
        "constraints.py:155: UserWarning: constraints not satisfied: array([ -0.00517406,  10.57228612,   1.91780438,   5.04191331,\n",
        "         6.57372956,   4.12174548])\n",
        "  warn('constraints not satisfied: %s' % `U`)\n",
        "constraints.py:155: UserWarning: constraints not satisfied: array([ 0.94733132,  3.16773995,  4.38478271,  3.95817394,  2.20618632,\n",
        "       -0.00088683])\n",
        "  warn('constraints not satisfied: %s' % `U`)\n"
       ]
      },
      {
       "output_type": "stream",
       "stream": "stderr",
       "text": [
        "constraints.py:155: UserWarning: constraints not satisfied: array([ 0.15889682, -0.00444985,  0.16550975,  2.39928332,  0.62852612,\n",
        "        4.69575606])\n",
        "  warn('constraints not satisfied: %s' % `U`)\n",
        "constraints.py:155: UserWarning: constraints not satisfied: array([ 3.89266234,  6.50664823,  1.85656092, -0.00328624,  5.90808802,\n",
        "        3.32175731])\n",
        "  warn('constraints not satisfied: %s' % `U`)\n",
        "constraints.py:155: UserWarning: constraints not satisfied: array([ 2.02344033, -0.00368281,  6.25123962,  7.75554523,  0.03486594,\n",
        "        0.49905092])\n",
        "  warn('constraints not satisfied: %s' % `U`)\n"
       ]
      },
      {
       "output_type": "stream",
       "stream": "stderr",
       "text": [
        "constraints.py:155: UserWarning: constraints not satisfied: array([ 0.69436823,  4.90857526,  2.7019054 ,  1.38263285,  8.41810556,\n",
        "       -0.00217016])\n",
        "  warn('constraints not satisfied: %s' % `U`)\n",
        "constraints.py:155: UserWarning: constraints not satisfied: array([  3.49549927,  -0.00695681,  14.65471546,   4.25460392,\n",
        "         1.8693866 ,   8.16607242])\n",
        "  warn('constraints not satisfied: %s' % `U`)\n"
       ]
      },
      {
       "output_type": "stream",
       "stream": "stderr",
       "text": [
        "constraints.py:155: UserWarning: constraints not satisfied: array([ 2.12709053,  2.91555712,  1.82124989,  4.73323517,  4.50915641,\n",
        "       -0.00206903])\n",
        "  warn('constraints not satisfied: %s' % `U`)\n",
        "constraints.py:155: UserWarning: constraints not satisfied: array([ 1.28439466,  3.14223849, -0.0014612 ,  1.72674581,  0.12141365,\n",
        "        0.91541159])\n",
        "  warn('constraints not satisfied: %s' % `U`)\n"
       ]
      },
      {
       "output_type": "stream",
       "stream": "stderr",
       "text": [
        "constraints.py:155: UserWarning: constraints not satisfied: array([-0.00515208,  0.74434073,  6.35048055,  3.53075725,  2.15465935,\n",
        "        7.09502878])\n",
        "  warn('constraints not satisfied: %s' % `U`)\n",
        "constraints.py:155: UserWarning: constraints not satisfied: array([-0.0078561 ,  4.9470493 ,  0.97531309,  0.44673254,  0.70419064,\n",
        "        8.52831105])\n",
        "  warn('constraints not satisfied: %s' % `U`)\n",
        "constraints.py:155: UserWarning: constraints not satisfied: array([ 0.70962154,  3.40363211,  9.92145887,  2.82527059, -0.00321754,\n",
        "        3.65601536])\n",
        "  warn('constraints not satisfied: %s' % `U`)\n",
        "constraints.py:155: UserWarning: constraints not satisfied: array([ 2.75790025,  1.22558709,  3.62579995,  6.35858009, -0.00562122,\n",
        "        0.09694815])\n",
        "  warn('constraints not satisfied: %s' % `U`)\n"
       ]
      },
      {
       "output_type": "stream",
       "stream": "stderr",
       "text": [
        "constraints.py:155: UserWarning: constraints not satisfied: array([ -0.00309538,   6.6141941 ,   9.45689998,   0.23804186,\n",
        "        12.93697903,   7.75948318])\n",
        "  warn('constraints not satisfied: %s' % `U`)\n",
        "constraints.py:155: UserWarning: constraints not satisfied: array([  1.06217687,  -0.00463081,  12.37618927,   0.35171344,\n",
        "         9.16008446,   9.40116033])\n",
        "  warn('constraints not satisfied: %s' % `U`)\n"
       ]
      },
      {
       "output_type": "stream",
       "stream": "stderr",
       "text": [
        "constraints.py:155: UserWarning: constraints not satisfied: array([  1.56412332,   5.88093475,   2.36514138,   0.74812274,\n",
        "        13.29668188,  -0.01219053])\n",
        "  warn('constraints not satisfied: %s' % `U`)\n"
       ]
      }
     ],
     "prompt_number": 104
    },
    {
     "cell_type": "code",
     "collapsed": false,
     "input": [
      "%%R -i P\n",
      "P = P[P>0]\n",
      "P = P[P<1]\n",
      "plot(ecdf(P))\n",
      "abline(0,1)"
     ],
     "language": "python",
     "metadata": {},
     "outputs": [
      {
       "metadata": {},
       "output_type": "display_data",
       "png": "[encoded data removed]"
      }
     ],
     "prompt_number": 105
    },
    {
     "cell_type": "code",
     "collapsed": false,
     "input": [],
     "language": "python",
     "metadata": {},
     "outputs": [],
     "prompt_number": 105
    },
    {
     "cell_type": "code",
     "collapsed": false,
     "input": [],
     "language": "python",
     "metadata": {},
     "outputs": []
    }
   ],
   "metadata": {}
  }
 ]
}