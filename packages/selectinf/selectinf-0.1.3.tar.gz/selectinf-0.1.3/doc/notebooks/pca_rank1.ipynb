{
 "metadata": {
  "name": "",
  "signature": "sha256:ac91f3c46ac48af1ad2001e9085f8d37752cb880c1934373ad8f8b0402cb42c0"
 },
 "nbformat": 3,
 "nbformat_minor": 0,
 "worksheets": [
  {
   "cells": [
    {
     "cell_type": "code",
     "collapsed": false,
     "input": [
      "%load_ext rmagic\n",
      "%pylab inline\n",
      "import numpy as np\n"
     ],
     "language": "python",
     "metadata": {},
     "outputs": [
      {
       "output_type": "stream",
       "stream": "stdout",
       "text": [
        "The rmagic extension is already loaded. To reload it, use:\n",
        "  %reload_ext rmagic\n",
        "Populating the interactive namespace from numpy and matplotlib\n"
       ]
      },
      {
       "output_type": "stream",
       "stream": "stderr",
       "text": [
        "WARNING: pylab import has clobbered these variables: ['grid']\n",
        "`%matplotlib` prevents importing * from pylab and numpy\n"
       ]
      }
     ],
     "prompt_number": 42
    },
    {
     "cell_type": "code",
     "collapsed": false,
     "input": [
      "%%R\n",
      "library(RMTstat)\n",
      "###########################################################\n",
      "# function: TW\n",
      "# --------------\n",
      "# Tracy-Widom test at step k\n",
      "# returns the probability of P(TW > t) where the t is the observed value\n",
      "# singulars: singular values of Y'Y/N\n",
      "# N: nrow of Y\n",
      "# p: ncol of Y\n",
      "# stepK: the step k of in the sequential test.\n",
      "# sig: sigma square value. if sigma^2 is known, plug it in. Otherwise, use estSig function to estimate it.\n",
      "\n",
      "TW = function(singulars, N, p, stepK, sig){\n",
      "\tsignp = (sqrt(N-0.5) + sqrt(p-stepK-0.5))*(1/sqrt(N-0.5) + 1/sqrt(p-stepK-0.5))^(1/3)/N\n",
      "\tcentEig = ( singulars[stepK]/sig - (sqrt(N-0.5) + sqrt(p-stepK-0.5))^2/N )/signp\n",
      "\treturn(1-ptw(centEig))\n",
      "}\n"
     ],
     "language": "python",
     "metadata": {},
     "outputs": [],
     "prompt_number": 43
    },
    {
     "cell_type": "code",
     "collapsed": false,
     "input": [
      "def TW(eigenvals, n, p, sig):\n",
      "    \"\"\"\n",
      "    Step 1 of the sequential PCA algorithm using TW approximation.\n",
      "    \"\"\"\n",
      "    %R -i eigenvals,n,p,sig\n",
      "    V = %R TW(eigenvals, n, p, 1, sig)\n",
      "    return V[0]"
     ],
     "language": "python",
     "metadata": {},
     "outputs": [],
     "prompt_number": 44
    },
    {
     "cell_type": "code",
     "collapsed": false,
     "input": [
      "n, p, sigma = 50, 10, 2\n",
      "X = np.random.standard_normal((50,10))*sigma\n",
      "U, D, V = np.linalg.svd(X)\n",
      "TW(D**2/n,n,p,sig**2)"
     ],
     "language": "python",
     "metadata": {},
     "outputs": [
      {
       "metadata": {},
       "output_type": "pyout",
       "prompt_number": 45,
       "text": [
        "0.71815010033446947"
       ]
      }
     ],
     "prompt_number": 45
    },
    {
     "cell_type": "markdown",
     "metadata": {},
     "source": [
      "## Null behavior"
     ]
    },
    {
     "cell_type": "code",
     "collapsed": false,
     "input": [
      "from selection.pca import pvalue\n",
      "from statsmodels.distributions import ECDF\n",
      "\n",
      "P_exact = []\n",
      "P_TW = []\n",
      "nsim = 2000\n",
      "\n",
      "for _ in range(nsim):\n",
      "    X = np.random.standard_normal((n,p)) * sigma\n",
      "    U, D, V = np.linalg.svd(X)\n",
      "    P_exact.append(pvalue(X, sigma))\n",
      "    P_TW.append(TW(D**2/n,n,p,sigma**2))"
     ],
     "language": "python",
     "metadata": {},
     "outputs": []
    },
    {
     "cell_type": "code",
     "collapsed": false,
     "input": [
      "grid = np.linspace(0,1,101)\n",
      "null_fig = plt.figure(figsize=(8,8))\n",
      "null_ax = null_fig.gca()\n",
      "null_ax.plot(grid, ECDF(P_exact)(grid), label='exact')\n",
      "null_ax.plot(grid, ECDF(P_TW)(grid), label='Tracy-Widom')\n",
      "null_ax.legend(loc='lower right')"
     ],
     "language": "python",
     "metadata": {},
     "outputs": []
    },
    {
     "cell_type": "code",
     "collapsed": false,
     "input": [],
     "language": "python",
     "metadata": {},
     "outputs": [],
     "prompt_number": 47
    }
   ],
   "metadata": {}
  }
 ]
}