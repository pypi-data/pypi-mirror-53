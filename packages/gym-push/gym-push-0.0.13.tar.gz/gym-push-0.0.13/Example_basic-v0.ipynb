{
 "cells": [
  {
   "cell_type": "markdown",
   "metadata": {},
   "source": [
    "# How to use the basic-v0 environment"
   ]
  },
  {
   "cell_type": "markdown",
   "metadata": {},
   "source": [
    "### 1. Import the gym"
   ]
  },
  {
   "cell_type": "code",
   "execution_count": 1,
   "metadata": {},
   "outputs": [],
   "source": [
    "import gym\n",
    "import time\n",
    "\n",
    "import warnings; \n",
    "from IPython.display import Image\n",
    "warnings.filterwarnings('ignore')"
   ]
  },
  {
   "cell_type": "markdown",
   "metadata": {},
   "source": [
    "### 2. Create the gym-push basic-v0 environment"
   ]
  },
  {
   "cell_type": "code",
   "execution_count": 5,
   "metadata": {},
   "outputs": [
    {
     "name": "stdout",
     "output_type": "stream",
     "text": [
      "Basic-v0 environment\n"
     ]
    },
    {
     "name": "stderr",
     "output_type": "stream",
     "text": [
      "Traceback (most recent call last):\n",
      "  File \"src\\gevent\\greenlet.py\", line 766, in gevent._greenlet.Greenlet.run\n",
      "  File \"C:\\Users\\Kieran\\AppData\\Local\\conda\\conda\\envs\\test\\lib\\site-packages\\eel\\__init__.py\", line 127, in run_lambda\n",
      "    quiet=True)\n",
      "  File \"C:\\Users\\Kieran\\AppData\\Local\\conda\\conda\\envs\\test\\lib\\site-packages\\bottle.py\", line 3131, in run\n",
      "    server.run(app)\n",
      "  File \"C:\\Users\\Kieran\\AppData\\Local\\conda\\conda\\envs\\test\\lib\\site-packages\\bottle_websocket\\server.py\", line 17, in run\n",
      "    server.serve_forever()\n",
      "  File \"C:\\Users\\Kieran\\AppData\\Local\\conda\\conda\\envs\\test\\lib\\site-packages\\gevent\\baseserver.py\", line 367, in serve_forever\n",
      "    self.start()\n",
      "  File \"C:\\Users\\Kieran\\AppData\\Local\\conda\\conda\\envs\\test\\lib\\site-packages\\gevent\\baseserver.py\", line 305, in start\n",
      "    self.init_socket()\n",
      "  File \"C:\\Users\\Kieran\\AppData\\Local\\conda\\conda\\envs\\test\\lib\\site-packages\\gevent\\pywsgi.py\", line 1490, in init_socket\n",
      "    StreamServer.init_socket(self)\n",
      "  File \"C:\\Users\\Kieran\\AppData\\Local\\conda\\conda\\envs\\test\\lib\\site-packages\\gevent\\server.py\", line 146, in init_socket\n",
      "    self.socket = self.get_listener(self.address, self.backlog, self.family)\n",
      "  File \"C:\\Users\\Kieran\\AppData\\Local\\conda\\conda\\envs\\test\\lib\\site-packages\\gevent\\server.py\", line 157, in get_listener\n",
      "    return _tcp_listener(address, backlog=backlog, reuse_addr=cls.reuse_addr, family=family)\n",
      "  File \"C:\\Users\\Kieran\\AppData\\Local\\conda\\conda\\envs\\test\\lib\\site-packages\\gevent\\server.py\", line 256, in _tcp_listener\n",
      "    sock.bind(address)\n",
      "OSError: [WinError 10048] Only one usage of each socket address (protocol/network address/port) is normally permitted: ('localhost', 8000)\n",
      "2019-10-07T11:30:29Z <Greenlet at 0x24351d70a48: run_lambda> failed with OSError\n",
      "\n"
     ]
    }
   ],
   "source": [
    "env = gym.make('gym_push:basic-v0')"
   ]
  },
  {
   "cell_type": "markdown",
   "metadata": {},
   "source": [
    "### 3. Call the reset method to get the first observation"
   ]
  },
  {
   "cell_type": "code",
   "execution_count": 6,
   "metadata": {},
   "outputs": [
    {
     "name": "stdout",
     "output_type": "stream",
     "text": [
      "First observation:  {'appPackage': 'com.whatsapp', 'category': 'unknown', 'priority': 1, 'numberUpdates': 1, 'postedDayOfWeek': 'Fri', 'postedTimeOfDay': 'morn', 'contactSignificantContext': True}\n"
     ]
    }
   ],
   "source": [
    "obs = env.reset()\n",
    "print('First observation: ', obs)"
   ]
  },
  {
   "cell_type": "markdown",
   "metadata": {},
   "source": [
    "### 4. Step through each observation, making random actions"
   ]
  },
  {
   "cell_type": "code",
   "execution_count": 7,
   "metadata": {},
   "outputs": [
    {
     "name": "stdout",
     "output_type": "stream",
     "text": [
      "Total Reward:  1\n"
     ]
    }
   ],
   "source": [
    "finished = False\n",
    "total_reward = 0\n",
    "while not finished:\n",
    "    obs, reward, finished, info = env.step(env.action_space.sample())\n",
    "    total_reward = total_reward + reward\n",
    "    env.render()\n",
    "    # time.sleep(5)\n",
    "print('Total Reward: ', total_reward)"
   ]
  },
  {
   "cell_type": "markdown",
   "metadata": {},
   "source": [
    "### Screenshot of basic-v0 environment render after simulation finishing"
   ]
  },
  {
   "cell_type": "markdown",
   "metadata": {},
   "source": [
    "![Basic-v0 screenshot](screenshots/basic-v0.png)"
   ]
  }
 ],
 "metadata": {
  "kernelspec": {
   "display_name": "Python 3",
   "language": "python",
   "name": "python3"
  },
  "language_info": {
   "codemirror_mode": {
    "name": "ipython",
    "version": 3
   },
   "file_extension": ".py",
   "mimetype": "text/x-python",
   "name": "python",
   "nbconvert_exporter": "python",
   "pygments_lexer": "ipython3",
   "version": "3.6.7"
  }
 },
 "nbformat": 4,
 "nbformat_minor": 2
}
