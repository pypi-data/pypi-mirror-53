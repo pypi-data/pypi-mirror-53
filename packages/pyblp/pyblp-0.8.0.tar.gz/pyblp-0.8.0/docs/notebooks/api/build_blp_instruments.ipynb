{
 "cells": [
  {
   "cell_type": "markdown",
   "metadata": {},
   "source": [
    "# Building \"Sums of Characteristics\" BLP Instruments Example"
   ]
  },
  {
   "cell_type": "code",
   "execution_count": 1,
   "metadata": {},
   "outputs": [
    {
     "data": {
      "text/plain": [
       "'0.8.0'"
      ]
     },
     "execution_count": 1,
     "metadata": {},
     "output_type": "execute_result"
    }
   ],
   "source": [
    "import pyblp\n",
    "import pandas as pd\n",
    "\n",
    "pyblp.__version__"
   ]
  },
  {
   "cell_type": "markdown",
   "metadata": {},
   "source": [
    "In this example, we'll load the automobile product data from :ref:`references:Berry, Levinsohn, and Pakes (1995)` and build some very simple excluded demand-side instruments for the problem. These instruments are different from the pre-built ones included in the automobile product data file, which used principal component analysis to alleviate a collinearity problem"
   ]
  },
  {
   "cell_type": "code",
   "execution_count": 2,
   "metadata": {},
   "outputs": [
    {
     "data": {
      "text/plain": [
       "1 + hpwt + air + mpd + space"
      ]
     },
     "execution_count": 2,
     "metadata": {},
     "output_type": "execute_result"
    }
   ],
   "source": [
    "formulation = pyblp.Formulation('1 + hpwt + air + mpd + space')\n",
    "formulation"
   ]
  },
  {
   "cell_type": "code",
   "execution_count": 3,
   "metadata": {},
   "outputs": [
    {
     "data": {
      "text/html": [
       "<div>\n",
       "<style scoped>\n",
       "    .dataframe tbody tr th:only-of-type {\n",
       "        vertical-align: middle;\n",
       "    }\n",
       "\n",
       "    .dataframe tbody tr th {\n",
       "        vertical-align: top;\n",
       "    }\n",
       "\n",
       "    .dataframe thead th {\n",
       "        text-align: right;\n",
       "    }\n",
       "</style>\n",
       "<table border=\"1\" class=\"dataframe\">\n",
       "  <thead>\n",
       "    <tr style=\"text-align: right;\">\n",
       "      <th></th>\n",
       "      <th>market_ids</th>\n",
       "      <th>clustering_ids</th>\n",
       "      <th>car_ids</th>\n",
       "      <th>firm_ids</th>\n",
       "      <th>region</th>\n",
       "      <th>shares</th>\n",
       "      <th>prices</th>\n",
       "      <th>hpwt</th>\n",
       "      <th>air</th>\n",
       "      <th>mpd</th>\n",
       "      <th>...</th>\n",
       "      <th>supply_instruments2</th>\n",
       "      <th>supply_instruments3</th>\n",
       "      <th>supply_instruments4</th>\n",
       "      <th>supply_instruments5</th>\n",
       "      <th>supply_instruments6</th>\n",
       "      <th>supply_instruments7</th>\n",
       "      <th>supply_instruments8</th>\n",
       "      <th>supply_instruments9</th>\n",
       "      <th>supply_instruments10</th>\n",
       "      <th>supply_instruments11</th>\n",
       "    </tr>\n",
       "  </thead>\n",
       "  <tbody>\n",
       "    <tr>\n",
       "      <th>0</th>\n",
       "      <td>1971</td>\n",
       "      <td>AMGREM71</td>\n",
       "      <td>129</td>\n",
       "      <td>15</td>\n",
       "      <td>US</td>\n",
       "      <td>0.001051</td>\n",
       "      <td>4.935802</td>\n",
       "      <td>0.528997</td>\n",
       "      <td>0</td>\n",
       "      <td>1.888146</td>\n",
       "      <td>...</td>\n",
       "      <td>1.055037</td>\n",
       "      <td>0.150499</td>\n",
       "      <td>-2.234214</td>\n",
       "      <td>1.021490</td>\n",
       "      <td>0.955167</td>\n",
       "      <td>0.584095</td>\n",
       "      <td>0.122192</td>\n",
       "      <td>-0.728782</td>\n",
       "      <td>0.447728</td>\n",
       "      <td>2.024221</td>\n",
       "    </tr>\n",
       "    <tr>\n",
       "      <th>1</th>\n",
       "      <td>1971</td>\n",
       "      <td>AMHORN71</td>\n",
       "      <td>130</td>\n",
       "      <td>15</td>\n",
       "      <td>US</td>\n",
       "      <td>0.000670</td>\n",
       "      <td>5.516049</td>\n",
       "      <td>0.494324</td>\n",
       "      <td>0</td>\n",
       "      <td>1.935989</td>\n",
       "      <td>...</td>\n",
       "      <td>1.042628</td>\n",
       "      <td>0.128299</td>\n",
       "      <td>-2.286422</td>\n",
       "      <td>1.046958</td>\n",
       "      <td>0.877064</td>\n",
       "      <td>0.570652</td>\n",
       "      <td>0.131951</td>\n",
       "      <td>-0.692700</td>\n",
       "      <td>0.416704</td>\n",
       "      <td>2.026706</td>\n",
       "    </tr>\n",
       "    <tr>\n",
       "      <th>2</th>\n",
       "      <td>1971</td>\n",
       "      <td>AMJAVL71</td>\n",
       "      <td>132</td>\n",
       "      <td>15</td>\n",
       "      <td>US</td>\n",
       "      <td>0.000341</td>\n",
       "      <td>7.108642</td>\n",
       "      <td>0.467613</td>\n",
       "      <td>0</td>\n",
       "      <td>1.716799</td>\n",
       "      <td>...</td>\n",
       "      <td>1.098263</td>\n",
       "      <td>0.235564</td>\n",
       "      <td>-2.129088</td>\n",
       "      <td>0.974158</td>\n",
       "      <td>1.302888</td>\n",
       "      <td>0.601261</td>\n",
       "      <td>0.087406</td>\n",
       "      <td>-0.725265</td>\n",
       "      <td>0.570155</td>\n",
       "      <td>1.882594</td>\n",
       "    </tr>\n",
       "    <tr>\n",
       "      <th>3</th>\n",
       "      <td>1971</td>\n",
       "      <td>AMMATA71</td>\n",
       "      <td>134</td>\n",
       "      <td>15</td>\n",
       "      <td>US</td>\n",
       "      <td>0.000522</td>\n",
       "      <td>6.839506</td>\n",
       "      <td>0.426540</td>\n",
       "      <td>0</td>\n",
       "      <td>1.687871</td>\n",
       "      <td>...</td>\n",
       "      <td>1.105849</td>\n",
       "      <td>0.250612</td>\n",
       "      <td>-2.119819</td>\n",
       "      <td>0.971471</td>\n",
       "      <td>1.369823</td>\n",
       "      <td>0.602352</td>\n",
       "      <td>0.078418</td>\n",
       "      <td>-0.710436</td>\n",
       "      <td>0.592103</td>\n",
       "      <td>1.846079</td>\n",
       "    </tr>\n",
       "    <tr>\n",
       "      <th>4</th>\n",
       "      <td>1971</td>\n",
       "      <td>AMAMBS71</td>\n",
       "      <td>136</td>\n",
       "      <td>15</td>\n",
       "      <td>US</td>\n",
       "      <td>0.000442</td>\n",
       "      <td>8.928395</td>\n",
       "      <td>0.452489</td>\n",
       "      <td>0</td>\n",
       "      <td>1.504286</td>\n",
       "      <td>...</td>\n",
       "      <td>1.151893</td>\n",
       "      <td>0.343587</td>\n",
       "      <td>-1.969699</td>\n",
       "      <td>0.897435</td>\n",
       "      <td>1.733810</td>\n",
       "      <td>0.631745</td>\n",
       "      <td>0.050603</td>\n",
       "      <td>-0.748933</td>\n",
       "      <td>0.730975</td>\n",
       "      <td>1.760927</td>\n",
       "    </tr>\n",
       "  </tbody>\n",
       "</table>\n",
       "<p>5 rows × 32 columns</p>\n",
       "</div>"
      ],
      "text/plain": [
       "   market_ids clustering_ids  car_ids  firm_ids region    shares    prices  \\\n",
       "0        1971       AMGREM71      129        15     US  0.001051  4.935802   \n",
       "1        1971       AMHORN71      130        15     US  0.000670  5.516049   \n",
       "2        1971       AMJAVL71      132        15     US  0.000341  7.108642   \n",
       "3        1971       AMMATA71      134        15     US  0.000522  6.839506   \n",
       "4        1971       AMAMBS71      136        15     US  0.000442  8.928395   \n",
       "\n",
       "       hpwt  air       mpd  ...  supply_instruments2  supply_instruments3  \\\n",
       "0  0.528997    0  1.888146  ...             1.055037             0.150499   \n",
       "1  0.494324    0  1.935989  ...             1.042628             0.128299   \n",
       "2  0.467613    0  1.716799  ...             1.098263             0.235564   \n",
       "3  0.426540    0  1.687871  ...             1.105849             0.250612   \n",
       "4  0.452489    0  1.504286  ...             1.151893             0.343587   \n",
       "\n",
       "   supply_instruments4  supply_instruments5  supply_instruments6  \\\n",
       "0            -2.234214             1.021490             0.955167   \n",
       "1            -2.286422             1.046958             0.877064   \n",
       "2            -2.129088             0.974158             1.302888   \n",
       "3            -2.119819             0.971471             1.369823   \n",
       "4            -1.969699             0.897435             1.733810   \n",
       "\n",
       "   supply_instruments7  supply_instruments8  supply_instruments9  \\\n",
       "0             0.584095             0.122192            -0.728782   \n",
       "1             0.570652             0.131951            -0.692700   \n",
       "2             0.601261             0.087406            -0.725265   \n",
       "3             0.602352             0.078418            -0.710436   \n",
       "4             0.631745             0.050603            -0.748933   \n",
       "\n",
       "   supply_instruments10  supply_instruments11  \n",
       "0              0.447728              2.024221  \n",
       "1              0.416704              2.026706  \n",
       "2              0.570155              1.882594  \n",
       "3              0.592103              1.846079  \n",
       "4              0.730975              1.760927  \n",
       "\n",
       "[5 rows x 32 columns]"
      ]
     },
     "execution_count": 3,
     "metadata": {},
     "output_type": "execute_result"
    }
   ],
   "source": [
    "product_data = pd.read_csv(pyblp.data.BLP_PRODUCTS_LOCATION)\n",
    "product_data.head()"
   ]
  },
  {
   "cell_type": "code",
   "execution_count": 4,
   "metadata": {},
   "outputs": [
    {
     "data": {
      "text/plain": [
       "(2217, 10)"
      ]
     },
     "execution_count": 4,
     "metadata": {},
     "output_type": "execute_result"
    }
   ],
   "source": [
    "instruments = pyblp.build_blp_instruments(formulation, product_data)\n",
    "instruments.shape"
   ]
  }
 ],
 "metadata": {
  "kernelspec": {
   "display_name": "Python 3",
   "language": "python",
   "name": "python3"
  },
  "language_info": {
   "codemirror_mode": {
    "name": "ipython",
    "version": 3
   },
   "file_extension": ".py",
   "mimetype": "text/x-python",
   "name": "python",
   "nbconvert_exporter": "python",
   "pygments_lexer": "ipython3",
   "version": "3.7.3"
  }
 },
 "nbformat": 4,
 "nbformat_minor": 2
}
