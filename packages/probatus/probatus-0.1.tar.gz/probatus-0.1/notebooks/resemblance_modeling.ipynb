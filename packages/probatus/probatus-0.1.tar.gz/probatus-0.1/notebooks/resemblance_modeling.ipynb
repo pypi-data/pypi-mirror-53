{
 "cells": [
  {
   "cell_type": "code",
   "execution_count": 1,
   "metadata": {
    "ExecuteTime": {
     "end_time": "2019-08-26T08:58:34.812113Z",
     "start_time": "2019-08-26T08:58:33.945699Z"
    }
   },
   "outputs": [],
   "source": [
    "from pyrisk.datasets import lending_club\n",
    "\n",
    "\n",
    "from sklearn.model_selection import train_test_split\n"
   ]
  },
  {
   "cell_type": "markdown",
   "metadata": {},
   "source": [
    "### Use the lending club dataset"
   ]
  },
  {
   "cell_type": "code",
   "execution_count": 2,
   "metadata": {
    "ExecuteTime": {
     "end_time": "2019-08-26T08:58:34.857026Z",
     "start_time": "2019-08-26T08:58:34.813863Z"
    }
   },
   "outputs": [],
   "source": [
    "credit_df ,X_train,X_test,y_train, y_test =  lending_club()"
   ]
  },
  {
   "cell_type": "markdown",
   "metadata": {
    "ExecuteTime": {
     "end_time": "2019-08-26T08:47:35.434989Z",
     "start_time": "2019-08-26T08:47:35.430867Z"
    }
   },
   "source": [
    "### Resemblance modeling\n",
    "\n",
    "Resemblance models try to measure how different two samples are from a multivariate perspective.<br>\n",
    "\n",
    "It works as follows:\n",
    "- takes in input two datasets, X1, and X2\n",
    "- it labels them with 0 and 1\n",
    "- builds a model that will try to predict to which sample does an observation belong.\n",
    "- when this model has an AUC = 0.5, it means that the samples are not distingushable"
   ]
  },
  {
   "cell_type": "code",
   "execution_count": 3,
   "metadata": {
    "ExecuteTime": {
     "end_time": "2019-08-26T08:58:34.921487Z",
     "start_time": "2019-08-26T08:58:34.858386Z"
    }
   },
   "outputs": [],
   "source": [
    "from pyrisk.samples import ResemblanceModel"
   ]
  },
  {
   "cell_type": "markdown",
   "metadata": {},
   "source": [
    "### Fit the model on two samples, in this case we want to compare how similar are train and test"
   ]
  },
  {
   "cell_type": "code",
   "execution_count": 4,
   "metadata": {
    "ExecuteTime": {
     "end_time": "2019-08-26T08:58:35.021482Z",
     "start_time": "2019-08-26T08:58:34.922868Z"
    }
   },
   "outputs": [
    {
     "name": "stderr",
     "output_type": "stream",
     "text": [
      "/Users/we56sc/Developer/.miniconda3/envs/pyrisk_dev/lib/python3.6/site-packages/scikit_learn-0.21.3-py3.6-macosx-10.7-x86_64.egg/sklearn/ensemble/forest.py:245: FutureWarning: The default value of n_estimators will change from 10 in version 0.20 to 100 in 0.22.\n",
      "  \"10 in version 0.20 to 100 in 0.22.\", FutureWarning)\n"
     ]
    },
    {
     "data": {
      "text/plain": [
       "ResemblanceModel\n",
       "\tUnderlying model type: RandomForestClassifier\n",
       "The model is able to distinguish the samples with an AUC of 0.490"
      ]
     },
     "execution_count": 4,
     "metadata": {},
     "output_type": "execute_result"
    }
   ],
   "source": [
    "rm = ResemblanceModel().fit(X_train, X_test)\n",
    "rm"
   ]
  },
  {
   "cell_type": "markdown",
   "metadata": {},
   "source": [
    "### Check which features seem to have a higher importance in predicting to which sample does the model belong"
   ]
  },
  {
   "cell_type": "code",
   "execution_count": 5,
   "metadata": {
    "ExecuteTime": {
     "end_time": "2019-08-26T08:58:35.026981Z",
     "start_time": "2019-08-26T08:58:35.023075Z"
    }
   },
   "outputs": [
    {
     "data": {
      "text/plain": [
       "loan_amnt          0.141618\n",
       "funded_amnt        0.147853\n",
       "term               0.014709\n",
       "int_rate           0.200112\n",
       "annual_inc         0.214157\n",
       "fico_range_low     0.107564\n",
       "fico_range_high    0.103327\n",
       "long_emp           0.031031\n",
       "credit_grade_A     0.006320\n",
       "credit_grade_B     0.009032\n",
       "credit_grade_C     0.009315\n",
       "credit_grade_D     0.006198\n",
       "credit_grade_E     0.004962\n",
       "credit_grade_F     0.002327\n",
       "credit_grade_G     0.001476\n",
       "dtype: float64"
      ]
     },
     "execution_count": 5,
     "metadata": {},
     "output_type": "execute_result"
    }
   ],
   "source": [
    "rm.importances"
   ]
  },
  {
   "cell_type": "code",
   "execution_count": null,
   "metadata": {},
   "outputs": [],
   "source": []
  }
 ],
 "metadata": {
  "kernelspec": {
   "display_name": "Python 3",
   "language": "python",
   "name": "python3"
  },
  "language_info": {
   "codemirror_mode": {
    "name": "ipython",
    "version": 3
   },
   "file_extension": ".py",
   "mimetype": "text/x-python",
   "name": "python",
   "nbconvert_exporter": "python",
   "pygments_lexer": "ipython3",
   "version": "3.6.9"
  },
  "latex_envs": {
   "LaTeX_envs_menu_present": true,
   "autoclose": false,
   "autocomplete": true,
   "bibliofile": "biblio.bib",
   "cite_by": "apalike",
   "current_citInitial": 1,
   "eqLabelWithNumbers": true,
   "eqNumInitial": 1,
   "hotkeys": {
    "equation": "Ctrl-E",
    "itemize": "Ctrl-I"
   },
   "labels_anchors": false,
   "latex_user_defs": false,
   "report_style_numbering": false,
   "user_envs_cfg": false
  }
 },
 "nbformat": 4,
 "nbformat_minor": 2
}
