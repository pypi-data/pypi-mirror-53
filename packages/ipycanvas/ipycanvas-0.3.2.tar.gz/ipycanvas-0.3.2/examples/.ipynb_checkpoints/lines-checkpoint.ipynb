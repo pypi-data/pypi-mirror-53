{
 "cells": [
  {
   "cell_type": "code",
   "execution_count": null,
   "metadata": {},
   "outputs": [],
   "source": [
    "from ipycanvas import Canvas"
   ]
  },
  {
   "cell_type": "code",
   "execution_count": null,
   "metadata": {},
   "outputs": [],
   "source": [
    "from ipycanvas import Canvas\n",
    "\n",
    "canvas = Canvas(size=(400, 280))\n",
    "canvas.scale(2)\n",
    "\n",
    "for i in range(10):\n",
    "    width = 1 + i\n",
    "    x = 5 + i * 20\n",
    "    canvas.line_width = width\n",
    "\n",
    "    canvas.fill_text(str(width), x - 5, 15)\n",
    "\n",
    "    canvas.begin_path()\n",
    "    canvas.move_to(x, 20)\n",
    "    canvas.line_to(x, 140)\n",
    "    canvas.stroke()\n",
    "canvas"
   ]
  },
  {
   "cell_type": "markdown",
   "metadata": {},
   "source": [
    "# Line width:\n",
    "### Sets the width of lines drawn in the future."
   ]
  },
  {
   "cell_type": "code",
   "execution_count": null,
   "metadata": {},
   "outputs": [],
   "source": [
    "size = (400, 280)\n",
    "\n",
    "canvas = Canvas(size=size)\n",
    "canvas.scale(2)\n",
    "\n",
    "for i in range(10):\n",
    "    width = 1 + i\n",
    "    x = 5 + i * 20\n",
    "    canvas.line_width = width\n",
    "\n",
    "    canvas.fill_text(str(width), x - 5, 15)\n",
    "\n",
    "    canvas.begin_path()\n",
    "    canvas.move_to(x, 20)\n",
    "    canvas.line_to(x, 140)\n",
    "    canvas.stroke()\n",
    "canvas"
   ]
  },
  {
   "cell_type": "markdown",
   "metadata": {},
   "source": [
    "# Line cap\n",
    "### Sets the appearance of the ends of lines."
   ]
  },
  {
   "cell_type": "code",
   "execution_count": null,
   "metadata": {},
   "outputs": [],
   "source": [
    "from ipycanvas import Canvas\n",
    "\n",
    "canvas = Canvas(size=(320, 360))\n",
    "\n",
    "# Possible line_cap values\n",
    "line_caps = ['butt', 'round', 'square']\n",
    "\n",
    "canvas.scale(2)\n",
    "\n",
    "# Draw guides\n",
    "canvas.stroke_style = '#09f'\n",
    "canvas.begin_path()\n",
    "canvas.move_to(10, 30)\n",
    "canvas.line_to(140, 30)\n",
    "canvas.move_to(10, 140)\n",
    "canvas.line_to(140, 140)\n",
    "canvas.stroke()\n",
    "\n",
    "# Draw lines\n",
    "canvas.stroke_style = 'black'\n",
    "canvas.font = '15px serif'\n",
    "\n",
    "for i in range(len(line_caps)):\n",
    "    line_cap = line_caps[i]\n",
    "    x = 25 + i * 50\n",
    "\n",
    "    canvas.fill_text(line_cap, x - 15, 15)\n",
    "    canvas.line_width = 15\n",
    "    canvas.line_cap = line_cap\n",
    "    canvas.begin_path()\n",
    "    canvas.move_to(x, 30)\n",
    "    canvas.line_to(x, 140)\n",
    "    canvas.stroke()\n",
    "\n",
    "canvas"
   ]
  },
  {
   "cell_type": "markdown",
   "metadata": {},
   "source": [
    "# Line join\n",
    "### Sets the appearance of the \"corners\" where lines meet."
   ]
  },
  {
   "cell_type": "code",
   "execution_count": null,
   "metadata": {},
   "outputs": [],
   "source": [
    "size = (320, 360)\n",
    "\n",
    "canvas = Canvas(size=size)\n",
    "\n",
    "# Possible line_join values\n",
    "line_joins = ['round', 'bevel', 'miter']\n",
    "\n",
    "min_y = 40\n",
    "max_y = 80\n",
    "spacing = 45\n",
    "\n",
    "canvas.line_width = 10\n",
    "canvas.scale(2)\n",
    "for i in range(len(line_joins)):\n",
    "    line_join = line_joins[i]\n",
    "    \n",
    "    y1 = min_y + i * spacing\n",
    "    y2 = max_y + i * spacing\n",
    "\n",
    "    canvas.line_join = line_join\n",
    "\n",
    "    canvas.fill_text(line_join, 60, y1 - 10)\n",
    "\n",
    "    canvas.begin_path()\n",
    "    canvas.move_to(-5, y1)\n",
    "    canvas.line_to(35, y2)\n",
    "    canvas.line_to(75, y1)\n",
    "    canvas.line_to(115, y2)\n",
    "    canvas.line_to(155, y1)\n",
    "    canvas.stroke()\n",
    "\n",
    "canvas"
   ]
  },
  {
   "cell_type": "markdown",
   "metadata": {},
   "source": [
    "# Line dash\n",
    "### Sets the current line dash pattern."
   ]
  },
  {
   "cell_type": "code",
   "execution_count": null,
   "metadata": {},
   "outputs": [],
   "source": [
    "size = (400, 280)\n",
    "\n",
    "canvas = Canvas(size=size)\n",
    "canvas.scale(2)\n",
    "\n",
    "line_dashes = [\n",
    "    [5, 10],\n",
    "    [10, 5],\n",
    "    [5, 10, 20],\n",
    "    [10, 20],\n",
    "    [20, 10],\n",
    "    [20, 20]\n",
    "]\n",
    "\n",
    "canvas.line_width = 2\n",
    "\n",
    "for i in range(len(line_dashes)):\n",
    "    x = 5 + i * 20\n",
    "\n",
    "    canvas.set_line_dash(line_dashes[i])\n",
    "    canvas.begin_path()\n",
    "    canvas.move_to(x, 0)\n",
    "    canvas.line_to(x, 140)\n",
    "    canvas.stroke()\n",
    "canvas"
   ]
  }
 ],
 "metadata": {
  "kernelspec": {
   "display_name": "Python 3",
   "language": "python",
   "name": "python3"
  },
  "language_info": {
   "codemirror_mode": {
    "name": "ipython",
    "version": 3
   },
   "file_extension": ".py",
   "mimetype": "text/x-python",
   "name": "python",
   "nbconvert_exporter": "python",
   "pygments_lexer": "ipython3",
   "version": "3.7.3"
  }
 },
 "nbformat": 4,
 "nbformat_minor": 4
}
