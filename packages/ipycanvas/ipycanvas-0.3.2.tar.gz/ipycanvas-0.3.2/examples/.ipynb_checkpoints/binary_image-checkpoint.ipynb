{
 "cells": [
  {
   "cell_type": "markdown",
   "metadata": {},
   "source": [
    "# Draw a NumPy array directly on the Canvas with `put_image_data`"
   ]
  },
  {
   "cell_type": "code",
   "execution_count": null,
   "metadata": {},
   "outputs": [],
   "source": [
    "import numpy as np\n",
    "\n",
    "from ipycanvas import Canvas\n",
    "\n",
    "x = np.linspace(-1, 1, 600)\n",
    "y = np.linspace(-1, 1, 600)\n",
    "\n",
    "x_grid, y_grid = np.meshgrid(x, y)\n",
    "\n",
    "blue_channel = np.array(np.sin(x_grid**2 + y_grid**2) * 255, dtype=np.int32)\n",
    "red_channel = np.zeros_like(blue_channel) + 200\n",
    "green_channel = np.zeros_like(blue_channel) + 50\n",
    "\n",
    "image_data = np.stack((red_channel, blue_channel, green_channel), axis=2)\n",
    "\n",
    "canvas = Canvas(size=(image_data.shape[0], image_data.shape[1]))\n",
    "canvas.put_image_data(image_data, 0, 0)\n",
    "\n",
    "canvas"
   ]
  },
  {
   "cell_type": "code",
   "execution_count": null,
   "metadata": {},
   "outputs": [],
   "source": [
    "import numpy as np\n",
    "\n",
    "from ipywidgets import Play, IntProgress, HBox, VBox, link\n",
    "\n",
    "from ipycanvas import Canvas, hold_canvas"
   ]
  },
  {
   "cell_type": "code",
   "execution_count": null,
   "metadata": {},
   "outputs": [],
   "source": [
    "n = 1\n",
    "\n",
    "dx, dy = 0.01, 0.01\n",
    "\n",
    "y, x = np.mgrid[slice(1, 5 + dy, dy),\n",
    "                slice(1, 5 + dx, dx)]\n",
    "\n",
    "z = np.sin(x)**n + np.cos(n + y*x) * np.cos(x)"
   ]
  },
  {
   "cell_type": "code",
   "execution_count": null,
   "metadata": {},
   "outputs": [],
   "source": [
    "min = np.min(z)\n",
    "max = np.max(z)\n",
    "\n",
    "def scale(value):\n",
    "    scaled_value = (value - min) / (max - min) \n",
    "    return 255 if value > max else scaled_value * 255\n",
    "\n",
    "vecscale = np.vectorize(scale)"
   ]
  },
  {
   "cell_type": "code",
   "execution_count": null,
   "metadata": {},
   "outputs": [],
   "source": [
    "data = np.stack((np.zeros_like(z), vecscale(z), vecscale(z)), axis=2)"
   ]
  },
  {
   "cell_type": "code",
   "execution_count": null,
   "metadata": {},
   "outputs": [],
   "source": [
    "data.shape"
   ]
  },
  {
   "cell_type": "code",
   "execution_count": null,
   "metadata": {},
   "outputs": [],
   "source": [
    "scale = 1.5\n",
    "\n",
    "canvas = Canvas(size=(scale * data.shape[0], scale * data.shape[1]))\n",
    "canvas"
   ]
  },
  {
   "cell_type": "code",
   "execution_count": null,
   "metadata": {},
   "outputs": [],
   "source": [
    "canvas.scale(scale)\n",
    "canvas.put_image_data(data, 0, 0)"
   ]
  },
  {
   "cell_type": "markdown",
   "metadata": {},
   "source": [
    "## Make an animation with it!"
   ]
  },
  {
   "cell_type": "code",
   "execution_count": null,
   "metadata": {},
   "outputs": [],
   "source": [
    "play = Play(interval=500, min=1, max=20, step=1)\n",
    "progress = IntProgress(min=1, max=20, step=1)\n",
    "\n",
    "link((play, 'value'), (progress, 'value'))\n",
    "\n",
    "def on_update(*args):\n",
    "    global z\n",
    "\n",
    "    z = np.sin(x)**play.value + np.cos(play.value + y*x) * np.cos(x)\n",
    "    data = np.stack((np.zeros_like(z), vecscale(z), vecscale(z)), axis=2)\n",
    "    \n",
    "    with hold_canvas(canvas):\n",
    "        canvas.clear()\n",
    "        canvas.put_image_data(data, 0, 0)\n",
    "\n",
    "play.observe(on_update, 'value')\n",
    "\n",
    "VBox((canvas, HBox((play, progress))))"
   ]
  }
 ],
 "metadata": {
  "kernelspec": {
   "display_name": "Python 3",
   "language": "python",
   "name": "python3"
  },
  "language_info": {
   "codemirror_mode": {
    "name": "ipython",
    "version": 3
   },
   "file_extension": ".py",
   "mimetype": "text/x-python",
   "name": "python",
   "nbconvert_exporter": "python",
   "pygments_lexer": "ipython3",
   "version": "3.7.3"
  }
 },
 "nbformat": 4,
 "nbformat_minor": 4
}
