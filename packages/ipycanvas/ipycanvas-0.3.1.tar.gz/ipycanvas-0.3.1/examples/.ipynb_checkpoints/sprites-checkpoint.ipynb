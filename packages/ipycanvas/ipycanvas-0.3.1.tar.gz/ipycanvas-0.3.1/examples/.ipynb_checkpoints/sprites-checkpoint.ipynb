{
 "cells": [
  {
   "cell_type": "markdown",
   "metadata": {},
   "source": [
    "# Displaying sprites on the Canvas\n",
    "\n",
    "Note that this notebook needs `pillow` for loading the sprite image:\n",
    "\n",
    "```\n",
    "$ pip install pillow\n",
    "```"
   ]
  },
  {
   "cell_type": "code",
   "execution_count": null,
   "metadata": {},
   "outputs": [],
   "source": [
    "from random import choice, randint, uniform\n",
    "from math import pi\n",
    "\n",
    "from PIL import Image\n",
    "\n",
    "import numpy as np\n",
    "\n",
    "from ipycanvas import MultiCanvas, hold_canvas"
   ]
  },
  {
   "cell_type": "code",
   "execution_count": null,
   "metadata": {},
   "outputs": [],
   "source": [
    "def load_image(path):\n",
    "    \"\"\"Load an image into a NumPy array.\"\"\"\n",
    "    return np.array(Image.open(path))"
   ]
  },
  {
   "cell_type": "code",
   "execution_count": null,
   "metadata": {},
   "outputs": [],
   "source": [
    "# Loading sprites as NumPy arrays\n",
    "sprites_data = [load_image('sprites/smoke_texture{}.png'.format(i)) for i in range(3)]"
   ]
  },
  {
   "cell_type": "code",
   "execution_count": null,
   "metadata": {},
   "outputs": [],
   "source": [
    "sprites_data[0].shape"
   ]
  },
  {
   "cell_type": "code",
   "execution_count": null,
   "metadata": {},
   "outputs": [],
   "source": [
    "m = MultiCanvas(n_canvases=2, size=(800, 600))\n",
    "m[0].fill_style = '#a9cafc'\n",
    "m[0].fill_rect(0, 0, m.size[0], m.size[1])\n",
    "\n",
    "m"
   ]
  },
  {
   "cell_type": "code",
   "execution_count": null,
   "metadata": {},
   "outputs": [],
   "source": [
    "with hold_canvas(m[1]):\n",
    "    for _ in range(200):\n",
    "        m[1].save()\n",
    "\n",
    "        # Choose a random sprite texture\n",
    "        sprite = sprites_data[choice(range(3))]\n",
    "        \n",
    "        # Choose a random sprite position\n",
    "        pos_x = randint(0, m.size[0] - sprite.shape[1])\n",
    "        pos_y = randint(0, m.size[1] - sprite.shape[0])\n",
    "\n",
    "        # Choose a random rotation angle (but first set the rotation center with `translate`)\n",
    "        t_x = pos_x + 0.5 * sprite.shape[1]\n",
    "        t_y = pos_y + 0.5 * sprite.shape[0]\n",
    "        m[1].translate(t_x, t_y)\n",
    "        m[1].rotate(uniform(0., pi))\n",
    "\n",
    "        # Choose a random sprite size\n",
    "        scale = uniform(0.2, 1.)\n",
    "        m[1].scale(scale)\n",
    "\n",
    "        # Restore the canvas center\n",
    "        m[1].translate(- t_x, - t_y)\n",
    "\n",
    "        # Draw the sprite\n",
    "        m[1].put_image_data(sprite, pos_x, pos_y)\n",
    "\n",
    "        m[1].restore()"
   ]
  }
 ],
 "metadata": {
  "kernelspec": {
   "display_name": "Python 3",
   "language": "python",
   "name": "python3"
  },
  "language_info": {
   "codemirror_mode": {
    "name": "ipython",
    "version": 3
   },
   "file_extension": ".py",
   "mimetype": "text/x-python",
   "name": "python",
   "nbconvert_exporter": "python",
   "pygments_lexer": "ipython3",
   "version": "3.7.3"
  }
 },
 "nbformat": 4,
 "nbformat_minor": 4
}
