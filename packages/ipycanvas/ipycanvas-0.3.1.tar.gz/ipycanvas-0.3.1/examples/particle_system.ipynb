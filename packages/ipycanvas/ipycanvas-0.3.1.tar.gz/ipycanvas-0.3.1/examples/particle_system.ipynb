{
 "cells": [
  {
   "cell_type": "code",
   "execution_count": null,
   "metadata": {},
   "outputs": [],
   "source": [
    "from time import sleep, time\n",
    "from random import randint, weibullvariate, choice\n",
    "\n",
    "from ipycanvas import Canvas, hold_canvas"
   ]
  },
  {
   "cell_type": "code",
   "execution_count": null,
   "metadata": {},
   "outputs": [],
   "source": [
    "def get_random_position():\n",
    "    return int(weibullvariate(1, 1) * 100), randint(0, 500)"
   ]
  },
  {
   "cell_type": "code",
   "execution_count": null,
   "metadata": {},
   "outputs": [],
   "source": [
    "class Particle():\n",
    "    def __init__(self, size, pos, speed=(0, 0), color='black'):\n",
    "        \"\"\"Create a new particle, given the size in pixels, the pixel position, the speed of the particle in pixels/s, and the color.\"\"\"\n",
    "        self.size = size\n",
    "        self.pos = pos\n",
    "        self.speed = speed\n",
    "        self.color = color\n",
    "\n",
    "    def draw(self, canvas):\n",
    "        \"\"\"Draw the particle on a given canvas.\"\"\"\n",
    "        canvas.fill_style = self.color\n",
    "        canvas.fill_rect(self.pos[0], self.pos[1], self.size, self.size)\n",
    "\n",
    "    def move(self, elapsed_time):\n",
    "        \"\"\"Move the particle. The elapsed_time argument is the elapsed-time in seconds since the last move call.\"\"\"\n",
    "        new_pos_x = int((self.speed[0] * elapsed_time) + self.pos[0])\n",
    "        new_pos_y = int((self.speed[1] * elapsed_time) + self.pos[1])\n",
    "        self.pos = (new_pos_x, new_pos_y)"
   ]
  },
  {
   "cell_type": "code",
   "execution_count": null,
   "metadata": {},
   "outputs": [],
   "source": [
    "def draw_particles(particles, canvas):\n",
    "    with hold_canvas(canvas):\n",
    "        canvas.clear()\n",
    "\n",
    "        for particle in particles:\n",
    "            particle.draw(canvas)"
   ]
  },
  {
   "cell_type": "markdown",
   "metadata": {},
   "source": [
    "# Black particles"
   ]
  },
  {
   "cell_type": "code",
   "execution_count": null,
   "metadata": {},
   "outputs": [],
   "source": [
    "n = 5_000\n",
    "\n",
    "particles = [Particle(randint(1, 3), get_random_position()) for _ in range(n)]"
   ]
  },
  {
   "cell_type": "code",
   "execution_count": null,
   "metadata": {},
   "outputs": [],
   "source": [
    "canvas = Canvas(size=(800, 500))\n",
    "canvas"
   ]
  },
  {
   "cell_type": "code",
   "execution_count": null,
   "metadata": {},
   "outputs": [],
   "source": [
    "draw_particles(particles, canvas)"
   ]
  },
  {
   "cell_type": "markdown",
   "metadata": {},
   "source": [
    "# Random color particles"
   ]
  },
  {
   "cell_type": "code",
   "execution_count": null,
   "metadata": {},
   "outputs": [],
   "source": [
    "colors = ['red', 'yellow', 'orange', 'green']\n",
    "\n",
    "particles = [Particle(randint(1, 3), get_random_position(), (0, 0), choice(colors)) for _ in range(n)]"
   ]
  },
  {
   "cell_type": "code",
   "execution_count": null,
   "metadata": {},
   "outputs": [],
   "source": [
    "canvas = Canvas(size=(800, 500))\n",
    "canvas"
   ]
  },
  {
   "cell_type": "code",
   "execution_count": null,
   "metadata": {},
   "outputs": [],
   "source": [
    "draw_particles(particles, canvas)"
   ]
  },
  {
   "cell_type": "markdown",
   "metadata": {},
   "source": [
    "# Moving particles"
   ]
  },
  {
   "cell_type": "code",
   "execution_count": null,
   "metadata": {},
   "outputs": [],
   "source": [
    "n = 1_000\n",
    "\n",
    "colors = ['#FFCB30', '#E8A62C', '#FFA33D', '#E8752C', '#FF6230']\n",
    "\n",
    "particles = [Particle(randint(1, 3), get_random_position(), (randint(1, 50), 0), choice(colors)) for _ in range(n)]"
   ]
  },
  {
   "cell_type": "code",
   "execution_count": null,
   "metadata": {},
   "outputs": [],
   "source": [
    "canvas = Canvas(size=(800, 500))\n",
    "canvas"
   ]
  },
  {
   "cell_type": "code",
   "execution_count": null,
   "metadata": {},
   "outputs": [],
   "source": [
    "current_time = time()\n",
    "\n",
    "def move_particles():\n",
    "    global current_time\n",
    "\n",
    "    elapsed_time = time() - current_time\n",
    "\n",
    "    for particle in particles:\n",
    "        particle.move(elapsed_time)\n",
    "\n",
    "    current_time = time()"
   ]
  },
  {
   "cell_type": "code",
   "execution_count": null,
   "metadata": {},
   "outputs": [],
   "source": [
    "for _ in range(75):\n",
    "    move_particles()\n",
    "    draw_particles(particles, canvas)\n",
    "\n",
    "    sleep(0.05)"
   ]
  },
  {
   "cell_type": "code",
   "execution_count": null,
   "metadata": {},
   "outputs": [],
   "source": []
  }
 ],
 "metadata": {
  "kernelspec": {
   "display_name": "Python 3",
   "language": "python",
   "name": "python3"
  },
  "language_info": {
   "codemirror_mode": {
    "name": "ipython",
    "version": 3
   },
   "file_extension": ".py",
   "mimetype": "text/x-python",
   "name": "python",
   "nbconvert_exporter": "python",
   "pygments_lexer": "ipython3",
   "version": "3.7.3"
  }
 },
 "nbformat": 4,
 "nbformat_minor": 4
}
