{
 "cells": [
  {
   "cell_type": "markdown",
   "metadata": {},
   "source": [
    "# class Expressions: examples of use of each function"
   ]
  },
  {
   "cell_type": "markdown",
   "metadata": {},
   "source": [
    "This webpage is for programmers who need examples of use of the functions of the class. The examples are designed to illustrate the syntax. They do not correspond to any meaningful model. For examples of models, visit  [biogeme.epfl.ch](http://biogeme.epfl.ch)."
   ]
  },
  {
   "cell_type": "code",
   "execution_count": 1,
   "metadata": {},
   "outputs": [
    {
     "name": "stdout",
     "output_type": "stream",
     "text": [
      "2019-09-19 10:16:40.990690\n"
     ]
    }
   ],
   "source": [
    "import datetime\n",
    "print(datetime.datetime.now())"
   ]
  },
  {
   "cell_type": "code",
   "execution_count": 2,
   "metadata": {},
   "outputs": [
    {
     "name": "stdout",
     "output_type": "stream",
     "text": [
      "biogeme 3.2.2w [September 19, 2019]\n",
      "Version entirely written in Python\n",
      "Home page: http://biogeme.epfl.ch\n",
      "Submit questions to https://groups.google.com/d/forum/biogeme\n",
      "Michel Bierlaire, Transport and Mobility Laboratory, Ecole Polytechnique Fédérale de Lausanne (EPFL)\n",
      "\n"
     ]
    }
   ],
   "source": [
    "import biogeme.version as ver\n",
    "print(ver.getText())"
   ]
  },
  {
   "cell_type": "code",
   "execution_count": 3,
   "metadata": {},
   "outputs": [],
   "source": [
    "import numpy as np\n",
    "import pandas as pd\n",
    "import biogeme.expressions as ex\n",
    "import biogeme.database as db"
   ]
  },
  {
   "cell_type": "markdown",
   "metadata": {},
   "source": [
    "We first create a small database"
   ]
  },
  {
   "cell_type": "code",
   "execution_count": 4,
   "metadata": {},
   "outputs": [],
   "source": [
    "df = pd.DataFrame({'Person':[1,1,1,2,2],\n",
    "                   'Exclude':[0,0,1,0,1],\n",
    "                   'Variable1':[10,20,30,40,50],\n",
    "                   'Variable2':[100,200,300,400,500],\n",
    "                   'Choice':[1,2,3,1,2],\n",
    "                   'Av1':[0,1,1,1,1],\n",
    "                   'Av2':[1,1,1,1,1],\n",
    "                   'Av3':[0,1,1,1,1]})\n",
    "myData = db.Database('test',df)"
   ]
  },
  {
   "cell_type": "markdown",
   "metadata": {},
   "source": [
    "The following type of expression is a literal called Variable that corresponds to an entry in the database."
   ]
  },
  {
   "cell_type": "code",
   "execution_count": 5,
   "metadata": {},
   "outputs": [],
   "source": [
    "Person=ex.Variable('Person')\n",
    "Variable1=ex.Variable('Variable1')\n",
    "Variable2=ex.Variable('Variable2')\n",
    "Choice=ex.Variable('Choice')\n",
    "Av1=ex.Variable('Av1')\n",
    "Av2=ex.Variable('Av2')\n",
    "Av3=ex.Variable('Av3')"
   ]
  },
  {
   "cell_type": "markdown",
   "metadata": {},
   "source": [
    "It is possible to add a new column to thre database, that creates a new variable that can be used in expressions."
   ]
  },
  {
   "cell_type": "code",
   "execution_count": 6,
   "metadata": {},
   "outputs": [
    {
     "name": "stdout",
     "output_type": "stream",
     "text": [
      "biogeme database test:\n",
      "   Person  Exclude  Variable1  Variable2  Choice  Av1  Av2  Av3  newvar\n",
      "0       1        0         10        100       1    0    1    0     110\n",
      "1       1        0         20        200       2    1    1    1     220\n",
      "2       1        1         30        300       3    1    1    1     330\n",
      "3       2        0         40        400       1    1    1    1     440\n",
      "4       2        1         50        500       2    1    1    1     550\n"
     ]
    }
   ],
   "source": [
    "newvar = ex.DefineVariable('newvar',Variable1+Variable2,myData)\n",
    "print(myData)"
   ]
  },
  {
   "cell_type": "markdown",
   "metadata": {},
   "source": [
    "The following type of expression is another literal, corresponding to an unknown parameter. "
   ]
  },
  {
   "cell_type": "code",
   "execution_count": 7,
   "metadata": {},
   "outputs": [],
   "source": [
    "beta1 = ex.Beta('beta1',0,None,None,0)\n",
    "beta2 = ex.Beta('beta2',0,None,None,0)\n",
    "beta3 = ex.Beta('beta3',1,None,None,1)\n",
    "beta4 = ex.Beta('beta4',0,None,None,1)"
   ]
  },
  {
   "cell_type": "markdown",
   "metadata": {},
   "source": [
    "Arithmetic operators are overloaded to allow standard manipulations of expressions. The first expression is $$e_1 = 2  \\beta_1 - \\frac{\\exp(-\\beta_2)}{\\beta_3 (\\beta_2 \\geq \\beta_1)},$$\n",
    "where $(\\beta_2 \\geq \\beta_1)$ equals 1 if $\\beta_2 \\geq \\beta_1$ and 0 otherwise."
   ]
  },
  {
   "cell_type": "code",
   "execution_count": 8,
   "metadata": {},
   "outputs": [
    {
     "name": "stdout",
     "output_type": "stream",
     "text": [
      "((`2` * beta1(0)) - (exp((-beta2(0))) / (beta3(1) * (beta2(0) >= beta1(0)))))\n"
     ]
    }
   ],
   "source": [
    "expr1 = 2 * beta1 - ex.exp(-beta2) / (beta3 * (beta2 >= beta1))\n",
    "print(expr1)"
   ]
  },
  {
   "cell_type": "markdown",
   "metadata": {},
   "source": [
    "The evaluation of expressions can be done in two ways. For simple expressions, the fonction getValue(), implemented in Python, returns the value of the expression.  "
   ]
  },
  {
   "cell_type": "code",
   "execution_count": 9,
   "metadata": {},
   "outputs": [
    {
     "data": {
      "text/plain": [
       "-1.0"
      ]
     },
     "execution_count": 9,
     "metadata": {},
     "output_type": "execute_result"
    }
   ],
   "source": [
    "expr1.getValue()"
   ]
  },
  {
   "cell_type": "markdown",
   "metadata": {},
   "source": [
    "It is possible to modify the values of the parameters"
   ]
  },
  {
   "cell_type": "code",
   "execution_count": 10,
   "metadata": {},
   "outputs": [
    {
     "data": {
      "text/plain": [
       "1.954888238921129"
      ]
     },
     "execution_count": 10,
     "metadata": {},
     "output_type": "execute_result"
    }
   ],
   "source": [
    "newvalues = {'beta1':1,'beta2':2,'beta3':3,'beta4':2}\n",
    "expr1.changeInitValues(newvalues)\n",
    "expr1.getValue()"
   ]
  },
  {
   "cell_type": "markdown",
   "metadata": {},
   "source": [
    "The function getValue_c() is implemented in C++, and works for any expression. It requires a database as input, and evaluates the expression for each entry in the database.\n",
    "In the following example, as no variable of the database is involved in the expression, the output of the expression is the same for each entry."
   ]
  },
  {
   "cell_type": "code",
   "execution_count": 11,
   "metadata": {},
   "outputs": [
    {
     "data": {
      "text/plain": [
       "[1.954888238921129,\n",
       " 1.954888238921129,\n",
       " 1.954888238921129,\n",
       " 1.954888238921129,\n",
       " 1.954888238921129]"
      ]
     },
     "execution_count": 11,
     "metadata": {},
     "output_type": "execute_result"
    }
   ],
   "source": [
    "expr1.getValue_c(myData)"
   ]
  },
  {
   "cell_type": "markdown",
   "metadata": {},
   "source": [
    "The following function scans the expression and extracts a dict with all free parameters."
   ]
  },
  {
   "cell_type": "code",
   "execution_count": 12,
   "metadata": {},
   "outputs": [
    {
     "data": {
      "text/plain": [
       "{'beta1', 'beta2'}"
      ]
     },
     "execution_count": 12,
     "metadata": {},
     "output_type": "execute_result"
    }
   ],
   "source": [
    "expr1.setOfBetas()"
   ]
  },
  {
   "cell_type": "markdown",
   "metadata": {},
   "source": [
    "Options can be set to extract free parameters, fixed parameters, or both. "
   ]
  },
  {
   "cell_type": "code",
   "execution_count": 13,
   "metadata": {},
   "outputs": [
    {
     "data": {
      "text/plain": [
       "{'beta3'}"
      ]
     },
     "execution_count": 13,
     "metadata": {},
     "output_type": "execute_result"
    }
   ],
   "source": [
    "expr1.setOfBetas(free=False,fixed=True)"
   ]
  },
  {
   "cell_type": "code",
   "execution_count": 14,
   "metadata": {},
   "outputs": [
    {
     "data": {
      "text/plain": [
       "{'beta1', 'beta2', 'beta3'}"
      ]
     },
     "execution_count": 14,
     "metadata": {},
     "output_type": "execute_result"
    }
   ],
   "source": [
    "expr1.setOfBetas(free=True,fixed=True)"
   ]
  },
  {
   "cell_type": "code",
   "execution_count": 15,
   "metadata": {},
   "outputs": [
    {
     "data": {
      "text/plain": [
       "beta2(2)"
      ]
     },
     "execution_count": 15,
     "metadata": {},
     "output_type": "execute_result"
    }
   ],
   "source": [
    "expr1.getElementaryExpression('beta2')"
   ]
  },
  {
   "cell_type": "markdown",
   "metadata": {},
   "source": [
    "Let's consider an expression involving two variables $V_1$ and $V_2$: $$e_2 =2 \\beta_1  V_1 - \\frac{\\exp(-\\beta_2 V_2) }{ \\beta_3  (\\beta_2 \\geq \\beta_1)}.$$ Note that, in our example, the second term is numerically negligible with respect to the first one."
   ]
  },
  {
   "cell_type": "code",
   "execution_count": 16,
   "metadata": {},
   "outputs": [
    {
     "name": "stdout",
     "output_type": "stream",
     "text": [
      "(((`2` * beta1(1)) * Variable1) - (exp(((-beta2(2)) * Variable2)) / (beta3(3) * (beta2(2) >= beta1(1)))))\n"
     ]
    }
   ],
   "source": [
    "expr2 = 2 * beta1 * Variable1 - ex.exp(-beta2*Variable2) / (beta3 * (beta2 >= beta1))\n",
    "print(expr2)"
   ]
  },
  {
   "cell_type": "markdown",
   "metadata": {},
   "source": [
    "It is not a simple expression anymore, and only the function getValue_c can be invoked."
   ]
  },
  {
   "cell_type": "code",
   "execution_count": 17,
   "metadata": {},
   "outputs": [
    {
     "data": {
      "text/plain": [
       "[20.0, 40.0, 60.0, 80.0, 100.0]"
      ]
     },
     "execution_count": 17,
     "metadata": {},
     "output_type": "execute_result"
    }
   ],
   "source": [
    "expr2.getValue_c(myData)"
   ]
  },
  {
   "cell_type": "markdown",
   "metadata": {},
   "source": [
    "The following function extracts the names of the parameters apprearing in the expression"
   ]
  },
  {
   "cell_type": "code",
   "execution_count": 18,
   "metadata": {},
   "outputs": [
    {
     "data": {
      "text/plain": [
       "{'beta1', 'beta2', 'beta3'}"
      ]
     },
     "execution_count": 18,
     "metadata": {},
     "output_type": "execute_result"
    }
   ],
   "source": [
    "expr2.setOfBetas(free=True,fixed=True)"
   ]
  },
  {
   "cell_type": "markdown",
   "metadata": {},
   "source": [
    "The list of parameters can also be obtained in the form of a dictionary."
   ]
  },
  {
   "cell_type": "code",
   "execution_count": 19,
   "metadata": {},
   "outputs": [
    {
     "data": {
      "text/plain": [
       "{'beta1': beta1(1), 'beta2': beta2(2), 'beta3': beta3(3)}"
      ]
     },
     "execution_count": 19,
     "metadata": {},
     "output_type": "execute_result"
    }
   ],
   "source": [
    "expr2.dictOfBetas(free=True,fixed=True)"
   ]
  },
  {
   "cell_type": "markdown",
   "metadata": {},
   "source": [
    "The list of variables can also be obtained in the form of a dictionary"
   ]
  },
  {
   "cell_type": "code",
   "execution_count": 20,
   "metadata": {},
   "outputs": [
    {
     "data": {
      "text/plain": [
       "{'Variable1': Variable1, 'Variable2': Variable2}"
      ]
     },
     "execution_count": 20,
     "metadata": {},
     "output_type": "execute_result"
    }
   ],
   "source": [
    "expr2.dictOfVariables()"
   ]
  },
  {
   "cell_type": "markdown",
   "metadata": {},
   "source": [
    "or a set..."
   ]
  },
  {
   "cell_type": "code",
   "execution_count": 21,
   "metadata": {},
   "outputs": [
    {
     "data": {
      "text/plain": [
       "{'Variable1', 'Variable2'}"
      ]
     },
     "execution_count": 21,
     "metadata": {},
     "output_type": "execute_result"
    }
   ],
   "source": [
    "expr2.setOfVariables()"
   ]
  },
  {
   "cell_type": "markdown",
   "metadata": {},
   "source": [
    "Expressions are defined recursively, using a tree representation. The following function describes the type of the upper most node of the tree."
   ]
  },
  {
   "cell_type": "code",
   "execution_count": 22,
   "metadata": {},
   "outputs": [
    {
     "data": {
      "text/plain": [
       "'Minus'"
      ]
     },
     "execution_count": 22,
     "metadata": {},
     "output_type": "execute_result"
    }
   ],
   "source": [
    "expr2.getClassName()"
   ]
  },
  {
   "cell_type": "markdown",
   "metadata": {},
   "source": [
    "The signature is a formal representation of the expression, assigning identifiers to each node of the tree, and representing them starting from the leaves. It is easy to parse, and is passed to the C++ implementation. "
   ]
  },
  {
   "cell_type": "code",
   "execution_count": 23,
   "metadata": {},
   "outputs": [
    {
     "data": {
      "text/plain": [
       "[b'<Numeric>{4791420880},2',\n",
       " b'<Beta>{4516513296}\"beta1\"[0],0,0',\n",
       " b'<Times>{4791419344}(2),4791420880,4516513296',\n",
       " b'<Variable>{4790998032}\"Variable1\",5,2',\n",
       " b'<Times>{4791420752}(2),4791419344,4790998032',\n",
       " b'<Beta>{4516512400}\"beta2\"[0],1,1',\n",
       " b'<UnaryMinus>{4791420624}(1),4516512400',\n",
       " b'<Variable>{4790998160}\"Variable2\",6,3',\n",
       " b'<Times>{4791420688}(2),4791420624,4790998160',\n",
       " b'<exp>{4791420944}(1),4791420688',\n",
       " b'<Beta>{4516514128}\"beta3\"[1],2,0',\n",
       " b'<Beta>{4516512400}\"beta2\"[0],1,1',\n",
       " b'<Beta>{4516513296}\"beta1\"[0],0,0',\n",
       " b'<GreaterOrEqual>{4791421008}(2),4516512400,4516513296',\n",
       " b'<Times>{4791421072}(2),4516514128,4791421008',\n",
       " b'<Divide>{4791421136}(2),4791420944,4791421072',\n",
       " b'<Minus>{4791421200}(2),4791420752,4791421136']"
      ]
     },
     "execution_count": 23,
     "metadata": {},
     "output_type": "execute_result"
    }
   ],
   "source": [
    "expr2.getSignature()"
   ]
  },
  {
   "cell_type": "markdown",
   "metadata": {},
   "source": [
    "The elementary expressions are\n",
    "- free parameters,\n",
    "- fixed parameters,\n",
    "- random variables (for numerical integration),\n",
    "- draws (for Monte-Carlo integration), and\n",
    "- variables from the database.\n",
    "\n",
    "The following function extracts all elementary expressions from a list of formulas, give them a unique numbering, and return them organized by group, as defined above (with the exception of the variables, that are directly available in the database)."
   ]
  },
  {
   "cell_type": "code",
   "execution_count": 24,
   "metadata": {},
   "outputs": [],
   "source": [
    "collectionOfFormulas = [expr1,expr2]\n",
    "elementaryExpressionIndex,allFreeBetas,freeBetaNames,allFixedBetas,fixedBetaNames,allRandomVariables,randomVariableNames,allDraws,drawNames = ex.defineNumberingOfElementaryExpressions(collectionOfFormulas,list(myData.data.columns))\n"
   ]
  },
  {
   "cell_type": "markdown",
   "metadata": {},
   "source": [
    "Unique numbering for all elementary expressions"
   ]
  },
  {
   "cell_type": "code",
   "execution_count": 25,
   "metadata": {},
   "outputs": [
    {
     "data": {
      "text/plain": [
       "{'beta1': 0,\n",
       " 'beta2': 1,\n",
       " 'beta3': 2,\n",
       " 'Person': 3,\n",
       " 'Exclude': 4,\n",
       " 'Variable1': 5,\n",
       " 'Variable2': 6,\n",
       " 'Choice': 7,\n",
       " 'Av1': 8,\n",
       " 'Av2': 9,\n",
       " 'Av3': 10,\n",
       " 'newvar': 11}"
      ]
     },
     "execution_count": 25,
     "metadata": {},
     "output_type": "execute_result"
    }
   ],
   "source": [
    "elementaryExpressionIndex"
   ]
  },
  {
   "cell_type": "code",
   "execution_count": 26,
   "metadata": {},
   "outputs": [
    {
     "data": {
      "text/plain": [
       "{'beta1': beta1(1), 'beta2': beta2(2)}"
      ]
     },
     "execution_count": 26,
     "metadata": {},
     "output_type": "execute_result"
    }
   ],
   "source": [
    "allFreeBetas"
   ]
  },
  {
   "cell_type": "markdown",
   "metadata": {},
   "source": [
    "Each elementary expression has two ids. One unique across all elementary expressions, and one unique within each specific group"
   ]
  },
  {
   "cell_type": "code",
   "execution_count": 27,
   "metadata": {},
   "outputs": [
    {
     "data": {
      "text/plain": [
       "[(0, 0), (1, 1)]"
      ]
     },
     "execution_count": 27,
     "metadata": {},
     "output_type": "execute_result"
    }
   ],
   "source": [
    "[(i.uniqueId,i.betaId) for k,i in allFreeBetas.items()]"
   ]
  },
  {
   "cell_type": "code",
   "execution_count": 28,
   "metadata": {},
   "outputs": [
    {
     "data": {
      "text/plain": [
       "['beta1', 'beta2']"
      ]
     },
     "execution_count": 28,
     "metadata": {},
     "output_type": "execute_result"
    }
   ],
   "source": [
    "freeBetaNames"
   ]
  },
  {
   "cell_type": "code",
   "execution_count": 29,
   "metadata": {},
   "outputs": [
    {
     "data": {
      "text/plain": [
       "{'beta3': beta3(3)}"
      ]
     },
     "execution_count": 29,
     "metadata": {},
     "output_type": "execute_result"
    }
   ],
   "source": [
    "allFixedBetas"
   ]
  },
  {
   "cell_type": "code",
   "execution_count": 30,
   "metadata": {},
   "outputs": [
    {
     "data": {
      "text/plain": [
       "[(2, 0)]"
      ]
     },
     "execution_count": 30,
     "metadata": {},
     "output_type": "execute_result"
    }
   ],
   "source": [
    "[(i.uniqueId,i.betaId) for k,i in allFixedBetas.items()]"
   ]
  },
  {
   "cell_type": "code",
   "execution_count": 31,
   "metadata": {},
   "outputs": [
    {
     "data": {
      "text/plain": [
       "['beta3']"
      ]
     },
     "execution_count": 31,
     "metadata": {},
     "output_type": "execute_result"
    }
   ],
   "source": [
    "fixedBetaNames"
   ]
  },
  {
   "cell_type": "code",
   "execution_count": 32,
   "metadata": {},
   "outputs": [
    {
     "data": {
      "text/plain": [
       "{}"
      ]
     },
     "execution_count": 32,
     "metadata": {},
     "output_type": "execute_result"
    }
   ],
   "source": [
    "allRandomVariables"
   ]
  },
  {
   "cell_type": "markdown",
   "metadata": {},
   "source": [
    "Monte Carlo integration is based on draws. "
   ]
  },
  {
   "cell_type": "code",
   "execution_count": 33,
   "metadata": {},
   "outputs": [],
   "source": [
    "myDraws = ex.bioDraws('myDraws','UNIFORM')\n",
    "expr3 = ex.MonteCarlo(myDraws*myDraws)"
   ]
  },
  {
   "cell_type": "code",
   "execution_count": 34,
   "metadata": {},
   "outputs": [
    {
     "name": "stdout",
     "output_type": "stream",
     "text": [
      "MonteCarlo((bioDraws('myDraws','UNIFORM') * bioDraws('myDraws','UNIFORM')))\n"
     ]
    }
   ],
   "source": [
    "print(expr3)"
   ]
  },
  {
   "cell_type": "markdown",
   "metadata": {},
   "source": [
    "Note that draws are not random variables, used for numerical integration."
   ]
  },
  {
   "cell_type": "code",
   "execution_count": 35,
   "metadata": {},
   "outputs": [
    {
     "data": {
      "text/plain": [
       "{}"
      ]
     },
     "execution_count": 35,
     "metadata": {},
     "output_type": "execute_result"
    }
   ],
   "source": [
    "expr3.dictOfRandomVariables()"
   ]
  },
  {
   "cell_type": "markdown",
   "metadata": {},
   "source": [
    "The following function reports the draws involved in an expression."
   ]
  },
  {
   "cell_type": "code",
   "execution_count": 36,
   "metadata": {},
   "outputs": [
    {
     "data": {
      "text/plain": [
       "{'myDraws': 'UNIFORM'}"
      ]
     },
     "execution_count": 36,
     "metadata": {},
     "output_type": "execute_result"
    }
   ],
   "source": [
    "expr3.dictOfDraws()"
   ]
  },
  {
   "cell_type": "markdown",
   "metadata": {},
   "source": [
    "The expression is a Monte-Carlo integration."
   ]
  },
  {
   "cell_type": "code",
   "execution_count": 37,
   "metadata": {},
   "outputs": [
    {
     "data": {
      "text/plain": [
       "'MonteCarlo'"
      ]
     },
     "execution_count": 37,
     "metadata": {},
     "output_type": "execute_result"
    }
   ],
   "source": [
    "expr3.getClassName()"
   ]
  },
  {
   "cell_type": "markdown",
   "metadata": {},
   "source": [
    "Here is its value. It is an approximation of $\\int_0^1 x^2 dx=\\frac{1}{3}$."
   ]
  },
  {
   "cell_type": "code",
   "execution_count": 38,
   "metadata": {},
   "outputs": [
    {
     "data": {
      "text/plain": [
       "[0.3313856473610846,\n",
       " 0.3340106101931239,\n",
       " 0.33407913454636023,\n",
       " 0.33362152109896226,\n",
       " 0.33491259981335286]"
      ]
     },
     "execution_count": 38,
     "metadata": {},
     "output_type": "execute_result"
    }
   ],
   "source": [
    "expr3.getValue_c(myData,numberOfDraws=100000)"
   ]
  },
  {
   "cell_type": "markdown",
   "metadata": {},
   "source": [
    "Here is its signature."
   ]
  },
  {
   "cell_type": "code",
   "execution_count": 39,
   "metadata": {},
   "outputs": [
    {
     "data": {
      "text/plain": [
       "[b'<bioDraws>{4791544592}\"myDraws\",0,0',\n",
       " b'<bioDraws>{4791544592}\"myDraws\",0,0',\n",
       " b'<Times>{4791544784}(2),4791544592,4791544592',\n",
       " b'<MonteCarlo>{4791544720}(1),4791544784']"
      ]
     },
     "execution_count": 39,
     "metadata": {},
     "output_type": "execute_result"
    }
   ],
   "source": [
    "expr3.getSignature()"
   ]
  },
  {
   "cell_type": "markdown",
   "metadata": {},
   "source": [
    "The same integral can be calculated using numerical integration, declaring a random variable. "
   ]
  },
  {
   "cell_type": "code",
   "execution_count": 40,
   "metadata": {},
   "outputs": [],
   "source": [
    "omega = ex.RandomVariable('omega')"
   ]
  },
  {
   "cell_type": "markdown",
   "metadata": {},
   "source": [
    "Numerical integration calculates integrals between $-\\infty$ and $+\\infty$. Here, the interval being $[0,1]$, a change of variables is required."
   ]
  },
  {
   "cell_type": "code",
   "execution_count": 41,
   "metadata": {},
   "outputs": [],
   "source": [
    "a = 0\n",
    "b = 1\n",
    "x = a + (b-a) / ( 1 + ex.exp(-omega))\n",
    "dx = (b-a) * ex.exp(-omega) * (1+ex.exp(-omega))**(-2) \n",
    "integrand = x * x\n",
    "expr4 = ex.Integrate(integrand * dx /(b-a),'omega')"
   ]
  },
  {
   "cell_type": "markdown",
   "metadata": {},
   "source": [
    "In this case, omega is a random variable."
   ]
  },
  {
   "cell_type": "code",
   "execution_count": 42,
   "metadata": {},
   "outputs": [
    {
     "data": {
      "text/plain": [
       "{'omega': omega}"
      ]
     },
     "execution_count": 42,
     "metadata": {},
     "output_type": "execute_result"
    }
   ],
   "source": [
    "expr4.dictOfRandomVariables()"
   ]
  },
  {
   "cell_type": "code",
   "execution_count": 43,
   "metadata": {},
   "outputs": [
    {
     "name": "stdout",
     "output_type": "stream",
     "text": [
      "Integrate(((((`0` + (`1` / (`1` + exp((-omega))))) * (`0` + (`1` / (`1` + exp((-omega)))))) * ((`1` * exp((-omega))) * ((`1` + exp((-omega))) ** `-2`))) / `1`),'omega')\n"
     ]
    }
   ],
   "source": [
    "print(expr4)"
   ]
  },
  {
   "cell_type": "markdown",
   "metadata": {},
   "source": [
    "Calculating its value requires the C++ implementation."
   ]
  },
  {
   "cell_type": "code",
   "execution_count": 44,
   "metadata": {},
   "outputs": [
    {
     "data": {
      "text/plain": [
       "[0.3333323120662823,\n",
       " 0.3333323120662823,\n",
       " 0.3333323120662823,\n",
       " 0.3333323120662823,\n",
       " 0.3333323120662823]"
      ]
     },
     "execution_count": 44,
     "metadata": {},
     "output_type": "execute_result"
    }
   ],
   "source": [
    "expr4.getValue_c(myData)"
   ]
  },
  {
   "cell_type": "markdown",
   "metadata": {},
   "source": [
    "We illustrate now the Elem function. It takes two arguments: a dictionary, and a formula for the key. For each entry in the database, the formula is evaluated, and its result identifies which formula in the dictionary should be evaluated.\n",
    "Here is 'Person' is 1, the expression is $$e_1=2  \\beta_1 - \\frac{\\exp(-\\beta_2)}{\\beta_3 (\\beta_2 \\geq \\beta_1)},$$ and if 'Person' is 2, the expression is $$e_2=2 \\beta_1  V_1 - \\frac{\\exp(-\\beta_2 V_2) }{ \\beta_3  (\\beta_2 \\geq \\beta_1)}.$$ As it is a regular expression, it can be included in any formula. Here, we illustrate it by dividing the result by 10."
   ]
  },
  {
   "cell_type": "code",
   "execution_count": 45,
   "metadata": {},
   "outputs": [
    {
     "name": "stdout",
     "output_type": "stream",
     "text": [
      "({{1:((`2` * beta1(1)) - (exp((-beta2(2))) / (beta3(3) * (beta2(2) >= beta1(1))))),2:(((`2` * beta1(1)) * Variable1) - (exp(((-beta2(2)) * Variable2)) / (beta3(3) * (beta2(2) >= beta1(1)))))}[Person] / `10`)\n"
     ]
    }
   ],
   "source": [
    "elemExpr = ex.Elem({1:expr1,2:expr2},Person) \n",
    "expr5 =  elemExpr / 10\n",
    "print(expr5)"
   ]
  },
  {
   "cell_type": "code",
   "execution_count": 46,
   "metadata": {},
   "outputs": [
    {
     "data": {
      "text/plain": [
       "{'Variable1': Variable1, 'Variable2': Variable2, 'Person': Person}"
      ]
     },
     "execution_count": 46,
     "metadata": {},
     "output_type": "execute_result"
    }
   ],
   "source": [
    "expr5.dictOfVariables()"
   ]
  },
  {
   "cell_type": "code",
   "execution_count": 47,
   "metadata": {},
   "outputs": [
    {
     "data": {
      "text/plain": [
       "[0.19548882389211292, 0.19548882389211292, 0.19548882389211292, 8.0, 10.0]"
      ]
     },
     "execution_count": 47,
     "metadata": {},
     "output_type": "execute_result"
    }
   ],
   "source": [
    "expr5.getValue_c(myData)"
   ]
  },
  {
   "cell_type": "markdown",
   "metadata": {},
   "source": [
    "The next expression is simply the sum of multiples expressions. The argument is a list of expressions. "
   ]
  },
  {
   "cell_type": "code",
   "execution_count": 48,
   "metadata": {},
   "outputs": [],
   "source": [
    "expr6 = ex.bioMultSum([expr1,expr2,expr4])"
   ]
  },
  {
   "cell_type": "code",
   "execution_count": 49,
   "metadata": {},
   "outputs": [
    {
     "name": "stdout",
     "output_type": "stream",
     "text": [
      "bioMultSum(((`2` * beta1(1)) - (exp((-beta2(2))) / (beta3(3) * (beta2(2) >= beta1(1))))) + (((`2` * beta1(1)) * Variable1) - (exp(((-beta2(2)) * Variable2)) / (beta3(3) * (beta2(2) >= beta1(1))))) + Integrate(((((`0` + (`1` / (`1` + exp((-omega))))) * (`0` + (`1` / (`1` + exp((-omega)))))) * ((`1` * exp((-omega))) * ((`1` + exp((-omega))) ** `-2`))) / `1`),'omega'))\n"
     ]
    }
   ],
   "source": [
    "print(expr6)"
   ]
  },
  {
   "cell_type": "code",
   "execution_count": 50,
   "metadata": {},
   "outputs": [
    {
     "data": {
      "text/plain": [
       "[22.28822055098741,\n",
       " 42.28822055098741,\n",
       " 62.28822055098741,\n",
       " 82.2882205509874,\n",
       " 102.2882205509874]"
      ]
     },
     "execution_count": 50,
     "metadata": {},
     "output_type": "execute_result"
    }
   ],
   "source": [
    "expr6.getValue_c(myData,100000)"
   ]
  },
  {
   "cell_type": "markdown",
   "metadata": {},
   "source": [
    "We now illustrate how to calculate a logit model, that is $$ \\frac{y_1 e^{V_1}}{y_0 e^{V_0}+y_1 e^{V_1}+y_2 e^{V_2}}$$ where $V_0=-\\beta_1$, $V_1=-\\beta_2$ and $V_2=-\\beta_1$, and $y_i = 1$, $i=1,2,3$."
   ]
  },
  {
   "cell_type": "code",
   "execution_count": 51,
   "metadata": {},
   "outputs": [],
   "source": [
    "V = {0:-beta1,1:-beta2,2:-beta1}\n",
    "av = {0:1,1:1,2:1}\n",
    "expr7 = ex.LogLogit(V,av,1)"
   ]
  },
  {
   "cell_type": "code",
   "execution_count": 52,
   "metadata": {},
   "outputs": [
    {
     "data": {
      "text/plain": [
       "-1.861994804058251"
      ]
     },
     "execution_count": 52,
     "metadata": {},
     "output_type": "execute_result"
    }
   ],
   "source": [
    "expr7.getValue()"
   ]
  },
  {
   "cell_type": "markdown",
   "metadata": {},
   "source": [
    "It is actually better to use the C++ implementation using the following syntax."
   ]
  },
  {
   "cell_type": "code",
   "execution_count": 53,
   "metadata": {},
   "outputs": [],
   "source": [
    "expr8 = ex.bioLogLogit(V,av,1)"
   ]
  },
  {
   "cell_type": "code",
   "execution_count": 54,
   "metadata": {},
   "outputs": [
    {
     "data": {
      "text/plain": [
       "[-1.8619948040582512,\n",
       " -1.8619948040582512,\n",
       " -1.8619948040582512,\n",
       " -1.8619948040582512,\n",
       " -1.8619948040582512]"
      ]
     },
     "execution_count": 54,
     "metadata": {},
     "output_type": "execute_result"
    }
   ],
   "source": [
    "expr8.getValue_c(myData)"
   ]
  },
  {
   "cell_type": "markdown",
   "metadata": {},
   "source": [
    "As the result is a numpy array, it can be used for any calculation. Here, we show how to calculate the logsum"
   ]
  },
  {
   "cell_type": "code",
   "execution_count": 88,
   "metadata": {},
   "outputs": [
    {
     "name": "stdout",
     "output_type": "stream",
     "text": [
      "[-1.0, -1.0, -1.0, -1.0, -1.0]\n",
      "[-2.0, -2.0, -2.0, -2.0, -2.0]\n",
      "[-1.0, -1.0, -1.0, -1.0, -1.0]\n"
     ]
    }
   ],
   "source": [
    "for v in V.values():\n",
    "    print(v.getValue_c(myData))"
   ]
  },
  {
   "cell_type": "code",
   "execution_count": 91,
   "metadata": {},
   "outputs": [
    {
     "data": {
      "text/plain": [
       "array([ 0.60943791, -0.39056209,  0.60943791])"
      ]
     },
     "execution_count": 91,
     "metadata": {},
     "output_type": "execute_result"
    }
   ],
   "source": [
    "logsum = np.log(np.sum([np.exp(v.getValue_c(myData)) for v in V.values()],axis=1))\n",
    "logsum"
   ]
  },
  {
   "cell_type": "markdown",
   "metadata": {},
   "source": [
    "When all the alternatives are always available, there is a specific version of the logit formula for that"
   ]
  },
  {
   "cell_type": "code",
   "execution_count": 56,
   "metadata": {},
   "outputs": [
    {
     "data": {
      "text/plain": [
       "[-1.8619948040582512,\n",
       " -1.8619948040582512,\n",
       " -1.8619948040582512,\n",
       " -1.8619948040582512,\n",
       " -1.8619948040582512]"
      ]
     },
     "execution_count": 56,
     "metadata": {},
     "output_type": "execute_result"
    }
   ],
   "source": [
    "expr8bis = ex.bioLogLogitFullChoiceSet(V,av=None,choice=1)\n",
    "expr8bis.getValue_c(myData)"
   ]
  },
  {
   "cell_type": "markdown",
   "metadata": {},
   "source": [
    "It is possible to calculate the derivative of a formula with respect to a literal: $$e_9=\\frac{\\partial e_8}{\\partial \\beta_2}.$$"
   ]
  },
  {
   "cell_type": "code",
   "execution_count": 57,
   "metadata": {},
   "outputs": [],
   "source": [
    "expr9 = ex.Derive(expr8,'beta2')"
   ]
  },
  {
   "cell_type": "code",
   "execution_count": 58,
   "metadata": {},
   "outputs": [
    {
     "data": {
      "text/plain": [
       "[-0.8446375965030364,\n",
       " -0.8446375965030364,\n",
       " -0.8446375965030364,\n",
       " -0.8446375965030364,\n",
       " -0.8446375965030364]"
      ]
     },
     "execution_count": 58,
     "metadata": {},
     "output_type": "execute_result"
    }
   ],
   "source": [
    "expr9.getValue_c(myData)"
   ]
  },
  {
   "cell_type": "markdown",
   "metadata": {},
   "source": [
    "Biogeme also provides an approximation of the CDF of the normal distribution: $$e_{10}= \\frac{1}{{\\sigma \\sqrt {2\\pi } }}\\int_{-\\infty}^t e^{{{ - \\left( {x - \\mu } \\right)^2 } \\mathord{\\left/ {\\vphantom {{ - \\left( {x - \\mu } \\right)^2 } {2\\sigma ^2 }}} \\right. } {2\\sigma ^2 }}}dx$$"
   ]
  },
  {
   "cell_type": "code",
   "execution_count": 59,
   "metadata": {},
   "outputs": [],
   "source": [
    "expr10 = ex.bioNormalCdf(Variable1/10-1)"
   ]
  },
  {
   "cell_type": "code",
   "execution_count": 60,
   "metadata": {},
   "outputs": [
    {
     "data": {
      "text/plain": [
       "[0.5,\n",
       " 0.8413447460685283,\n",
       " 0.9772498680518218,\n",
       " 0.99865010196837,\n",
       " 0.9999683287581669]"
      ]
     },
     "execution_count": 60,
     "metadata": {},
     "output_type": "execute_result"
    }
   ],
   "source": [
    "expr10.getValue_c(myData)"
   ]
  },
  {
   "cell_type": "markdown",
   "metadata": {},
   "source": [
    "Min and max operators are also available. To avoid any ambiguity with the Python operator, they are called bioMin and bioMax. "
   ]
  },
  {
   "cell_type": "code",
   "execution_count": 61,
   "metadata": {},
   "outputs": [
    {
     "data": {
      "text/plain": [
       "[0.19548882389211292,\n",
       " 0.19548882389211292,\n",
       " 0.19548882389211292,\n",
       " 0.99865010196837,\n",
       " 0.9999683287581669]"
      ]
     },
     "execution_count": 61,
     "metadata": {},
     "output_type": "execute_result"
    }
   ],
   "source": [
    "expr11 = ex.bioMin(expr5,expr10)\n",
    "expr11.getValue_c(myData)"
   ]
  },
  {
   "cell_type": "code",
   "execution_count": 62,
   "metadata": {},
   "outputs": [
    {
     "data": {
      "text/plain": [
       "[0.5, 0.8413447460685283, 0.9772498680518218, 8.0, 10.0]"
      ]
     },
     "execution_count": 62,
     "metadata": {},
     "output_type": "execute_result"
    }
   ],
   "source": [
    "expr12 = ex.bioMax(expr5,expr10)\n",
    "expr12.getValue_c(myData)"
   ]
  },
  {
   "cell_type": "markdown",
   "metadata": {},
   "source": [
    "For the sake of efficiency, it is possible to specify explicitly a linear function, where each term is the product of a parameter and a variable."
   ]
  },
  {
   "cell_type": "code",
   "execution_count": 63,
   "metadata": {},
   "outputs": [],
   "source": [
    "terms = [(beta1,ex.Variable('Variable1')),(beta2,ex.Variable('Variable2')),(beta3,ex.Variable('newvar'))]"
   ]
  },
  {
   "cell_type": "code",
   "execution_count": 64,
   "metadata": {},
   "outputs": [],
   "source": [
    "expr13 = ex.bioLinearUtility(terms)\n"
   ]
  },
  {
   "cell_type": "code",
   "execution_count": 65,
   "metadata": {},
   "outputs": [
    {
     "data": {
      "text/plain": [
       "[540.0, 1080.0, 1620.0, 2160.0, 2700.0]"
      ]
     },
     "execution_count": 65,
     "metadata": {},
     "output_type": "execute_result"
    }
   ],
   "source": [
    "expr13.getValue_c(myData)"
   ]
  },
  {
   "cell_type": "markdown",
   "metadata": {},
   "source": [
    "In terms of specification, it is equivalent to the expression below. But the calculation of the derivates is more efficient, as the linear structure of the specification is exploited."
   ]
  },
  {
   "cell_type": "code",
   "execution_count": 66,
   "metadata": {},
   "outputs": [],
   "source": [
    "expr13bis = beta1 * Variable1 + beta2 * Variable2 + beta3 * newvar"
   ]
  },
  {
   "cell_type": "code",
   "execution_count": 67,
   "metadata": {},
   "outputs": [
    {
     "data": {
      "text/plain": [
       "[540.0, 1080.0, 1620.0, 2160.0, 2700.0]"
      ]
     },
     "execution_count": 67,
     "metadata": {},
     "output_type": "execute_result"
    }
   ],
   "source": [
    "expr13bis.getValue_c(myData)"
   ]
  },
  {
   "cell_type": "markdown",
   "metadata": {},
   "source": [
    "A Pythonic way to write a linear utility function"
   ]
  },
  {
   "cell_type": "code",
   "execution_count": 68,
   "metadata": {},
   "outputs": [
    {
     "name": "stdout",
     "output_type": "stream",
     "text": [
      "((((((`0` + (beta_v1(0) * v1)) + (beta_v2(0) * v2)) + (beta_v3(0) * v3)) + (beta_cost(0) * cost)) + (beta_time(0) * time)) + (beta_headway(0) * headway))\n"
     ]
    }
   ],
   "source": [
    "variables = ['v1','v2','v3','cost','time','headway']\n",
    "coefficients = {f'{v}':ex.Beta(f'beta_{v}',0,None,None,0) for v in variables}\n",
    "terms = [coefficients[v] * ex.Variable(v) for v in variables]\n",
    "util = sum(terms)\n",
    "print(util)"
   ]
  },
  {
   "cell_type": "markdown",
   "metadata": {},
   "source": [
    "# Signatures"
   ]
  },
  {
   "cell_type": "markdown",
   "metadata": {},
   "source": [
    "The Python library communicates the expressions to the C++ library using a syntax called a \"signature\". We describe and illustrate now the signature for each expression. Each expression is identified by an identifier provided by Python using the function 'id'. "
   ]
  },
  {
   "cell_type": "code",
   "execution_count": 69,
   "metadata": {},
   "outputs": [
    {
     "data": {
      "text/plain": [
       "4781526416"
      ]
     },
     "execution_count": 69,
     "metadata": {},
     "output_type": "execute_result"
    }
   ],
   "source": [
    "id(expr1)"
   ]
  },
  {
   "cell_type": "markdown",
   "metadata": {},
   "source": [
    "## Numerical expression"
   ]
  },
  {
   "cell_type": "markdown",
   "metadata": {},
   "source": [
    "< Numeric >{identifier},value I DO NOT KNOW HOW TO GET RID OF THE WHITE SPACES"
   ]
  },
  {
   "cell_type": "code",
   "execution_count": 70,
   "metadata": {},
   "outputs": [
    {
     "data": {
      "text/plain": [
       "[b'<Numeric>{4791631184},0']"
      ]
     },
     "execution_count": 70,
     "metadata": {},
     "output_type": "execute_result"
    }
   ],
   "source": [
    "ex.Numeric(0).getSignature()"
   ]
  },
  {
   "cell_type": "markdown",
   "metadata": {},
   "source": [
    "## Beta parameters"
   ]
  },
  {
   "cell_type": "markdown",
   "metadata": {},
   "source": [
    "< Beta >{identifier}\"name\"[status],uniqueId,betaId'\n",
    "where \n",
    "- status is 0 for free parameters, and non zero for fixed parameters,\n",
    "- uniqueId is a unique index given by Biogeme to all elementary expressions,\n",
    "- betaId is a unique index given by Biogeme to all free parameters, and to all fixed parameters."
   ]
  },
  {
   "cell_type": "code",
   "execution_count": 71,
   "metadata": {},
   "outputs": [
    {
     "data": {
      "text/plain": [
       "[b'<Beta>{4516513296}\"beta1\"[0],0,0']"
      ]
     },
     "execution_count": 71,
     "metadata": {},
     "output_type": "execute_result"
    }
   ],
   "source": [
    "beta1.getSignature()"
   ]
  },
  {
   "cell_type": "code",
   "execution_count": 72,
   "metadata": {},
   "outputs": [
    {
     "data": {
      "text/plain": [
       "[b'<Beta>{4516514128}\"beta3\"[1],2,0']"
      ]
     },
     "execution_count": 72,
     "metadata": {},
     "output_type": "execute_result"
    }
   ],
   "source": [
    "beta3.getSignature()"
   ]
  },
  {
   "cell_type": "markdown",
   "metadata": {},
   "source": [
    "## Variables"
   ]
  },
  {
   "cell_type": "markdown",
   "metadata": {},
   "source": [
    "< Variable >{identifier}\"name\",uniqueId,variableId \n",
    "where\n",
    "- uniqueId is a unique index given by Biogeme to all elementary expressions,\n",
    "- variableId is a unique index given by Biogeme to all variables.\n"
   ]
  },
  {
   "cell_type": "code",
   "execution_count": 73,
   "metadata": {},
   "outputs": [
    {
     "data": {
      "text/plain": [
       "[b'<Variable>{4790998032}\"Variable1\",5,2']"
      ]
     },
     "execution_count": 73,
     "metadata": {},
     "output_type": "execute_result"
    }
   ],
   "source": [
    "Variable1.getSignature()"
   ]
  },
  {
   "cell_type": "markdown",
   "metadata": {},
   "source": [
    "## Random variables"
   ]
  },
  {
   "cell_type": "markdown",
   "metadata": {},
   "source": [
    "< RandomVariable >{identifier}\"name\",uniqueId,randomVariableId\n",
    "where\n",
    "- uniqueId is a unique index given by Biogeme to all elementary expressions,\n",
    "- randomVariableId is a unique index given by Biogeme to all random variables."
   ]
  },
  {
   "cell_type": "code",
   "execution_count": 74,
   "metadata": {},
   "outputs": [
    {
     "data": {
      "text/plain": [
       "[b'<RandomVariable>{4791334544}\"omega\",3,0']"
      ]
     },
     "execution_count": 74,
     "metadata": {},
     "output_type": "execute_result"
    }
   ],
   "source": [
    "omega.getSignature()"
   ]
  },
  {
   "cell_type": "markdown",
   "metadata": {},
   "source": [
    "## Draws"
   ]
  },
  {
   "cell_type": "markdown",
   "metadata": {},
   "source": [
    "< bioDraws >{identifier}\"name\",uniqueId,drawId\n",
    "where\n",
    "- uniqueId is a unique index given by Biogeme to all elementary expressions,\n",
    "- drawId is a unique index given by Biogeme to all draws.\n"
   ]
  },
  {
   "cell_type": "code",
   "execution_count": 75,
   "metadata": {},
   "outputs": [
    {
     "data": {
      "text/plain": [
       "[b'<bioDraws>{4791544592}\"myDraws\",0,0']"
      ]
     },
     "execution_count": 75,
     "metadata": {},
     "output_type": "execute_result"
    }
   ],
   "source": [
    "myDraws.getSignature()"
   ]
  },
  {
   "cell_type": "markdown",
   "metadata": {},
   "source": [
    "## General expression"
   ]
  },
  {
   "cell_type": "markdown",
   "metadata": {},
   "source": [
    "< operator >{identifier}(numberOfChildren),idFirstChild,idSecondChild,idThirdChild, etc...\n",
    "where the number of identifiers given after the comma matches the reported number of children. \n",
    "\n",
    "Specific examples are reported below."
   ]
  },
  {
   "cell_type": "markdown",
   "metadata": {},
   "source": [
    "### Binary operator"
   ]
  },
  {
   "cell_type": "markdown",
   "metadata": {},
   "source": [
    "< operator >{identifier}(2),idFirstChild,idSecondChild \n",
    "where operator is one of: \n",
    "    - 'Plus'\n",
    "    - 'Minus'\n",
    "    - 'Times'\n",
    "    - 'Divide'\n",
    "    - 'Power'\n",
    "    - 'bioMin'\n",
    "    - 'bioMax'\n",
    "    - 'And'\n",
    "    - 'Or'\n",
    "    - 'Equal'\n",
    "    - 'NotEqual'\n",
    "    - 'LessOrEqual'\n",
    "    - 'GreaterOrEqual'\n",
    "    - 'Less'\n",
    "    - 'Greater'\n"
   ]
  },
  {
   "cell_type": "code",
   "execution_count": 76,
   "metadata": {},
   "outputs": [],
   "source": [
    "sum = beta1 + Variable1"
   ]
  },
  {
   "cell_type": "code",
   "execution_count": 77,
   "metadata": {},
   "outputs": [
    {
     "data": {
      "text/plain": [
       "[b'<Beta>{4516513296}\"beta1\"[0],0,0',\n",
       " b'<Variable>{4790998032}\"Variable1\",5,2',\n",
       " b'<Plus>{4828443280}(2),4516513296,4790998032']"
      ]
     },
     "execution_count": 77,
     "metadata": {},
     "output_type": "execute_result"
    }
   ],
   "source": [
    "sum.getSignature()"
   ]
  },
  {
   "cell_type": "markdown",
   "metadata": {},
   "source": [
    "### Unary operator"
   ]
  },
  {
   "cell_type": "markdown",
   "metadata": {},
   "source": [
    "< operator >{identifier}(1),idChild, \n",
    "where operator is one of: \n",
    "    - 'UnaryMinus'\n",
    "    - 'MonteCarlo'\n",
    "    - 'bioNormalCdf'\n",
    "    - 'PanelLikelihoodTrajectory'\n",
    "    - 'exp'\n",
    "    - 'log'"
   ]
  },
  {
   "cell_type": "code",
   "execution_count": 78,
   "metadata": {},
   "outputs": [],
   "source": [
    "m = -beta1"
   ]
  },
  {
   "cell_type": "code",
   "execution_count": 79,
   "metadata": {},
   "outputs": [
    {
     "data": {
      "text/plain": [
       "[b'<Beta>{4516513296}\"beta1\"[0],0,0',\n",
       " b'<UnaryMinus>{4828446480}(1),4516513296']"
      ]
     },
     "execution_count": 79,
     "metadata": {},
     "output_type": "execute_result"
    }
   ],
   "source": [
    "m.getSignature()"
   ]
  },
  {
   "cell_type": "markdown",
   "metadata": {},
   "source": [
    "## LogLogit"
   ]
  },
  {
   "cell_type": "markdown",
   "metadata": {},
   "source": [
    "< LogLogit >{identifier}(nbrOfAlternatives),chosenAlt,altNumber,utility,availability,altNumber,utility,availability, etc."
   ]
  },
  {
   "cell_type": "code",
   "execution_count": 80,
   "metadata": {},
   "outputs": [
    {
     "data": {
      "text/plain": [
       "[b'<Numeric>{4791437648},1',\n",
       " b'<Beta>{4516513296}\"beta1\"[0],0,0',\n",
       " b'<UnaryMinus>{4791540816}(1),4516513296',\n",
       " b'<Beta>{4516512400}\"beta2\"[0],1,1',\n",
       " b'<UnaryMinus>{4791540752}(1),4516512400',\n",
       " b'<Beta>{4516513296}\"beta1\"[0],0,0',\n",
       " b'<UnaryMinus>{4791540624}(1),4516513296',\n",
       " b'<Numeric>{4791540304},1',\n",
       " b'<Numeric>{4791541200},1',\n",
       " b'<Numeric>{4791539920},1',\n",
       " b'<LogLogit>{4791540240}(3),4791437648,0,4791540816,4791540304,1,4791540752,4791541200,2,4791540624,4791539920']"
      ]
     },
     "execution_count": 80,
     "metadata": {},
     "output_type": "execute_result"
    }
   ],
   "source": [
    "expr7.getSignature()"
   ]
  },
  {
   "cell_type": "markdown",
   "metadata": {},
   "source": [
    "## Derive"
   ]
  },
  {
   "cell_type": "markdown",
   "metadata": {},
   "source": [
    "< Derive >{identifier},id of expression to derive,unique index of elementary expression"
   ]
  },
  {
   "cell_type": "code",
   "execution_count": 81,
   "metadata": {},
   "outputs": [
    {
     "data": {
      "text/plain": [
       "[b'<Numeric>{4791438288},1',\n",
       " b'<Beta>{4516513296}\"beta1\"[0],0,0',\n",
       " b'<UnaryMinus>{4791540816}(1),4516513296',\n",
       " b'<Beta>{4516512400}\"beta2\"[0],1,1',\n",
       " b'<UnaryMinus>{4791540752}(1),4516512400',\n",
       " b'<Beta>{4516513296}\"beta1\"[0],0,0',\n",
       " b'<UnaryMinus>{4791540624}(1),4516513296',\n",
       " b'<Numeric>{4516238992},1',\n",
       " b'<Numeric>{4791436304},1',\n",
       " b'<Numeric>{4791435536},1',\n",
       " b'<bioLogLogit>{4791437776}(3),4791438288,0,4791540816,4516238992,1,4791540752,4791436304,2,4791540624,4791435536',\n",
       " b'<Derive>{4791421968},4791437776,1']"
      ]
     },
     "execution_count": 81,
     "metadata": {},
     "output_type": "execute_result"
    }
   ],
   "source": [
    "expr9.getSignature()"
   ]
  },
  {
   "cell_type": "markdown",
   "metadata": {},
   "source": [
    "## Integrate"
   ]
  },
  {
   "cell_type": "markdown",
   "metadata": {},
   "source": [
    "< Integrate >{identifier},id of expression to derive,index of random variable"
   ]
  },
  {
   "cell_type": "code",
   "execution_count": 82,
   "metadata": {},
   "outputs": [
    {
     "data": {
      "text/plain": [
       "[b'<Numeric>{4791444112},0',\n",
       " b'<Numeric>{4791443984},1',\n",
       " b'<Numeric>{4791443856},1',\n",
       " b'<RandomVariable>{4791334544}\"omega\",3,0',\n",
       " b'<UnaryMinus>{4791443664}(1),4791334544',\n",
       " b'<exp>{4791443728}(1),4791443664',\n",
       " b'<Plus>{4791443792}(2),4791443856,4791443728',\n",
       " b'<Divide>{4791443920}(2),4791443984,4791443792',\n",
       " b'<Plus>{4791444048}(2),4791444112,4791443920',\n",
       " b'<Numeric>{4791444112},0',\n",
       " b'<Numeric>{4791443984},1',\n",
       " b'<Numeric>{4791443856},1',\n",
       " b'<RandomVariable>{4791334544}\"omega\",3,0',\n",
       " b'<UnaryMinus>{4791443664}(1),4791334544',\n",
       " b'<exp>{4791443728}(1),4791443664',\n",
       " b'<Plus>{4791443792}(2),4791443856,4791443728',\n",
       " b'<Divide>{4791443920}(2),4791443984,4791443792',\n",
       " b'<Plus>{4791444048}(2),4791444112,4791443920',\n",
       " b'<Times>{4791444176}(2),4791444048,4791444048',\n",
       " b'<Numeric>{4791444368},1',\n",
       " b'<RandomVariable>{4791334544}\"omega\",3,0',\n",
       " b'<UnaryMinus>{4791443536}(1),4791334544',\n",
       " b'<exp>{4791444240}(1),4791443536',\n",
       " b'<Times>{4791444304}(2),4791444368,4791444240',\n",
       " b'<Numeric>{4791444624},1',\n",
       " b'<RandomVariable>{4791334544}\"omega\",3,0',\n",
       " b'<UnaryMinus>{4791444432}(1),4791334544',\n",
       " b'<exp>{4791444496}(1),4791444432',\n",
       " b'<Plus>{4791444560}(2),4791444624,4791444496',\n",
       " b'<Numeric>{4791444752},-2',\n",
       " b'<Power>{4791444688}(2),4791444560,4791444752',\n",
       " b'<Times>{4791444816}(2),4791444304,4791444688',\n",
       " b'<Times>{4791444880}(2),4791444176,4791444816',\n",
       " b'<Numeric>{4791445072},1',\n",
       " b'<Divide>{4791445008}(2),4791444880,4791445072',\n",
       " b'<Integrate>{4791445200},4791445008,0']"
      ]
     },
     "execution_count": 82,
     "metadata": {},
     "output_type": "execute_result"
    }
   ],
   "source": [
    "expr4.getSignature()"
   ]
  },
  {
   "cell_type": "markdown",
   "metadata": {},
   "source": [
    "## Elem"
   ]
  },
  {
   "cell_type": "markdown",
   "metadata": {},
   "source": [
    "< Elem >{identifier}(numberOfExpressions),keyId,value1,expression1,value2,expression2, etc...\n",
    "\n",
    "where\n",
    "- keyId is the identifier of the expression calculating the key,\n",
    "- the number of pairs valuex,expressionx must correspond to the value of numberOfExpressions"
   ]
  },
  {
   "cell_type": "code",
   "execution_count": 83,
   "metadata": {},
   "outputs": [
    {
     "data": {
      "text/plain": [
       "[b'<Variable>{4790998096}\"Person\",3,0',\n",
       " b'<Numeric>{4516514960},2',\n",
       " b'<Beta>{4516513296}\"beta1\"[0],0,0',\n",
       " b'<Times>{4516512976}(2),4516514960,4516513296',\n",
       " b'<Beta>{4516512400}\"beta2\"[0],1,1',\n",
       " b'<UnaryMinus>{4781524304}(1),4516512400',\n",
       " b'<exp>{4781526928}(1),4781524304',\n",
       " b'<Beta>{4516514128}\"beta3\"[1],2,0',\n",
       " b'<Beta>{4516512400}\"beta2\"[0],1,1',\n",
       " b'<Beta>{4516513296}\"beta1\"[0],0,0',\n",
       " b'<GreaterOrEqual>{4516514064}(2),4516512400,4516513296',\n",
       " b'<Times>{4516514448}(2),4516514128,4516514064',\n",
       " b'<Divide>{4516513872}(2),4781526928,4516514448',\n",
       " b'<Minus>{4781526416}(2),4516512976,4516513872',\n",
       " b'<Numeric>{4791420880},2',\n",
       " b'<Beta>{4516513296}\"beta1\"[0],0,0',\n",
       " b'<Times>{4791419344}(2),4791420880,4516513296',\n",
       " b'<Variable>{4790998032}\"Variable1\",5,2',\n",
       " b'<Times>{4791420752}(2),4791419344,4790998032',\n",
       " b'<Beta>{4516512400}\"beta2\"[0],1,1',\n",
       " b'<UnaryMinus>{4791420624}(1),4516512400',\n",
       " b'<Variable>{4790998160}\"Variable2\",6,3',\n",
       " b'<Times>{4791420688}(2),4791420624,4790998160',\n",
       " b'<exp>{4791420944}(1),4791420688',\n",
       " b'<Beta>{4516514128}\"beta3\"[1],2,0',\n",
       " b'<Beta>{4516512400}\"beta2\"[0],1,1',\n",
       " b'<Beta>{4516513296}\"beta1\"[0],0,0',\n",
       " b'<GreaterOrEqual>{4791421008}(2),4516512400,4516513296',\n",
       " b'<Times>{4791421072}(2),4516514128,4791421008',\n",
       " b'<Divide>{4791421136}(2),4791420944,4791421072',\n",
       " b'<Minus>{4791421200}(2),4791420752,4791421136',\n",
       " b'<Elem>{4791459600}(2),4790998096,1,4781526416,2,4791421200']"
      ]
     },
     "execution_count": 83,
     "metadata": {},
     "output_type": "execute_result"
    }
   ],
   "source": [
    "elemExpr.getSignature()"
   ]
  },
  {
   "cell_type": "code",
   "execution_count": null,
   "metadata": {},
   "outputs": [],
   "source": []
  }
 ],
 "metadata": {
  "kernelspec": {
   "display_name": "Python 3",
   "language": "python",
   "name": "python3"
  },
  "language_info": {
   "codemirror_mode": {
    "name": "ipython",
    "version": 3
   },
   "file_extension": ".py",
   "mimetype": "text/x-python",
   "name": "python",
   "nbconvert_exporter": "python",
   "pygments_lexer": "ipython3",
   "version": "3.7.4"
  }
 },
 "nbformat": 4,
 "nbformat_minor": 2
}
