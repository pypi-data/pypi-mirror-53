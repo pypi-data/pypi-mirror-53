{
 "cells": [
  {
   "cell_type": "markdown",
   "metadata": {},
   "source": [
    "# Installation"
   ]
  },
  {
   "cell_type": "markdown",
   "metadata": {},
   "source": [
    "To install nbsphinx-link, run the following from a shell:\n",
    "\n",
    "```bash\n",
    "pip install nbsphinx-link\n",
    "```\n",
    "\n",
    "and add both `nbsphinx` and `nbsphinx_link` as extensions in your Sphinx build config, typicalyl in `conf.py`:\n",
    "\n",
    "```python\n",
    "\n",
    "extensions = [\n",
    "    # ...\n",
    "    # any other extensions you need,\n",
    "    # ...\n",
    "    'nbsphinx',\n",
    "    'nbsphinx_link',\n",
    "]\n",
    "```"
   ]
  }
 ],
 "metadata": {
  "kernelspec": {
   "display_name": "Python 3",
   "language": "python",
   "name": "python3"
  },
  "language_info": {
   "codemirror_mode": {
    "name": "ipython",
    "version": 3
   },
   "file_extension": ".py",
   "mimetype": "text/x-python",
   "name": "python",
   "nbconvert_exporter": "python",
   "pygments_lexer": "ipython3",
   "version": "3.6.5"
  }
 },
 "nbformat": 4,
 "nbformat_minor": 1
}
