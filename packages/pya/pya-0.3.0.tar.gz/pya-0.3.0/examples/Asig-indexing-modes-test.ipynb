{
 "cells": [
  {
   "cell_type": "markdown",
   "metadata": {},
   "source": [
    "# PyA new getitem and setitem (with modes)"
   ]
  },
  {
   "cell_type": "code",
   "execution_count": null,
   "metadata": {},
   "outputs": [],
   "source": [
    "import numpy as np\n",
    "from pya import *\n",
    "import matplotlib.pyplot as plt\n",
    "%matplotlib inline\n",
    "import logging\n",
    "logging.basicConfig(level=logging.WARNING)"
   ]
  },
  {
   "cell_type": "code",
   "execution_count": null,
   "metadata": {},
   "outputs": [],
   "source": [
    "plt.rcParams['figure.figsize'] = [8.0, 1]\n",
    "pya.startup()"
   ]
  },
  {
   "cell_type": "code",
   "execution_count": null,
   "metadata": {},
   "outputs": [],
   "source": [
    "# create some test signals\n",
    "dur = 3.5\n",
    "sr = 1000\n",
    "ts = np.linspace(0, dur, int(dur*sr))\n",
    "sig = np.sin(2*np.pi*50*ts**1.9)\n",
    "a1 = Asig(sig, sr=1000, channels=1, cn=['a'], label='1ch-sig')\n",
    "ak = Asig(np.tile(sig.reshape(3500,1), (1,4)), sr=1000, \n",
    "          label='4ch-sig', cn=['a', 'b', 'c', 'd'])\n",
    "print(\"\", a1,\"\\n\", ak)"
   ]
  },
  {
   "cell_type": "markdown",
   "metadata": {
    "heading_collapsed": true
   },
   "source": [
    "# getitem - row indexing"
   ]
  },
  {
   "cell_type": "code",
   "execution_count": null,
   "metadata": {
    "hidden": true
   },
   "outputs": [],
   "source": [
    "a1[5] # row int"
   ]
  },
  {
   "cell_type": "code",
   "execution_count": null,
   "metadata": {
    "hidden": true
   },
   "outputs": [],
   "source": [
    "a1[1000:2000:5].plot() # row slice"
   ]
  },
  {
   "cell_type": "code",
   "execution_count": null,
   "metadata": {
    "hidden": true
   },
   "outputs": [],
   "source": [
    "a1[2000:1000:-5].plot() # row slice"
   ]
  },
  {
   "cell_type": "code",
   "execution_count": null,
   "metadata": {
    "hidden": true
   },
   "outputs": [],
   "source": [
    "a1[[3,4,5,6,7,8,12]].plot(marker=\"o\", lw=0) # row list"
   ]
  },
  {
   "cell_type": "code",
   "execution_count": null,
   "metadata": {
    "hidden": true
   },
   "outputs": [],
   "source": [
    "a1[np.where(sig>0.8)].plot(lw=1) # row list of booleans"
   ]
  },
  {
   "cell_type": "code",
   "execution_count": null,
   "metadata": {
    "hidden": true
   },
   "outputs": [],
   "source": [
    "a1[{0.5:1}].plot(lw=1) # row time slice"
   ]
  },
  {
   "cell_type": "markdown",
   "metadata": {
    "heading_collapsed": true
   },
   "source": [
    "# getitem - column indexing"
   ]
  },
  {
   "cell_type": "code",
   "execution_count": null,
   "metadata": {
    "hidden": true
   },
   "outputs": [],
   "source": [
    "print(a1[:, 0]) # col int\n",
    "ak[:, 2].plot() # col int"
   ]
  },
  {
   "cell_type": "code",
   "execution_count": null,
   "metadata": {
    "hidden": true
   },
   "outputs": [],
   "source": [
    "ak[:,2:4].plot(offset=4) # column slice"
   ]
  },
  {
   "cell_type": "code",
   "execution_count": null,
   "metadata": {
    "hidden": true
   },
   "outputs": [],
   "source": [
    "ak[:,[0,1,3]].plot(offset=4) # column list "
   ]
  },
  {
   "cell_type": "code",
   "execution_count": null,
   "metadata": {
    "hidden": true
   },
   "outputs": [],
   "source": [
    "ak[:,['a','c']].plot(offset=4) # column by names in list"
   ]
  },
  {
   "cell_type": "code",
   "execution_count": null,
   "metadata": {
    "hidden": true
   },
   "outputs": [],
   "source": [
    "ak[:,'c'].plot(offset=4) # column by single name"
   ]
  },
  {
   "cell_type": "code",
   "execution_count": null,
   "metadata": {
    "hidden": true
   },
   "outputs": [],
   "source": [
    "ak[:,[True, True, False, True]].plot(offset=4) # column by bool list"
   ]
  },
  {
   "cell_type": "markdown",
   "metadata": {
    "heading_collapsed": true
   },
   "source": [
    "# getitem - row & column indexing"
   ]
  },
  {
   "cell_type": "code",
   "execution_count": null,
   "metadata": {
    "hidden": true
   },
   "outputs": [],
   "source": [
    "ak[1000:3000:10,[0,1,3]].plot(offset=4) # column list "
   ]
  },
  {
   "cell_type": "markdown",
   "metadata": {
    "hidden": true
   },
   "source": [
    "* seems to work, no extensive test done, but should be fine..."
   ]
  },
  {
   "cell_type": "code",
   "execution_count": null,
   "metadata": {
    "hidden": true
   },
   "outputs": [],
   "source": [
    "ak2 = Asig(5.0, channels=4, sr=1000, label='canvas', cn=['1', '2', '3', '4'])\n",
    "ak2"
   ]
  },
  {
   "cell_type": "markdown",
   "metadata": {},
   "source": [
    "# setitem and getitem - mode None = numpy default"
   ]
  },
  {
   "cell_type": "markdown",
   "metadata": {},
   "source": [
    "**mode None = numpy default conventions for array assignments**"
   ]
  },
  {
   "cell_type": "markdown",
   "metadata": {},
   "source": [
    "**basic test with lists and consts**"
   ]
  },
  {
   "cell_type": "code",
   "execution_count": null,
   "metadata": {},
   "outputs": [],
   "source": [
    "a = Asig(60, sr=10, channels=4)\n",
    "b = a[:10,0]"
   ]
  },
  {
   "cell_type": "code",
   "execution_count": null,
   "metadata": {},
   "outputs": [],
   "source": [
    "# test with ndim==1 signal\n",
    "b[3:6] = [1,2,3]\n",
    "print(b.sig)\n",
    "b[3:6] = np.array([3,4,5])\n",
    "print(b.sig)"
   ]
  },
  {
   "cell_type": "code",
   "execution_count": null,
   "metadata": {},
   "outputs": [],
   "source": [
    "# test with ndim=2 signal\n",
    "a.sig[50:55,[0,1]] = [7, 4]\n",
    "a[49:56].sig"
   ]
  },
  {
   "cell_type": "code",
   "execution_count": null,
   "metadata": {},
   "outputs": [],
   "source": [
    "a[50:55,[0,1]] = np.array([1,2])\n",
    "a.sig[50:]"
   ]
  },
  {
   "cell_type": "code",
   "execution_count": null,
   "metadata": {},
   "outputs": [],
   "source": [
    "a[50:90,0] = 4\n",
    "a.plot(offset=1)"
   ]
  },
  {
   "cell_type": "markdown",
   "metadata": {},
   "source": [
    "**now some tests with multichannel audio**"
   ]
  },
  {
   "cell_type": "code",
   "execution_count": null,
   "metadata": {},
   "outputs": [],
   "source": [
    "az = Asig(5.0, sr=1000, channels=4, cn=['c1','c2','c3','c4']).plot(offset=1)"
   ]
  },
  {
   "cell_type": "code",
   "execution_count": null,
   "metadata": {},
   "outputs": [],
   "source": [
    "az[:2000,['c1']] = -1*ak[:2000,['b']]  # invert phase of first 2 secs of ch 'a'\n",
    "az.plot(offset=2)"
   ]
  },
  {
   "cell_type": "code",
   "execution_count": null,
   "metadata": {},
   "outputs": [],
   "source": [
    "az[1000:4500,1] = ak[::-1,2].fade_in(0.2).fade_out(0.5)\n",
    "az.plot(offset=2)"
   ]
  },
  {
   "cell_type": "code",
   "execution_count": null,
   "metadata": {},
   "outputs": [],
   "source": [
    "az[:3500,2] = a1\n",
    "az.plot(offset=2)"
   ]
  },
  {
   "cell_type": "code",
   "execution_count": null,
   "metadata": {},
   "outputs": [],
   "source": [
    "az[1000:2000,3] = a1[{0:1},:]\n",
    "az.plot(offset=2)"
   ]
  },
  {
   "cell_type": "code",
   "execution_count": null,
   "metadata": {},
   "outputs": [],
   "source": [
    "az[{4:None},3] = ak[{2:3},3].fade_out(0.3)\n",
    "az.plot(offset=2)"
   ]
  },
  {
   "cell_type": "markdown",
   "metadata": {},
   "source": [
    "# setitem mode 'bound': truncate src at end of destination"
   ]
  },
  {
   "cell_type": "code",
   "execution_count": null,
   "metadata": {},
   "outputs": [],
   "source": [
    "a1.b[:] += 0.4*ak[-500:,3]; a1.plot()"
   ]
  },
  {
   "cell_type": "code",
   "execution_count": null,
   "metadata": {},
   "outputs": [],
   "source": [
    "a1.b[{3.3:None}] = 2*ak[-400:,['d']]\n",
    "a1.plot()"
   ]
  },
  {
   "cell_type": "code",
   "execution_count": null,
   "metadata": {},
   "outputs": [],
   "source": [
    "a1.b[{3.3:None},0] = -8*ak[-600:,2:3]; a1.plot()"
   ]
  },
  {
   "cell_type": "code",
   "execution_count": null,
   "metadata": {},
   "outputs": [],
   "source": [
    "# a1.b[{3.3:None},0] = -8*ak[-600:,0]; a1.plot()"
   ]
  },
  {
   "cell_type": "code",
   "execution_count": null,
   "metadata": {},
   "outputs": [],
   "source": [
    "a1 = pya.sine(freq=100, dur=0.2, sr=1000).fade_out(0.1).plot()"
   ]
  },
  {
   "cell_type": "markdown",
   "metadata": {
    "heading_collapsed": true
   },
   "source": [
    "# bound add test"
   ]
  },
  {
   "cell_type": "code",
   "execution_count": null,
   "metadata": {
    "hidden": true
   },
   "outputs": [],
   "source": [
    "# use time slice to mix faded sine tones to a canvas ac\n",
    "ac = Asig(4.0, sr=8000)\n",
    "for i in range(200):\n",
    "    ac.b[{0.02*i:None}] += 0.5*pya.sine(freq=400+10*i, dur=0.2, sr=8000).fade_in(0.01).fade_out(0.15)\n",
    "ac.plot().play(onset=0.3)"
   ]
  },
  {
   "cell_type": "code",
   "execution_count": null,
   "metadata": {
    "hidden": true
   },
   "outputs": [],
   "source": [
    "a = Asig(1.0, sr=100, channels=2, cn=['a','b'])"
   ]
  },
  {
   "cell_type": "code",
   "execution_count": null,
   "metadata": {
    "hidden": true
   },
   "outputs": [],
   "source": [
    "a.b[90:100,:] = 4.0  # set both channels\n",
    "a.plot(offset=2)"
   ]
  },
  {
   "cell_type": "code",
   "execution_count": null,
   "metadata": {
    "hidden": true
   },
   "outputs": [],
   "source": [
    "a[50:60,0] = 2.0\n",
    "a.plot(offset=5)"
   ]
  },
  {
   "cell_type": "code",
   "execution_count": null,
   "metadata": {
    "hidden": true
   },
   "outputs": [],
   "source": [
    "a.sig[:,[0,1]] *= [[1,0.3]]\n",
    "a.plot(offset=5)"
   ]
  },
  {
   "cell_type": "code",
   "execution_count": null,
   "metadata": {
    "hidden": true
   },
   "outputs": [],
   "source": [
    "a[:,[0,1]] *= [1,2]\n",
    "a.plot(offset=2)"
   ]
  },
  {
   "cell_type": "code",
   "execution_count": null,
   "metadata": {
    "hidden": true
   },
   "outputs": [],
   "source": [
    "a = pya.sine(freq=400, dur=0.2, sr=8000)\n",
    "a[{0.05:0.1}] = 0\n",
    "a.b[{0.075:0.077}] = 4\n",
    "a.plot()"
   ]
  },
  {
   "cell_type": "code",
   "execution_count": null,
   "metadata": {
    "hidden": true
   },
   "outputs": [],
   "source": [
    "a1.sig[100:150] = 0.5\n",
    "a1.plot()"
   ]
  },
  {
   "cell_type": "markdown",
   "metadata": {},
   "source": [
    "# setmode extend - first working example :-)"
   ]
  },
  {
   "cell_type": "code",
   "execution_count": null,
   "metadata": {},
   "outputs": [],
   "source": [
    "a = Asig(0.8, sr=1000, channels=4, cn=['a', 'b', 'c', 'd'])\n",
    "b = pya.sine(dur=0.6, freq=100, sr=1000).fade_in(0.3).fade_out(0.3)"
   ]
  },
  {
   "cell_type": "code",
   "execution_count": null,
   "metadata": {},
   "outputs": [],
   "source": [
    "b.plot()"
   ]
  },
  {
   "cell_type": "code",
   "execution_count": null,
   "metadata": {
    "scrolled": false
   },
   "outputs": [],
   "source": [
    "# test with extend set mono signal to a, initially only 0.8secs long...\n",
    "a.x[:,0] = 0.2*b  # this fits in without need to extend\n",
    "print(a)\n",
    "a.x[300:,1] = 0.5*b   \n",
    "print(a)\n",
    "a.x[1300:,'c'] = 0.2*b[::2] # compressed sig in ch 'c'\n",
    "print(a)\n",
    "a.x[1900:,3] = 0.2*b[300:] # only end of tone in ch 'd'\n",
    "print(a)\n",
    "a.plot(offset=1)"
   ]
  },
  {
   "cell_type": "markdown",
   "metadata": {},
   "source": [
    "**extend has still lots of issues - e.g. shape problems, += doesn't work etc.**"
   ]
  }
 ],
 "metadata": {
  "kernelspec": {
   "display_name": "Python 3",
   "language": "python",
   "name": "python3"
  },
  "language_info": {
   "codemirror_mode": {
    "name": "ipython",
    "version": 3
   },
   "file_extension": ".py",
   "mimetype": "text/x-python",
   "name": "python",
   "nbconvert_exporter": "python",
   "pygments_lexer": "ipython3",
   "version": "3.7.2"
  }
 },
 "nbformat": 4,
 "nbformat_minor": 2
}
