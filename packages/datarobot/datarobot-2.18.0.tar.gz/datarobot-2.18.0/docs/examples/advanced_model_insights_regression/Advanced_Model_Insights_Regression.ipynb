{
 "cells": [
  {
   "cell_type": "markdown",
   "metadata": {},
   "source": [
    "# Advanced Model Insights for Regression\n",
    "\n",
    "This notebook explores additional options for model insights added in the v2.18 release of the DataRobot API that apply specifically to regression models.\n",
    "\n",
    "## Prerequisites\n",
    "In order to run this notebook yourself, you will need the following:\n",
    "\n",
    "- This notebook. If you are viewing this in the HTML documentation bundle, you can download all of the example notebooks and supporting materials from [Downloads](../index.rst).\n",
    "- A DataRobot API token. You can find your API token by logging into the DataRobot Web User Interface and looking in your `Profile`."
   ]
  },
  {
   "cell_type": "markdown",
   "metadata": {},
   "source": [
    "## Preparation\n",
    "\n",
    "This notebook explores additional options for model insights added in the v2.7 release of the DataRobot API.\n",
    "\n",
    "Let's start with importing some packages that will help us with presentation (if you don't have them installed already, you'll have to install them to run this notebook)."
   ]
  },
  {
   "cell_type": "code",
   "execution_count": 1,
   "metadata": {},
   "outputs": [],
   "source": [
    "%matplotlib inline\n",
    "import matplotlib.pyplot as plt\n",
    "import pandas as pd\n",
    "import datarobot as dr\n",
    "import numpy as np\n",
    "from datarobot.enums import AUTOPILOT_MODE"
   ]
  },
  {
   "cell_type": "markdown",
   "metadata": {},
   "source": [
    "## Configure the Python Client\n",
    "Configuring the client requires the following two things:\n",
    "\n",
    "- A DataRobot endpoint - where the API server can be found\n",
    "- A DataRobot API token - a token the server uses to identify and validate the user making API requests\n",
    "\n",
    "The endpoint is usually the URL you would use to log into the DataRobot Web User Interface (e.g., https://app.datarobot.com) with \"/api/v2/\" appended, e.g., (https://app.datarobot.com/api/v2/).\n",
    "\n",
    "You can find your API token by logging into the DataRobot Web User Interface and looking in your `Profile.`\n",
    "\n",
    "The Python client can be configured in several ways. The example we'll use in this notebook is to point to a `yaml` file that has the information. This is a text file containing two lines like this:\n",
    "```yaml\n",
    "endpoint: https://app.datarobot.com/api/v2/\n",
    "token: not-my-real-token\n",
    "```\n",
    "\n",
    "If you want to run this notebook without changes, please save your configuration in a file located under your home directory called `~/.config/datarobot/drconfig.yaml`."
   ]
  },
  {
   "cell_type": "code",
   "execution_count": 2,
   "metadata": {},
   "outputs": [
    {
     "data": {
      "text/plain": [
       "<datarobot.rest.RESTClientObject at 0x111096e10>"
      ]
     },
     "execution_count": 2,
     "metadata": {},
     "output_type": "execute_result"
    }
   ],
   "source": [
    "# Initialization with arguments\n",
    "# dr.Client(token='<API TOKEN>', endpoint='https://<YOUR ENDPOINT>/api/v2/')\n",
    "\n",
    "# Initialization with a config file in the same directory as this notebook\n",
    "# dr.Client(config_path='drconfig.yaml')\n",
    "\n",
    "# Initialization with a config file located at\n",
    "# ~/.config/datarobot/dr.config.yaml\n",
    "dr.Client()"
   ]
  },
  {
   "cell_type": "markdown",
   "metadata": {},
   "source": [
    "## Create Project with features\n",
    "\n",
    "Create a new project using the 10K_diabetes dataset. This dataset contains a binary classification on the target `readmitted`.  This project is an excellent example of the advanced model insights available from DataRobot models."
   ]
  },
  {
   "cell_type": "code",
   "execution_count": 3,
   "metadata": {},
   "outputs": [
    {
     "name": "stdout",
     "output_type": "stream",
     "text": [
      "Project ID: 5d2468b7962d7462490934e1\n"
     ]
    }
   ],
   "source": [
    "url = 'https://s3.amazonaws.com/datarobot_public_datasets/NCAAB2009_20.csv'\n",
    "project = dr.Project.create(\n",
    "    url, project_name=\"NCAA Men's Basketball 2008-09 season\"\n",
    ")\n",
    "print('Project ID: {}'.format(project.id))"
   ]
  },
  {
   "cell_type": "code",
   "execution_count": 4,
   "metadata": {},
   "outputs": [
    {
     "data": {
      "text/plain": [
       "Project(NCAA Men's Basketball 2008-09 season)"
      ]
     },
     "execution_count": 4,
     "metadata": {},
     "output_type": "execute_result"
    }
   ],
   "source": [
    "# Increase the worker count to your maximum available the project runs faster.\n",
    "project.set_worker_count(-1)"
   ]
  },
  {
   "cell_type": "code",
   "execution_count": 5,
   "metadata": {},
   "outputs": [
    {
     "data": {
      "text/plain": [
       "Project(NCAA Men's Basketball 2008-09 season)"
      ]
     },
     "execution_count": 5,
     "metadata": {},
     "output_type": "execute_result"
    }
   ],
   "source": [
    "target_feature_name = 'score_delta'\n",
    "project.set_target(target_feature_name, mode=AUTOPILOT_MODE.QUICK)"
   ]
  },
  {
   "cell_type": "code",
   "execution_count": 6,
   "metadata": {},
   "outputs": [
    {
     "name": "stdout",
     "output_type": "stream",
     "text": [
      "In progress: 4, queued: 6 (waited: 0s)\n",
      "In progress: 4, queued: 6 (waited: 0s)\n",
      "In progress: 4, queued: 6 (waited: 1s)\n",
      "In progress: 4, queued: 6 (waited: 1s)\n",
      "In progress: 4, queued: 6 (waited: 2s)\n",
      "In progress: 4, queued: 6 (waited: 4s)\n",
      "In progress: 4, queued: 5 (waited: 8s)\n",
      "In progress: 4, queued: 4 (waited: 14s)\n",
      "In progress: 4, queued: 0 (waited: 27s)\n",
      "In progress: 2, queued: 0 (waited: 48s)\n",
      "In progress: 4, queued: 9 (waited: 68s)\n",
      "In progress: 4, queued: 8 (waited: 88s)\n",
      "In progress: 4, queued: 7 (waited: 108s)\n",
      "In progress: 4, queued: 3 (waited: 129s)\n",
      "In progress: 3, queued: 0 (waited: 149s)\n",
      "In progress: 1, queued: 0 (waited: 169s)\n",
      "In progress: 0, queued: 0 (waited: 189s)\n"
     ]
    }
   ],
   "source": [
    "project.wait_for_autopilot()"
   ]
  },
  {
   "cell_type": "code",
   "execution_count": 7,
   "metadata": {},
   "outputs": [
    {
     "data": {
      "text/plain": [
       "Model('Vowpal Wabbit Regressor')"
      ]
     },
     "execution_count": 7,
     "metadata": {},
     "output_type": "execute_result"
    }
   ],
   "source": [
    "models = project.get_models()\n",
    "model = models[0]\n",
    "model"
   ]
  },
  {
   "cell_type": "markdown",
   "metadata": {},
   "source": [
    "Let's set some color constants to replicate visual style of the DataRobot residuals chart."
   ]
  },
  {
   "cell_type": "code",
   "execution_count": 8,
   "metadata": {},
   "outputs": [],
   "source": [
    "dr_dark_blue = '#08233F'\n",
    "dr_blue = '#1F77B4'\n",
    "dr_orange = '#FF7F0E'\n",
    "dr_red = '#BE3C28'\n",
    "dr_light_blue = '#3CA3E8'"
   ]
  },
  {
   "cell_type": "markdown",
   "metadata": {},
   "source": [
    "## Residuals Chart\n",
    "\n",
    "The residuals chart is only available for non-time aware regression models. It provides a scatter plot showing how predicted values relate to actual values across the data. For large data sets, the value is downsampled to a maximum of 1,000 data points per data source (validation, cross validation, and holdout).\n",
    "\n",
    "The residuals chart also offers the residual mean (arithmetic mean of predicted values minus actual values) and coefficient of determination, also known as the r-squared value."
   ]
  },
  {
   "cell_type": "code",
   "execution_count": 9,
   "metadata": {},
   "outputs": [],
   "source": [
    "residuals = model.get_all_residuals_charts()"
   ]
  },
  {
   "cell_type": "code",
   "execution_count": 10,
   "metadata": {},
   "outputs": [
    {
     "name": "stdout",
     "output_type": "stream",
     "text": [
      "[ResidualChart(holdout), ResidualChart(validation), ResidualChart(crossValidation)]\n"
     ]
    }
   ],
   "source": [
    "print(residuals)"
   ]
  },
  {
   "cell_type": "markdown",
   "metadata": {},
   "source": [
    "As you see, there are three charts for this model corresponding to the three data sources. Let's look at the validation data."
   ]
  },
  {
   "cell_type": "code",
   "execution_count": 11,
   "metadata": {},
   "outputs": [
    {
     "name": "stdout",
     "output_type": "stream",
     "text": [
      "Coefficient of determination: 0.15284583912593375\n",
      "Residual mean: 1.671845839285714\n"
     ]
    }
   ],
   "source": [
    "validation = residuals[1]\n",
    "print('Coefficient of determination:', validation.coefficient_of_determination)\n",
    "print('Residual mean:', validation.residual_mean)"
   ]
  },
  {
   "cell_type": "code",
   "execution_count": 12,
   "metadata": {},
   "outputs": [
    {
     "data": {
      "text/plain": [
       "Text(0.5,1.04,'Predicted Values vs. Actual Values')"
      ]
     },
     "execution_count": 12,
     "metadata": {},
     "output_type": "execute_result"
    },
    {
     "data": {
      "image/png": "[encoded data removed]",
      "text/plain": [
       "<Figure size 432x288 with 1 Axes>"
      ]
     },
     "metadata": {
      "needs_background": "light"
     },
     "output_type": "display_data"
    }
   ],
   "source": [
    "actual, predicted = zip(*validation.data)\n",
    "data = {'actual': actual, 'predicted': predicted}\n",
    "data_frame = pd.DataFrame(data)\n",
    "\n",
    "plot = data_frame.plot.scatter(\n",
    "    x='actual',\n",
    "    y='predicted',\n",
    "    legend=False,\n",
    "    color=dr_light_blue,\n",
    ")\n",
    "plot.set_facecolor(dr_dark_blue)\n",
    "\n",
    "# define our axes with a minuscule bit of padding\n",
    "min_x = min(data['actual']) - 5\n",
    "max_x = max(data['actual']) + 5\n",
    "min_y = min(data['predicted']) - 5\n",
    "max_y = max(data['predicted']) + 5\n",
    "\n",
    "biggest_value = max(abs(i) for i in [min_x, max_x, min_y, max_y])\n",
    "\n",
    "# plot a diagonal 1:1 line to show the \"perfect fit\" case\n",
    "diagonal = np.linspace(-biggest_value, biggest_value, 100)\n",
    "plt.plot(diagonal, diagonal, color='gray')\n",
    "\n",
    "plt.xlabel('Actual Value')\n",
    "plt.ylabel('Predicted Value')\n",
    "plt.axis('equal')\n",
    "plt.xlim(min_x, max_x)\n",
    "plt.ylim(min_y, max_y)\n",
    "\n",
    "plt.title('Predicted Values vs. Actual Values', y=1.04)"
   ]
  }
 ],
 "metadata": {
  "kernelspec": {
   "display_name": "Python 3",
   "language": "python",
   "name": "python3"
  },
  "language_info": {
   "codemirror_mode": {
    "name": "ipython",
    "version": 3
   },
   "file_extension": ".py",
   "mimetype": "text/x-python",
   "name": "python",
   "nbconvert_exporter": "python",
   "pygments_lexer": "ipython3",
   "version": "3.7.3"
  }
 },
 "nbformat": 4,
 "nbformat_minor": 1
}
